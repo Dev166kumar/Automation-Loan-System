{
 "cells": [
  {
   "cell_type": "markdown",
   "id": "1011ca12",
   "metadata": {},
   "source": [
    "# Array Sequences"
   ]
  },
  {
   "cell_type": "markdown",
   "id": "d4b45b6a",
   "metadata": {},
   "source": [
    "What to Expect in this Section"
   ]
  },
  {
   "cell_type": "code",
   "execution_count": 6,
   "id": "6ad3bfdc",
   "metadata": {},
   "outputs": [],
   "source": [
    "# # # Introduction to Arrays\n",
    "# # # Low Level Arrays\n",
    "# # # Dynamic Arrays and Amortization\n",
    "# # # Array based \"Mini Project\"\n",
    "# # # Several Array Intervies Problems\n",
    "\n",
    "# In this lecture we will briefly set the background for arrays in Python.\n",
    "# # Term \"array sequence\" is general\n",
    "# # Python has 3 main sequence classes:\n",
    "# - List: [1,2,3]\n",
    "# - Tuple: (1,2,3)\n",
    "# - String: '123'\n",
    "# # All support indexing (e.g. t[0]=1)\n",
    "\n",
    "# ## Rest of this Section.\n",
    "# # Rest of this section will focus on various aspects of arrays.\n",
    "# # How arrays are constructed.\n",
    "# # Focus will be heavy on theory.\n",
    "# # Interview problems heavy on practical usage.\n",
    "\n"
   ]
  },
  {
   "cell_type": "markdown",
   "id": "540fd75a",
   "metadata": {},
   "source": [
    "# Low Level Arrays"
   ]
  },
  {
   "cell_type": "markdown",
   "id": "ffffaba3",
   "metadata": {},
   "source": [
    "How Computer Store Information"
   ]
  },
  {
   "cell_type": "code",
   "execution_count": 7,
   "id": "0f46b81a",
   "metadata": {},
   "outputs": [],
   "source": [
    "# Focus on computer memory\n",
    "# Memory address\n",
    "# Units of memory (bits and bytes)\n",
    "# Memory retieval\n",
    "# Note: Text heavy slides!\n",
    "    "
   ]
  },
  {
   "cell_type": "markdown",
   "id": "04f3842b",
   "metadata": {},
   "source": [
    "Low-level computer architecture"
   ]
  },
  {
   "cell_type": "code",
   "execution_count": 1,
   "id": "43730b6a",
   "metadata": {},
   "outputs": [],
   "source": [
    "# # Memory of a computer stored in bits\n",
    "# # Typical unit is byte, which is 8 bits\n",
    "# # Computers typically use a memory address.\n",
    "# # Each byte associated with unique address.\n",
    "# - Byte #2144 versus Byte #2147\n"
   ]
  },
  {
   "cell_type": "markdown",
   "id": "2077b659",
   "metadata": {},
   "source": [
    "# Arrays"
   ]
  },
  {
   "cell_type": "code",
   "execution_count": 2,
   "id": "e53b81a9",
   "metadata": {},
   "outputs": [],
   "source": [
    "# # Representation of computer memory\n",
    "\n",
    "# # Individual bytes with consecutive addresses\n",
    "\n",
    "# # Computer hardware is designed, in theory, so that any byte of the \n",
    "# main memory can be efficiently accessed\n",
    "\n",
    "# # Computer's main memory performs as random access memory (RAM).\n",
    "\n",
    "# # Just as easy to retrieve byte #8675309 as it is to retrieve byte #309.\n",
    "\n",
    "# # Individual byte of memory can be stored or retrieved in O(1) time.\n",
    "\n",
    "# # Programming language keeps track of the association between an \n",
    "# identifier and the memory address.\n",
    "\n",
    "# # May want a video game to keep track of the top ten scores for that game.\n",
    "\n",
    "# # Prefer to use a single name for the group \n",
    "\n",
    "# # Use index numbers to refer to the scores in that group.\n",
    "\n",
    "# # A group of related variables can be stored one after another in a \n",
    "# contiguous portion of the computer's memory.\n",
    "\n",
    "# # We will denote such a representation as an array.\n",
    "\n",
    "# # A text string is stored as an ordered sequence of individaul characters.\n",
    "\n",
    "# # Python internally represents each Unicode character with 16 bits \n",
    "# (i.e., 2 bytes).\n",
    "\n",
    "# # Python internally represents each Unicode character with 16 bits\n",
    "# (i.e., 2 bytes)\n",
    "\n",
    "# # Six-character string, such as 'SAMPLE' would be stored in 12 consecutive\n",
    "# bytes of memory.\n",
    "\n",
    "# # This is an array of six characters.\n",
    "\n",
    "# # Each location within an array as a cell\n",
    "\n",
    "# # Integer index to describe its location\n",
    "\n",
    "# # Each cell of an array uses the same number of bytes.\n",
    "\n",
    "# # Allows any cell to be accessed in constant time\n",
    "\n",
    "# # Appropriate memory address can be computed using the calculation,\n",
    "# start + (cellsize)(index)\n",
    "\n",
    "# # Higher level abstraction\n",
    "\n",
    "# # Basic abstraction for real-world discussion\n",
    "\n"
   ]
  },
  {
   "cell_type": "markdown",
   "id": "875b3cf3",
   "metadata": {},
   "source": [
    "# Referential Arrays"
   ]
  },
  {
   "cell_type": "markdown",
   "id": "98676d99",
   "metadata": {},
   "source": [
    "Referential Arrays examples"
   ]
  },
  {
   "cell_type": "code",
   "execution_count": 4,
   "id": "6ecf1a52",
   "metadata": {},
   "outputs": [],
   "source": [
    "# ## Final Topic of this lecture\n",
    "\n",
    "# # Imagine 100 student names with ID numbers \n",
    "\n",
    "# # Each cell of the array needs to have the same number of bytes\n",
    "\n",
    "# # How can we avoid having to have a series of names?\n",
    "\n",
    "# # We can use an array of object References\n",
    "\n",
    "# # Each element is a reference to the object.\n",
    "\n",
    "# # A single list instance may include multiple references to the same \n",
    "# object as elements of the list.\n",
    "\n",
    "# # Single object can be an element of two or more lists.\n",
    "\n",
    "# # When computing the slice of a list, the result is a new list instance.\n",
    "\n",
    "# # New list has references to the same elements that are in the original\n",
    "# list.\n",
    "\n",
    "# # When computing the slice of a list, the result is a new list instance.\n",
    "\n",
    "# # New list has references to the same elements that are in the original list.\n",
    "\n",
    "# # temp = primes[3:6]\n",
    "\n",
    "# # temp[2] = 15\n"
   ]
  },
  {
   "cell_type": "markdown",
   "id": "299c95b9",
   "metadata": {},
   "source": [
    "Copying Arrays"
   ]
  },
  {
   "cell_type": "code",
   "execution_count": 5,
   "id": "b404f992",
   "metadata": {},
   "outputs": [],
   "source": [
    "# # backup = list(primes)\n",
    "\n",
    "# # This produces a new list that is a shallow copy in that it references\n",
    "# the same elements as in the first list.\n",
    "\n",
    "# # If the contents of the list were of a mutable type, a deep copy, meaning \n",
    "# a new list with new elements, can be produced by using the deepcopy \n",
    "# function from the copy module.\n",
    "\n",
    "# # counters = [0]*8\n",
    "\n",
    "# # All eight cells reference the same object!\n",
    "\n",
    "# # counters[2] += 1 \n",
    "\n",
    "# # Does not technically change the value of the existing interger instance.\n",
    "# This computes a new integer\n",
    "\n",
    "# # primes.extend(extras)\n",
    "\n",
    "# # "
   ]
  },
  {
   "cell_type": "markdown",
   "id": "f366a4b9",
   "metadata": {},
   "source": [
    "# Review"
   ]
  },
  {
   "cell_type": "code",
   "execution_count": 6,
   "id": "1a7e2f92",
   "metadata": {},
   "outputs": [],
   "source": [
    "# Basic Computer Architecture\n",
    "\n",
    "# Low-level array representation\n",
    "\n",
    "# Referential Arrays"
   ]
  },
  {
   "cell_type": "code",
   "execution_count": null,
   "id": "93932738",
   "metadata": {},
   "outputs": [],
   "source": [
    " "
   ]
  },
  {
   "cell_type": "markdown",
   "id": "0c07da10",
   "metadata": {},
   "source": [
    "# Dynamic Arrays"
   ]
  },
  {
   "cell_type": "code",
   "execution_count": 1,
   "id": "8157f3e0",
   "metadata": {},
   "outputs": [],
   "source": [
    "# Don't need to specify how an array is beforehand.\n",
    "\n",
    "# A list instance often has greater capacity than current length.\n",
    "\n",
    "# if elements keep getting appended, eventually this extra space runs out.\n",
    "\n",
    "# Let's show an example of this extra \"room\" with a live code demonstration!\n"
   ]
  },
  {
   "cell_type": "code",
   "execution_count": null,
   "id": "a7325743",
   "metadata": {},
   "outputs": [],
   "source": []
  },
  {
   "cell_type": "code",
   "execution_count": 2,
   "id": "689e903c",
   "metadata": {},
   "outputs": [
    {
     "name": "stdout",
     "output_type": "stream",
     "text": [
      "Length:   0; Size in bytes:   56\n",
      "Length:   1; Size in bytes:   88\n",
      "Length:   2; Size in bytes:   88\n",
      "Length:   3; Size in bytes:   88\n",
      "Length:   4; Size in bytes:   88\n",
      "Length:   5; Size in bytes:  120\n",
      "Length:   6; Size in bytes:  120\n",
      "Length:   7; Size in bytes:  120\n",
      "Length:   8; Size in bytes:  120\n",
      "Length:   9; Size in bytes:  184\n"
     ]
    }
   ],
   "source": [
    "import sys    # it allows us to use \"sysgetsizeof()\" function that use to know \n",
    "              # the actual size in bytes.\n",
    "\n",
    "\n",
    "# Set n\n",
    "n = 10\n",
    "\n",
    "data = []\n",
    "\n",
    "for i in range(n):\n",
    "    \n",
    "    # Number of elements\n",
    "    a = len(data)\n",
    "    \n",
    "    # Actual Size in Bytes\n",
    "    b = sys.getsizeof(data)\n",
    "    \n",
    "    print('Length: {0:3d}; Size in bytes: {1:4d}'.format(a,b))\n",
    "    \n",
    "    # increase Length by one\n",
    "    data.append(n)"
   ]
  },
  {
   "cell_type": "code",
   "execution_count": 3,
   "id": "3830b108",
   "metadata": {},
   "outputs": [],
   "source": [
    "# Let's show an example of this extra \"room\" with a live code demonstration!\n"
   ]
  },
  {
   "cell_type": "markdown",
   "id": "760a13dc",
   "metadata": {},
   "source": [
    "Dynamic Array Implementation"
   ]
  },
  {
   "cell_type": "code",
   "execution_count": 4,
   "id": "8c534436",
   "metadata": {},
   "outputs": [],
   "source": [
    "# # The key to provide means to grow the array \"A\" that stores the elements \n",
    "# of a list.\n",
    "\n",
    "# # We can't actually grow that array, its capacity is fixed.\n",
    "\n",
    "# # If an element is appended to a list at a time when the underlying \n",
    "# array is full, we'll need to perform the following steps....\n",
    "\n",
    "# # Allocate a new array \"B\" with larger capacity.\n",
    "\n",
    "# # Set B[i] = A[i], for i = 0, ...,n-1, where n denotes current number ot\n",
    "# items.\n",
    "\n",
    "# # Set A = B, that is, we henceforth use B as the array supporting the list.\n",
    "\n",
    "# # Insert the new element in the new array.\n",
    "\n",
    "# # (a) Create new array B; (b) store elements of A in B; (c) reassign \n",
    "# reference A to the new array.\n",
    "\n",
    "# # How large of a new array to create?\n",
    "\n",
    "# # A commonly used rule is for the new array to have twice the capacity\n",
    "# of the existing array that has been filled.\n",
    "\n",
    "# # We'll see mathematic reasoning behind this later.\n",
    "\n",
    "# # What a dynamic array is.\n",
    "\n",
    "# # How to theoretically implement a dynamic array.\n",
    "\n",
    "# # Up next: Code an example Dynamic Array!\n",
    "\n",
    "# # "
   ]
  },
  {
   "cell_type": "code",
   "execution_count": null,
   "id": "d37fe3cb",
   "metadata": {},
   "outputs": [],
   "source": []
  },
  {
   "cell_type": "markdown",
   "id": "470c0987",
   "metadata": {},
   "source": [
    "# Dynamic Array Exercise"
   ]
  },
  {
   "cell_type": "markdown",
   "id": "5c4ea369",
   "metadata": {},
   "source": [
    "Dynamic Array Implementation"
   ]
  },
  {
   "cell_type": "code",
   "execution_count": 5,
   "id": "faa404f2",
   "metadata": {},
   "outputs": [],
   "source": [
    "# # A quick note on public vs private methods, we can use underscore_before\n",
    "# the method name to keep it non-public. For example:\n",
    "    "
   ]
  },
  {
   "cell_type": "code",
   "execution_count": 6,
   "id": "7b831a00",
   "metadata": {},
   "outputs": [],
   "source": [
    "class M(object):\n",
    "    \n",
    "    def public(self):\n",
    "        print('Use Tab to see me!')\n",
    "        \n",
    "    def _private(self):               # underscore is used for nonpublic method\n",
    "        print(\"You won't be able to Tab to see me!\")"
   ]
  },
  {
   "cell_type": "code",
   "execution_count": 7,
   "id": "5a7a7783",
   "metadata": {},
   "outputs": [],
   "source": [
    "m = M()"
   ]
  },
  {
   "cell_type": "code",
   "execution_count": 8,
   "id": "9567a28e",
   "metadata": {},
   "outputs": [
    {
     "name": "stdout",
     "output_type": "stream",
     "text": [
      "Use Tab to see me!\n"
     ]
    }
   ],
   "source": [
    "m.public()"
   ]
  },
  {
   "cell_type": "code",
   "execution_count": 9,
   "id": "83a40878",
   "metadata": {},
   "outputs": [
    {
     "name": "stdout",
     "output_type": "stream",
     "text": [
      "You won't be able to Tab to see me!\n"
     ]
    }
   ],
   "source": [
    "m._private()"
   ]
  },
  {
   "cell_type": "code",
   "execution_count": null,
   "id": "6d818b3a",
   "metadata": {},
   "outputs": [],
   "source": []
  },
  {
   "cell_type": "markdown",
   "id": "fa660271",
   "metadata": {},
   "source": [
    "Dynamic Array Implementation"
   ]
  },
  {
   "cell_type": "code",
   "execution_count": 13,
   "id": "105f48d4",
   "metadata": {},
   "outputs": [],
   "source": [
    "import ctypes\n",
    "\n",
    "class DynamicArray(object):\n",
    "    '''\n",
    "    DYNAMIC ARRAY CLASS (Similar to Python List)\n",
    "    '''\n",
    "    \n",
    "    def __init__(self):\n",
    "        self.n = 0 # Count actual elements (Default is 0)\n",
    "        self.capacity = 1 # Default Capacity\n",
    "        self.A = self.make_array(self.capacity)\n",
    "        \n",
    "    def __len__(self):\n",
    "        \"\"\"\n",
    "        Return number of elements sorted in array \n",
    "        \"\"\"\n",
    "        return self.n\n",
    "    \n",
    "    def __getitem__(self,k):\n",
    "        \"\"\"\n",
    "        Return element at index k\n",
    "        \"\"\"\n",
    "        if not 0 <= k <self.n:\n",
    "            return IndexError('K is out of bounds!') # check it k index is in bounds of array!\n",
    "        \n",
    "        return self.A[k] # Retrieve from array at index k\n",
    "    \n",
    "    def append(self,ele):\n",
    "        \"\"\"\n",
    "        Add element to end of the array\n",
    "        \"\"\"\n",
    "        if self.n == self.capacity:\n",
    "            self._resize(2*self.capacity) # Double capacity if not enough room\n",
    "            \n",
    "        self.A[self.n] = ele # Set self.n index to element\n",
    "        self.n += 1\n",
    "        \n",
    "    def _resize(self,new_cap):\n",
    "        \"\"\"\n",
    "        Resize internal array to capacity new_cap\n",
    "        \"\"\"\n",
    "        \n",
    "        B = self.make_array(new_cap) # New bigger array\n",
    "        \n",
    "        for k in range(self.n): # Reference all existing values\n",
    "            B[k] = self.A[k]\n",
    "            \n",
    "        self.A = B # call A the new bigger array \n",
    "        self.capacity = new_cap # Reset the capacity\n",
    "        \n",
    "    def make_array(self,new_cap):\n",
    "        \"\"\"\n",
    "        Returns a new array with new_cap capacity\n",
    "        \"\"\"\n",
    "        return (new_cap * ctypes.py_object)()\n",
    "    \n",
    "    "
   ]
  },
  {
   "cell_type": "code",
   "execution_count": 14,
   "id": "b1207bfd",
   "metadata": {},
   "outputs": [],
   "source": [
    "# Instantiate\n",
    "arr = DynamicArray()\n"
   ]
  },
  {
   "cell_type": "code",
   "execution_count": 15,
   "id": "5f0ea77d",
   "metadata": {},
   "outputs": [],
   "source": [
    "# Append new element\n",
    "arr.append(1)"
   ]
  },
  {
   "cell_type": "code",
   "execution_count": 16,
   "id": "789e5cee",
   "metadata": {},
   "outputs": [
    {
     "data": {
      "text/plain": [
       "1"
      ]
     },
     "execution_count": 16,
     "metadata": {},
     "output_type": "execute_result"
    }
   ],
   "source": [
    "# check length\n",
    "len(arr)"
   ]
  },
  {
   "cell_type": "code",
   "execution_count": 17,
   "id": "d7ee72f3",
   "metadata": {},
   "outputs": [],
   "source": [
    "# Append new element\n",
    "arr.append(2)"
   ]
  },
  {
   "cell_type": "code",
   "execution_count": 18,
   "id": "4f4f1f91",
   "metadata": {},
   "outputs": [
    {
     "data": {
      "text/plain": [
       "2"
      ]
     },
     "execution_count": 18,
     "metadata": {},
     "output_type": "execute_result"
    }
   ],
   "source": [
    "# check length\n",
    "len(arr)"
   ]
  },
  {
   "cell_type": "code",
   "execution_count": 19,
   "id": "e8c59136",
   "metadata": {},
   "outputs": [
    {
     "data": {
      "text/plain": [
       "1"
      ]
     },
     "execution_count": 19,
     "metadata": {},
     "output_type": "execute_result"
    }
   ],
   "source": [
    "# Index\n",
    "arr[0]"
   ]
  },
  {
   "cell_type": "code",
   "execution_count": 20,
   "id": "1c8146a4",
   "metadata": {},
   "outputs": [
    {
     "data": {
      "text/plain": [
       "2"
      ]
     },
     "execution_count": 20,
     "metadata": {},
     "output_type": "execute_result"
    }
   ],
   "source": [
    "arr[1]"
   ]
  },
  {
   "cell_type": "code",
   "execution_count": 21,
   "id": "7eb5bcf4",
   "metadata": {},
   "outputs": [],
   "source": [
    "# Awesome, we made our own dynamic array! Play around with it and see how it auto-resizes. Try \n",
    "# using the same sys.getsizeof() function we worked with previously!"
   ]
  },
  {
   "cell_type": "code",
   "execution_count": null,
   "id": "5e5a4174",
   "metadata": {},
   "outputs": [],
   "source": [
    "       "
   ]
  },
  {
   "cell_type": "markdown",
   "id": "4d3ed759",
   "metadata": {},
   "source": [
    "# AMORTIZATION"
   ]
  },
  {
   "cell_type": "markdown",
   "id": "5342d40a",
   "metadata": {},
   "source": [
    "Amortized Analysis"
   ]
  },
  {
   "cell_type": "code",
   "execution_count": 1,
   "id": "df4ad314",
   "metadata": {},
   "outputs": [],
   "source": [
    "# # The strategy of replacing an array with a new, larger array might at\n",
    "# first seem slow.\n",
    "\n",
    "# # A single append operation may require O(n) time to perform.\n",
    "\n",
    "# # Our new array alllows us to add n new elements before the array must\n",
    "# be replaced again.\n",
    "\n",
    "# # Using an algorithmic design pattern called amortization, we can show\n",
    "# that performing a sequence of such append operations on a dynamic array\n",
    "# is actually quite efficient.\n",
    "\n",
    "# # 1) Allocate memory for a larger array of size, typically twice the \n",
    "# old array.\n",
    "\n",
    "# # 2) Copy the contents of old array to new array.\n",
    "\n",
    "# # 3) Free the old array.\n",
    "\n",
    "# # Watch the lecture video then.....\n",
    "\n",
    "# # Check out resource section of lecture for PDF of a more detailed explanation!\n",
    "\n",
    "# # Up next, a lecture overviewing the interview problems in this section\n",
    "# of the course.\n",
    "\n",
    "# #"
   ]
  },
  {
   "cell_type": "code",
   "execution_count": null,
   "id": "12be8947",
   "metadata": {},
   "outputs": [],
   "source": []
  },
  {
   "cell_type": "markdown",
   "id": "316647b5",
   "metadata": {},
   "source": [
    "# Array Interview Problems"
   ]
  },
  {
   "cell_type": "code",
   "execution_count": 1,
   "id": "e5b2b658",
   "metadata": {},
   "outputs": [],
   "source": [
    "# # Technical Section are essentially split into 2 parts\n",
    "# - Theory and Learning Exercises\n",
    "# - Interview Problems and Solutions\n",
    "\n",
    "# # Sometimes the theory lines up well with common interview questions.\n",
    "\n",
    "# # Unfortunately, this isn't the case with arrays!\n",
    "\n",
    "# # You will most likely find the interview problems (for this section)\n",
    "# not having much in common with the theory and exercise lectures!\n",
    "\n",
    "# #### Don't use Python \"tricks\" when answering the interview problems.\n",
    "\n",
    "# # For example, if asked to reverse a string, don't use:\n",
    "# - my_string[::-1]\n",
    "\n",
    "# ------------------------------------------------------------------------------\n",
    "# # These interview problems will seem very challanging!\n",
    "\n",
    "# # If you find yourself completely stuck try writing out what you would\n",
    "# do manually to solve the problem (brute-force)\n",
    "\n",
    "# # It's highly suggested you try solving these with pen/paper or a\n",
    "# whiteboard first\n",
    "\n",
    "# # Using a whiteboard or pen and paper for a problem makes it much harder!\n",
    "\n",
    "# # If you are completely stuck on the problem and have tried brute forcing it \n",
    "# - Give it 1-2 days and try it again.\n",
    "# - Still stuck? Look at the solution and code it out\n",
    "# - Wait 1-2 days and try the problem again.\n",
    "\n",
    "# # Lectures alternate between problems and their solutions.\n"
   ]
  },
  {
   "cell_type": "code",
   "execution_count": null,
   "id": "7210cd16",
   "metadata": {},
   "outputs": [],
   "source": []
  },
  {
   "cell_type": "markdown",
   "id": "5cceba9e",
   "metadata": {},
   "source": [
    "# Anagram Check- Interview Problem"
   ]
  },
  {
   "cell_type": "markdown",
   "id": "790c13cf",
   "metadata": {},
   "source": [
    "Problem-1"
   ]
  },
  {
   "cell_type": "code",
   "execution_count": 2,
   "id": "18e2395d",
   "metadata": {},
   "outputs": [],
   "source": [
    "\n",
    "\n",
    "# Given two strings, check to see if they are anagrams. An anagram is \n",
    "# when the two strings can be written using the exact same letters (so\n",
    "# you can just rearrange the letters to get a different phrase or word).\n",
    "\n",
    "# For example:\n",
    "    \n",
    "#     \"public relations\" is an anagram of \"crap built on lies.\"\n",
    "    \n",
    "#     \"clint eastwood \" is an anagram of \"old west action\"\n",
    "    \n",
    "# Note: Ignore spaces and capitalization. So \"d go\" is an anagram of \"God\" \n",
    "#     and \"dog\" and \"o d g\".\n",
    "    "
   ]
  },
  {
   "cell_type": "code",
   "execution_count": null,
   "id": "6d3aad46",
   "metadata": {},
   "outputs": [],
   "source": []
  },
  {
   "cell_type": "markdown",
   "id": "1baa94a4",
   "metadata": {},
   "source": [
    "Solution"
   ]
  },
  {
   "cell_type": "code",
   "execution_count": 11,
   "id": "056698c8",
   "metadata": {},
   "outputs": [],
   "source": [
    "def anagram2(s1,s2):\n",
    "    \n",
    "    s1 = s1.replace(' ','').lower()\n",
    "    s2 = s2.replace(' ','').lower()\n",
    "    \n",
    "    # Edge Case Check\n",
    "    if len(s1) != len(s2):\n",
    "        return False\n",
    "    \n",
    "    count = {}\n",
    "    \n",
    "    for letter in s1:\n",
    "        if letter in count:\n",
    "            count[letter] += 1\n",
    "        else:\n",
    "            count[letter] = 1\n",
    "            \n",
    "    for letter in s2:\n",
    "        if letter in count:\n",
    "            count[letter] -= 1\n",
    "        else:\n",
    "            count[letter] = 1\n",
    "            \n",
    "    for k in count:\n",
    "        if count[k] != 0:\n",
    "            return False\n",
    "        \n",
    "        return True\n",
    "            "
   ]
  },
  {
   "cell_type": "code",
   "execution_count": 12,
   "id": "f539c352",
   "metadata": {},
   "outputs": [
    {
     "data": {
      "text/plain": [
       "False"
      ]
     },
     "execution_count": 12,
     "metadata": {},
     "output_type": "execute_result"
    }
   ],
   "source": [
    "anagram2('clint eastwood','olds west action')"
   ]
  },
  {
   "cell_type": "code",
   "execution_count": null,
   "id": "f535d81c",
   "metadata": {},
   "outputs": [],
   "source": []
  },
  {
   "cell_type": "markdown",
   "id": "d69692ed",
   "metadata": {},
   "source": [
    "# Array Pair Sum Interview Problem"
   ]
  },
  {
   "cell_type": "markdown",
   "id": "2c004632",
   "metadata": {},
   "source": [
    "Problem-2"
   ]
  },
  {
   "cell_type": "code",
   "execution_count": 13,
   "id": "e064f2fb",
   "metadata": {},
   "outputs": [],
   "source": [
    "# # Given an integer array,all the unique pairs that sum up to a specific\n",
    "# valu \"k\". So that input:\n",
    "#     Pair_sum([1,3,2,2],4)\n",
    "    \n",
    "    \n",
    "# Would return 2 pairs:\n",
    "\n",
    "#       (1,3)\n",
    "#       (2,2)\n",
    "        \n",
    "# NOTE: FOR TESTING PURPOSE CHANGE YOUR FUNCTION SO IT OUTPUTS THE NUMBER\n",
    "#     OF PAIRS\n",
    "    \n",
    "    \n"
   ]
  },
  {
   "cell_type": "markdown",
   "id": "2e818e3b",
   "metadata": {},
   "source": [
    "Solution"
   ]
  },
  {
   "cell_type": "code",
   "execution_count": null,
   "id": "d8e23b4d",
   "metadata": {},
   "outputs": [],
   "source": [
    "def pair_sum(arr,k):\n",
    "    \n",
    "    if len(arr)<2:\n",
    "        return\n",
    "    \n",
    "    # Sets for tracking\n",
    "    seen = set()\n",
    "    output = set()\n",
    "    \n",
    "    for num in arr:\n",
    "        \n",
    "        target = k-num\n",
    "        \n",
    "        if target not in seen:\n",
    "            seen.add(num)\n",
    "            \n",
    "        else:\n",
    "            output.add(((min(num,target)), max(num,target)))\n",
    "            \n",
    "    #return len(output)\n",
    "    print('\\n'.join(map(str,list(output))))    "
   ]
  },
  {
   "cell_type": "code",
   "execution_count": 10,
   "id": "ef727ccc",
   "metadata": {},
   "outputs": [
    {
     "name": "stdout",
     "output_type": "stream",
     "text": [
      "(1, 3)\n",
      "(2, 2)\n"
     ]
    }
   ],
   "source": [
    "pair_sum([1,3,2,2],4)"
   ]
  },
  {
   "cell_type": "markdown",
   "id": "f564550e",
   "metadata": {},
   "source": [
    "# Find the Missing Element Interview Problem"
   ]
  },
  {
   "cell_type": "markdown",
   "id": "3d6462f1",
   "metadata": {},
   "source": [
    "Problem 3"
   ]
  },
  {
   "cell_type": "code",
   "execution_count": 1,
   "id": "230eaf7a",
   "metadata": {},
   "outputs": [],
   "source": [
    "# # Consider an array of non-negative integers. A second array is \n",
    "# formed by shuffling the elements of the first array and deleting a \n",
    "# random element. Given these two arrays, find which element is missing\n",
    "# in the second array.\n",
    "\n",
    "# # Input:\n",
    "     \n",
    "#     finder([1,2,3,4,5,6,7],[3,7,2,1,4,6])\n",
    "    \n",
    "# # OUtput:\n",
    "\n",
    "#      5 is the missing number\n",
    "    \n",
    "    "
   ]
  },
  {
   "cell_type": "markdown",
   "id": "47bde852",
   "metadata": {},
   "source": [
    "Solution"
   ]
  },
  {
   "cell_type": "code",
   "execution_count": 2,
   "id": "efdc488d",
   "metadata": {},
   "outputs": [],
   "source": [
    "def finder(arr1,arr2):\n",
    "    \n",
    "    # Sort the arrays\n",
    "    arr1.sort()\n",
    "    arr2.sort()\n",
    "    \n",
    "    # Compare elements in the stored arrays\n",
    "    for num1,num2 in zip(arr1,arr2):\n",
    "        if num1 != num2:\n",
    "            return num1\n",
    "        \n",
    "    # Otherwise return last element\n",
    "    return arr1[-1]\n",
    " \n"
   ]
  },
  {
   "cell_type": "code",
   "execution_count": 3,
   "id": "0209f078",
   "metadata": {},
   "outputs": [
    {
     "data": {
      "text/plain": [
       "5"
      ]
     },
     "execution_count": 3,
     "metadata": {},
     "output_type": "execute_result"
    }
   ],
   "source": [
    "arr1 = [1,2,3,4,5,6,7]\n",
    "arr2 = [3,7,2,1,4,6]\n",
    "finder(arr1,arr2)"
   ]
  },
  {
   "cell_type": "code",
   "execution_count": 4,
   "id": "e15f4bd8",
   "metadata": {},
   "outputs": [],
   "source": [
    "# In most interviews, you would be expected to come up with a linear\n",
    "# time solution. We can use a hashtable and store the number of times\n",
    "# each element appears in the second array. Then for each element in \n",
    "# the first array we decrement its counter. Once hit an element with \n",
    "# zero count that’s the missing element. Here is this solution:"
   ]
  },
  {
   "cell_type": "code",
   "execution_count": 5,
   "id": "276fbcc4",
   "metadata": {},
   "outputs": [],
   "source": [
    "import collections\n",
    "\n",
    "def finder2(arr1,arr2):\n",
    "    \n",
    "    # Using default dict to avoid key errors\n",
    "    d = collections.defaultdict(int)\n",
    "    \n",
    "    # Add a count for every instance in Array 1\n",
    "    for num in arr2:\n",
    "        d[num] += 1\n",
    "        \n",
    "    # Check if num not in dictionary\n",
    "    for num in arr1:\n",
    "        if d[num] == 0:\n",
    "            return num \n",
    "        \n",
    "        # Otherwise, subtract a count\n",
    "        else: d[num] -= 1"
   ]
  },
  {
   "cell_type": "code",
   "execution_count": 6,
   "id": "a5f912a6",
   "metadata": {},
   "outputs": [
    {
     "data": {
      "text/plain": [
       "5"
      ]
     },
     "execution_count": 6,
     "metadata": {},
     "output_type": "execute_result"
    }
   ],
   "source": [
    "arr1 = [5,5,7,7]\n",
    "arr2 = [5,7,7]\n",
    "\n",
    "finder2(arr1,arr2)"
   ]
  },
  {
   "cell_type": "code",
   "execution_count": 7,
   "id": "61fc3891",
   "metadata": {},
   "outputs": [],
   "source": [
    "# One possible solution is computing the sum of all the numbers in arr1\n",
    "# and arr2, and subtracting arr2’s sum from array1’s sum. The difference\n",
    "# is the missing number in arr2. However, this approach could be \n",
    "# problematic if the arrays are too long, or the numbers are very large. Then overflow will occur while summing up the numbers.\n",
    "\n",
    "# By performing a very clever trick, we can achieve linear time and \n",
    "# constant space complexity without any problems. Here it is: initialize\n",
    "#     a variable to 0, then XOR every element in the first and second\n",
    "#     arrays with that variable. In the end, the value of the variable \n",
    "#     is the result, missing element in array2"
   ]
  },
  {
   "cell_type": "code",
   "execution_count": 8,
   "id": "6a2e0138",
   "metadata": {},
   "outputs": [],
   "source": [
    "def finder3(arr1, arr2):\n",
    "    result = 0\n",
    "    \n",
    "    # Perform an XOR between the numbers in the arrays\n",
    "    for num in arr1+arr2:\n",
    "        result^=num\n",
    "        print(result)\n",
    "        \n",
    "    return result    "
   ]
  },
  {
   "cell_type": "code",
   "execution_count": 9,
   "id": "8b36c2f6",
   "metadata": {},
   "outputs": [
    {
     "name": "stdout",
     "output_type": "stream",
     "text": [
      "5\n",
      "0\n",
      "7\n",
      "0\n",
      "5\n",
      "2\n",
      "5\n"
     ]
    },
    {
     "data": {
      "text/plain": [
       "5"
      ]
     },
     "execution_count": 9,
     "metadata": {},
     "output_type": "execute_result"
    }
   ],
   "source": [
    "finder3(arr1,arr2)"
   ]
  },
  {
   "cell_type": "markdown",
   "id": "a7c69d8d",
   "metadata": {},
   "source": [
    "# Largest Continuous Sum Interview Problem"
   ]
  },
  {
   "cell_type": "markdown",
   "id": "c28d14c9",
   "metadata": {},
   "source": [
    "Problem 4"
   ]
  },
  {
   "cell_type": "code",
   "execution_count": 10,
   "id": "23f56fc3",
   "metadata": {},
   "outputs": [],
   "source": [
    "# # Given an array of integers(positive and negative) find the largest \n",
    "# continuous sum."
   ]
  },
  {
   "cell_type": "markdown",
   "id": "4a3eb589",
   "metadata": {},
   "source": [
    "Solution"
   ]
  },
  {
   "cell_type": "code",
   "execution_count": 11,
   "id": "c8dc4929",
   "metadata": {},
   "outputs": [],
   "source": [
    "def large_cont_sum(arr):\n",
    "    \n",
    "    # Check to see if array is length 0\n",
    "    if len(arr)==0:\n",
    "        return 0\n",
    "    \n",
    "    # start the max and current sum at the first element\n",
    "    max_sum = current_sum = arr[0]\n",
    "    \n",
    "    # For every element in array\n",
    "    for num in arr[1:]:\n",
    "        \n",
    "        # Set current sum as the higher of the two\n",
    "        current_sum = max(current_sum + num, num)\n",
    "        \n",
    "        # Set max as the higher between the currentSum and the current mas\n",
    "        max_sum = max(current_sum, max_sum)\n",
    "        \n",
    "    return max_sum"
   ]
  },
  {
   "cell_type": "code",
   "execution_count": 12,
   "id": "e017c47b",
   "metadata": {},
   "outputs": [
    {
     "data": {
      "text/plain": [
       "29"
      ]
     },
     "execution_count": 12,
     "metadata": {},
     "output_type": "execute_result"
    }
   ],
   "source": [
    "large_cont_sum([1,2,-1,3,4,10,10,-10,-1])"
   ]
  },
  {
   "cell_type": "markdown",
   "id": "a14b517f",
   "metadata": {},
   "source": [
    "# Sentence Reversal Interview Problem"
   ]
  },
  {
   "cell_type": "markdown",
   "id": "3a5fce1c",
   "metadata": {},
   "source": [
    "Problem 5"
   ]
  },
  {
   "cell_type": "code",
   "execution_count": 13,
   "id": "a494cbb0",
   "metadata": {},
   "outputs": [],
   "source": [
    "# Given a string of words, reverse all the words. For example:\n",
    "\n",
    "# Given:\n",
    "\n",
    "# 'This is the best'\n",
    "\n",
    "# Return:\n",
    "\n",
    "# 'best the is This'\n",
    "\n",
    "# As part of this exercise you should remove all leading and trailing whitespace. So that inputs such as:\n",
    "\n",
    "# '  space here'  and 'space here      '\n",
    "\n",
    "# both become:\n",
    "\n",
    "# 'here space'"
   ]
  },
  {
   "cell_type": "markdown",
   "id": "eac7b1cd",
   "metadata": {},
   "source": [
    "Solution"
   ]
  },
  {
   "cell_type": "code",
   "execution_count": 14,
   "id": "8f012491",
   "metadata": {},
   "outputs": [],
   "source": [
    "def rev_word1(s):\n",
    "    return \" \".join(reversed(s.split()))\n",
    "\n",
    "# Or\n",
    "\n",
    "def rev_word2(s):\n",
    "    return \" \".join(s.split()[::-1])"
   ]
  },
  {
   "cell_type": "code",
   "execution_count": 15,
   "id": "94490da5",
   "metadata": {},
   "outputs": [
    {
     "data": {
      "text/plain": [
       "'go? to ready you are John, Hi'"
      ]
     },
     "execution_count": 15,
     "metadata": {},
     "output_type": "execute_result"
    }
   ],
   "source": [
    "rev_word1('Hi John, are you ready to go?')"
   ]
  },
  {
   "cell_type": "code",
   "execution_count": 16,
   "id": "ed07466f",
   "metadata": {},
   "outputs": [
    {
     "data": {
      "text/plain": [
       "'go? to ready you are John, Hi'"
      ]
     },
     "execution_count": 16,
     "metadata": {},
     "output_type": "execute_result"
    }
   ],
   "source": [
    "rev_word2('Hi John, are you ready to go?')"
   ]
  },
  {
   "cell_type": "markdown",
   "id": "3467ae10",
   "metadata": {},
   "source": [
    "While these are valid solutions, in an interview setting you'll\n",
    "have to work out the basic algorithm that is used. In this case what \n",
    "we want to do is loop over the text and extract words form the string \n",
    "ourselves. Then we can push the words to a \"stack\" and in the end opo\n",
    "them all to reverse. Let's see what this actually looks like:"
   ]
  },
  {
   "cell_type": "code",
   "execution_count": 1,
   "id": "3a7d5c11",
   "metadata": {},
   "outputs": [],
   "source": [
    "def rev_word3(s):\n",
    "    \"\"\"\n",
    "    Mannually doing the splits on the spaces.\n",
    "    \"\"\"\n",
    "    \n",
    "    words = []\n",
    "    length = len(s)\n",
    "    spaces = [' ']\n",
    "    \n",
    "    # Index Tracker\n",
    "    i = 0\n",
    "    \n",
    "    # While index is less than length of string\n",
    "    while i < length:\n",
    "        \n",
    "        # If element isn't a space\n",
    "        if s[i] not in spaces:\n",
    "            \n",
    "            # The word start at this index \n",
    "            word_start = i\n",
    "            \n",
    "            while i < length and s[i] not in spaces:\n",
    "                \n",
    "                # Get index where word ends\n",
    "                i += 1\n",
    "            # Append that word to the list\n",
    "            words.append(s[word_start:i])\n",
    "        # Add to index\n",
    "        i += 1\n",
    "        \n",
    "    # Join the reversed words\n",
    "    return \" \".join(reversed(words))"
   ]
  },
  {
   "cell_type": "code",
   "execution_count": 2,
   "id": "9e71087b",
   "metadata": {},
   "outputs": [
    {
     "data": {
      "text/plain": [
       "'you are how John Hello'"
      ]
     },
     "execution_count": 2,
     "metadata": {},
     "output_type": "execute_result"
    }
   ],
   "source": [
    "rev_word3('   Hello John    how are you   ')"
   ]
  },
  {
   "cell_type": "code",
   "execution_count": 3,
   "id": "c49a08ca",
   "metadata": {},
   "outputs": [
    {
     "data": {
      "text/plain": [
       "'before space'"
      ]
     },
     "execution_count": 3,
     "metadata": {},
     "output_type": "execute_result"
    }
   ],
   "source": [
    "rev_word3('    space before')"
   ]
  },
  {
   "cell_type": "markdown",
   "id": "8a8a6cd9",
   "metadata": {},
   "source": [
    "If you want you can further develop this solution so its \n",
    "all manual, you can create your own reversal function"
   ]
  },
  {
   "cell_type": "code",
   "execution_count": null,
   "id": "d8fc115a",
   "metadata": {},
   "outputs": [],
   "source": []
  },
  {
   "cell_type": "markdown",
   "id": "6d8a34c6",
   "metadata": {},
   "source": [
    "# String Compression Interview Problem"
   ]
  },
  {
   "cell_type": "markdown",
   "id": "5610ee23",
   "metadata": {},
   "source": [
    "Problem 6"
   ]
  },
  {
   "cell_type": "code",
   "execution_count": 4,
   "id": "19464ce0",
   "metadata": {},
   "outputs": [],
   "source": [
    "# Given a string in the form 'AAAABBBBCCCCCDDEEEE' compress it to \n",
    "# become 'A4B4C5D2E4'. For this problem, you can falsely \"compress\" \n",
    "# strings of single or double letters. For instance, it is okay for\n",
    "# 'AAB' to return 'A2B1' even though this technically takes more space.\n",
    "\n",
    "# The function should also be case sensitive, so that a string 'AAAaaa'\n",
    "# returns 'A3a3'."
   ]
  },
  {
   "cell_type": "markdown",
   "id": "de9c5389",
   "metadata": {},
   "source": [
    "Solution"
   ]
  },
  {
   "cell_type": "code",
   "execution_count": 5,
   "id": "a3aab168",
   "metadata": {},
   "outputs": [],
   "source": [
    "# Since Python strings are immutable, we'll need to work off of a list\n",
    "# of characters, and at the end convert that list back into a string \n",
    "# with a join statement.\n",
    "\n",
    "# The solution below should yield us with a Time and Space complexity \n",
    "# of O(n). Let's take a look with careful attention to the explanatory\n",
    "# comments:"
   ]
  },
  {
   "cell_type": "code",
   "execution_count": 47,
   "id": "13c48450",
   "metadata": {},
   "outputs": [],
   "source": [
    "def compress(s):\n",
    "    \"\"\"\n",
    "    This solution compresses without checking. Known as the RunLength Compression algorithm\n",
    "    \"\"\"\n",
    "    \n",
    "    # Begin Run as empty string\n",
    "    r = \"\"\n",
    "    l = len(s)\n",
    "    \n",
    "    # Check for length 0\n",
    "    if l == 0:\n",
    "        return \"\"\n",
    "    # Check for length 1\n",
    "    if l == 1:\n",
    "        return s + \"1\"\n",
    "    \n",
    "    # Initialize values\n",
    "    last = s[0]\n",
    "    cnt = 1\n",
    "    i = 1\n",
    "    \n",
    "    while i < l:\n",
    "        \n",
    "        # Check to see if it is the same letter\n",
    "        if s[i] == s[i - 1]:\n",
    "            # Add a count if same as previous\n",
    "            cnt += 1\n",
    "        else:\n",
    "            # Otherwise store the previous data\n",
    "            r = r + s[i - 1] + str(cnt)\n",
    "            cnt = 1\n",
    "            \n",
    "        # Add to index count to terminate while loop\n",
    "        i += 1\n",
    "        \n",
    "    # Put everything back into run\n",
    "    r = r + s[i - 1] + str(cnt)\n",
    "        \n",
    "    return r\n",
    "            "
   ]
  },
  {
   "cell_type": "code",
   "execution_count": 48,
   "id": "76dc9b48",
   "metadata": {},
   "outputs": [
    {
     "data": {
      "text/plain": [
       "'A5B4C4'"
      ]
     },
     "execution_count": 48,
     "metadata": {},
     "output_type": "execute_result"
    }
   ],
   "source": [
    "compress('AAAAABBBBCCCC')"
   ]
  },
  {
   "cell_type": "code",
   "execution_count": null,
   "id": "91218b67",
   "metadata": {},
   "outputs": [],
   "source": []
  },
  {
   "cell_type": "markdown",
   "id": "a2d5d6f3",
   "metadata": {},
   "source": [
    "# Unique Characters in String"
   ]
  },
  {
   "cell_type": "code",
   "execution_count": 1,
   "id": "e4c332d7",
   "metadata": {},
   "outputs": [],
   "source": [
    "# # Given a string, determine if it is compreised of all unique characters.\n",
    "# For example, the string 'abcde' has all unique characters and should \n",
    "# return True. The string 'aabcde' contains duplicate characters and should\n",
    "# return false.\n"
   ]
  },
  {
   "cell_type": "markdown",
   "id": "95fa854a",
   "metadata": {},
   "source": [
    "# Solution"
   ]
  },
  {
   "cell_type": "markdown",
   "id": "f0abbad6",
   "metadata": {},
   "source": [
    "We'll show two possible solutions, one using a built-in data structure\n",
    "and a built in function, and another using a built-in data structure \n",
    "but using a look-up method to check if the characters are unique."
   ]
  },
  {
   "cell_type": "code",
   "execution_count": 2,
   "id": "7161cfc0",
   "metadata": {},
   "outputs": [],
   "source": [
    "def uni_char(s):\n",
    "    return len(set(s)) == len(s)"
   ]
  },
  {
   "cell_type": "code",
   "execution_count": 3,
   "id": "76fda460",
   "metadata": {},
   "outputs": [],
   "source": [
    "def uni_char2(s):\n",
    "    chars = set()\n",
    "    for let in s:\n",
    "        # Check if in set\n",
    "        if let in chars:\n",
    "            return False\n",
    "        else:\n",
    "            #Add it to the set\n",
    "            chars.add(let)\n",
    "    return True        "
   ]
  },
  {
   "cell_type": "code",
   "execution_count": 10,
   "id": "bb9049e8",
   "metadata": {},
   "outputs": [
    {
     "data": {
      "text/plain": [
       "True"
      ]
     },
     "execution_count": 10,
     "metadata": {},
     "output_type": "execute_result"
    }
   ],
   "source": [
    "s = 'abcde'\n",
    "uni_char2(s)"
   ]
  },
  {
   "cell_type": "code",
   "execution_count": null,
   "id": "f601eda8",
   "metadata": {},
   "outputs": [],
   "source": []
  },
  {
   "cell_type": "code",
   "execution_count": null,
   "id": "efe9430c",
   "metadata": {},
   "outputs": [],
   "source": []
  }
 ],
 "metadata": {
  "kernelspec": {
   "display_name": "Python 3 (ipykernel)",
   "language": "python",
   "name": "python3"
  },
  "language_info": {
   "codemirror_mode": {
    "name": "ipython",
    "version": 3
   },
   "file_extension": ".py",
   "mimetype": "text/x-python",
   "name": "python",
   "nbconvert_exporter": "python",
   "pygments_lexer": "ipython3",
   "version": "3.9.7"
  }
 },
 "nbformat": 4,
 "nbformat_minor": 5
}
