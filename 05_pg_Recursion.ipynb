{
 "cells": [
  {
   "cell_type": "markdown",
   "id": "338b1aa8",
   "metadata": {},
   "source": [
    "# # Recursion"
   ]
  },
  {
   "cell_type": "markdown",
   "id": "22baca2c",
   "metadata": {},
   "source": [
    "# What is Recursion?"
   ]
  },
  {
   "cell_type": "code",
   "execution_count": 2,
   "id": "6e02a62c",
   "metadata": {},
   "outputs": [],
   "source": [
    "# # There are two main instances of recursion.\n",
    "\n",
    "# # The first is when recursion is used as a technique in which a function \n",
    "# makes one or more calls to itself.\n",
    "\n",
    "# # The second is when data structure is uses smaller instances of the exact\n",
    "# same type of data structure when it represents itself.\n"
   ]
  },
  {
   "cell_type": "markdown",
   "id": "ebe79d8e",
   "metadata": {},
   "source": [
    "# Why use Recursion?"
   ]
  },
  {
   "cell_type": "code",
   "execution_count": 3,
   "id": "b41ece66",
   "metadata": {},
   "outputs": [],
   "source": [
    "# # Recursion provides a powerful alternative for performing repetitions of \n",
    "# tasks in which a loop is not ideal.\n",
    "\n",
    "# # Most modern programming languages support recursion.\n",
    "\n",
    "# # Recursion serves as a great tool for building out particular data structures.\n"
   ]
  },
  {
   "cell_type": "markdown",
   "id": "cf96eb4c",
   "metadata": {},
   "source": [
    "# Factorial Example"
   ]
  },
  {
   "cell_type": "code",
   "execution_count": 4,
   "id": "9f33b25b",
   "metadata": {},
   "outputs": [],
   "source": [
    "# # In this part of the lecture we will explain recursion through an example\n",
    "# exercise of creating the factorial function.\n",
    "\n",
    "# # The factorial function is denoted with an exclamation point and is defined\n",
    "# as the product of the integers from 1 to n.\n",
    "\n",
    "# # n! = n.(n-1).(n-2)....3.2.1\n",
    "  \n",
    "#     if n = 0, then n! = 1\n",
    "    \n",
    "# # 4! = 4.3.2.1 = 24\n",
    "\n",
    "# # So how can we state this in a recursive manner?\n",
    "\n",
    "# # This is where the concept of base case comes in.\n",
    "\n",
    "# # 4! = 4.(4)!\n",
    "#   n! = n.(n-1)!\n",
    "    \n",
    "# # Note, if n = 0, then n! = 1.\n",
    "\n",
    "# # This means the base case occurs once n=0, the recursive cases are defined\n",
    "# in the previous equation.\n",
    "\n",
    "# # Whenever you are trying to develop a recursion solution it is very important\n",
    "# to think about the base case, as your solution will need to return the base\n",
    "# case once all the recursive cases heve been worked through.\n",
    "\n",
    "# # Let's jump to the Jupyter Notebook and code the factorial example!\n",
    "\n",
    "# # "
   ]
  },
  {
   "cell_type": "markdown",
   "id": "ffc907eb",
   "metadata": {},
   "source": [
    "# Recursion"
   ]
  },
  {
   "cell_type": "markdown",
   "id": "b3e8fa96",
   "metadata": {},
   "source": [
    "n! = n.(n-1)!\n",
    "\n",
    "if n = 0, n! = 1"
   ]
  },
  {
   "cell_type": "code",
   "execution_count": 5,
   "id": "41289e10",
   "metadata": {},
   "outputs": [],
   "source": [
    "def fact(n):\n",
    "    '''\n",
    "    Return factorial of n (n!).\n",
    "    Note use of recursion\n",
    "    '''\n",
    "    # BASE CASE!\n",
    "    if n == 0:\n",
    "        return 1\n",
    "    \n",
    "    # Recursion!\n",
    "    else:\n",
    "        return n * fact(n-1)"
   ]
  },
  {
   "cell_type": "markdown",
   "id": "522a6c16",
   "metadata": {},
   "source": [
    "Let's see it in action!"
   ]
  },
  {
   "cell_type": "code",
   "execution_count": 6,
   "id": "0d112d85",
   "metadata": {},
   "outputs": [
    {
     "data": {
      "text/plain": [
       "120"
      ]
     },
     "execution_count": 6,
     "metadata": {},
     "output_type": "execute_result"
    }
   ],
   "source": [
    "fact(5)"
   ]
  },
  {
   "cell_type": "markdown",
   "id": "8d63cdc4",
   "metadata": {},
   "source": [
    "Note how we had an if statement to check if a base occured. Without it this\n",
    "function would not have successfully completed running. We can visulize the\n",
    "recursion with the following figure:"
   ]
  },
  {
   "cell_type": "code",
   "execution_count": 7,
   "id": "a02de42c",
   "metadata": {},
   "outputs": [
    {
     "data": {
      "text/html": [
       "<img src=\"http://faculty.cs.niu.edu/~freedman/241/241notes/recur.gif\"/>"
      ],
      "text/plain": [
       "<IPython.core.display.Image object>"
      ]
     },
     "execution_count": 7,
     "metadata": {},
     "output_type": "execute_result"
    }
   ],
   "source": [
    "from IPython.display import Image\n",
    "from IPython.core.display import HTML\n",
    "Image(url = 'http://faculty.cs.niu.edu/~freedman/241/241notes/recur.gif')"
   ]
  },
  {
   "cell_type": "markdown",
   "id": "58322ad8",
   "metadata": {},
   "source": [
    "We can follow this flow chart from the top, reaching the base case,\n",
    "and then working our way back up."
   ]
  },
  {
   "cell_type": "markdown",
   "id": "16726956",
   "metadata": {},
   "source": [
    "# Conclusion"
   ]
  },
  {
   "cell_type": "markdown",
   "id": "f3142c66",
   "metadata": {},
   "source": [
    "Recursion is a powerful tool, but it can be a tricky concept to implement.\n",
    "In the next lectures we will go over a few more example problems for \n",
    "recursion. Then afterwards you'll be faced with some real interview \n",
    "questions involving recursion!"
   ]
  },
  {
   "cell_type": "code",
   "execution_count": null,
   "id": "5df0fa49",
   "metadata": {},
   "outputs": [],
   "source": []
  },
  {
   "cell_type": "markdown",
   "id": "bc17ff5d",
   "metadata": {},
   "source": [
    "# Recursion Homework Problems"
   ]
  },
  {
   "cell_type": "markdown",
   "id": "8508d6b4",
   "metadata": {},
   "source": [
    "This assignment is a variety of small problems to begin you getting used\n",
    "to the idea of recursion. They are not full-blown interview questions,\n",
    "but do serve as a great start for getting your mind \"in the zone\" for \n",
    "recursion problems"
   ]
  },
  {
   "cell_type": "markdown",
   "id": "c7400013",
   "metadata": {},
   "source": [
    "# Problem 1"
   ]
  },
  {
   "cell_type": "markdown",
   "id": "f431e8cc",
   "metadata": {},
   "source": [
    "Write a recursive function which takes an integer and computes the \n",
    "cumulative sum of 0 to that integer\n",
    "\n",
    "For example, if n=4 , return 4+3+2+1+0, which is 10."
   ]
  },
  {
   "cell_type": "markdown",
   "id": "3da61e64",
   "metadata": {},
   "source": [
    "\n",
    "This problem is very similar to the factorial problem presented during \n",
    "the introduction to recursion. Remember, always think of what the base \n",
    "case will look like. In this case, we have a base case of n =0 (Note, you\n",
    "could have also designed the cut off to be 1).\n",
    "\n",
    "In this case, we have: n + (n-1) + (n-2) + .... + 0"
   ]
  },
  {
   "cell_type": "markdown",
   "id": "0b8bf48b",
   "metadata": {},
   "source": [
    "# Solution"
   ]
  },
  {
   "cell_type": "code",
   "execution_count": 8,
   "id": "25cb53f9",
   "metadata": {},
   "outputs": [],
   "source": [
    "def rec_sum(n):\n",
    "    \n",
    "    # Base Case\n",
    "    if n == 0:\n",
    "        return 0\n",
    "    # Recursion\n",
    "    else:\n",
    "        return n + rec_sum(n-1)"
   ]
  },
  {
   "cell_type": "code",
   "execution_count": 9,
   "id": "12a28c3a",
   "metadata": {},
   "outputs": [
    {
     "data": {
      "text/plain": [
       "10"
      ]
     },
     "execution_count": 9,
     "metadata": {},
     "output_type": "execute_result"
    }
   ],
   "source": [
    "rec_sum(4)"
   ]
  },
  {
   "cell_type": "markdown",
   "id": "2a6cf5ca",
   "metadata": {},
   "source": [
    "# Problem 2"
   ]
  },
  {
   "cell_type": "markdown",
   "id": "c67eaa93",
   "metadata": {},
   "source": [
    "Given an integer, create a function which returns the sum of all the\n",
    "individual digits in that integer. For example: if n = 4321,\n",
    "return 4+3+2+1"
   ]
  },
  {
   "cell_type": "code",
   "execution_count": 10,
   "id": "db648e3b",
   "metadata": {},
   "outputs": [],
   "source": [
    "def sum_func(n):\n",
    "    # Base case\n",
    "    if len(str(n)) == 1:\n",
    "        return n\n",
    "    \n",
    "    # Recursion\n",
    "    else:\n",
    "        return n%10 + sum_func(n//10)"
   ]
  },
  {
   "cell_type": "code",
   "execution_count": 11,
   "id": "95cd138e",
   "metadata": {},
   "outputs": [
    {
     "data": {
      "text/plain": [
       "10"
      ]
     },
     "execution_count": 11,
     "metadata": {},
     "output_type": "execute_result"
    }
   ],
   "source": [
    "sum_func(4321)"
   ]
  },
  {
   "cell_type": "markdown",
   "id": "4b7f9c5d",
   "metadata": {},
   "source": [
    "Hints:"
   ]
  },
  {
   "cell_type": "code",
   "execution_count": 12,
   "id": "bde265f1",
   "metadata": {},
   "outputs": [
    {
     "data": {
      "text/plain": [
       "1"
      ]
     },
     "execution_count": 12,
     "metadata": {},
     "output_type": "execute_result"
    }
   ],
   "source": [
    "# You'll neeed to use modulo\n",
    "4321%10"
   ]
  },
  {
   "cell_type": "code",
   "execution_count": 13,
   "id": "e4566df7",
   "metadata": {},
   "outputs": [
    {
     "data": {
      "text/plain": [
       "432"
      ]
     },
     "execution_count": 13,
     "metadata": {},
     "output_type": "execute_result"
    }
   ],
   "source": [
    "4321 // 10\n"
   ]
  },
  {
   "cell_type": "markdown",
   "id": "ef28a49b",
   "metadata": {},
   "source": [
    "We'll need to think of this function recursively by knowing that:\n",
    "4502 % 10 + sum_func(4502//10)\n",
    "\n",
    "Hint2: python3 automatically converts the result of a division to float!\n",
    "Make sure to use integer division (a//b)"
   ]
  },
  {
   "cell_type": "markdown",
   "id": "6e0343ba",
   "metadata": {},
   "source": [
    "# Problem 3"
   ]
  },
  {
   "cell_type": "markdown",
   "id": "2fc6f014",
   "metadata": {},
   "source": [
    "Note, this is a more advanced problem than the previous two! It aso has a\n",
    "lot of variation possibilities and we're ignoring strict requirements here.\n",
    "\n",
    "Create a function called word_split() which takes in a string phrase and \n",
    "a set list_of_words. The function will then determine if it is possible \n",
    "to split the string in a way in which words can be made from the list of\n",
    "words. You can assume the phrase will only contain words found in the \n",
    "dictionary if it is completely splittable.\n",
    "\n",
    "For example:\n",
    "\n"
   ]
  },
  {
   "cell_type": "code",
   "execution_count": 15,
   "id": "463c372a",
   "metadata": {},
   "outputs": [],
   "source": [
    "# word_split('themanram',['the','ran','man'])"
   ]
  },
  {
   "cell_type": "code",
   "execution_count": 16,
   "id": "9b82c7bf",
   "metadata": {},
   "outputs": [],
   "source": [
    "# word_split('ilovedogsJohn',['i','am','a','dogs','lover','love','John'])"
   ]
  },
  {
   "cell_type": "code",
   "execution_count": 18,
   "id": "e5944882",
   "metadata": {},
   "outputs": [],
   "source": [
    "# word_split('themanran',['clown','ran','man'])"
   ]
  },
  {
   "cell_type": "code",
   "execution_count": 19,
   "id": "a564e033",
   "metadata": {},
   "outputs": [],
   "source": [
    "def word_split(phrase, list_of_words, output = None):\n",
    "    '''\n",
    "    Note This is a very \"python-y\" solution.\n",
    "    '''\n",
    "    \n",
    "    # Check to see if any output has been initiated.\n",
    "    # If you default output=[], it would be overwritten for every recursion!\n",
    "    if output is None:\n",
    "        output = []\n",
    "        \n",
    "    # For every word in list\n",
    "    for word in list_of_words:\n",
    "        \n",
    "        # If the current phrase begins with the word, we have a split point!\n",
    "        if phrase.startswith(word):\n",
    "            \n",
    "            # Add the word to the output\n",
    "            output.append(word)\n",
    "            \n",
    "            # Recursively call the split function on the remaining portion of the phrase-----phrase[len(word):]\n",
    "            # Remember to pass along the output and list of words\n",
    "            return word_split(phrase[len(word):],list_of_words,output)\n",
    "        \n",
    "    # Finally return output if no phrase.startswith(word) returns True \n",
    "    return output"
   ]
  },
  {
   "cell_type": "markdown",
   "id": "ea82551b",
   "metadata": {},
   "source": [
    "# Conclusion"
   ]
  },
  {
   "cell_type": "markdown",
   "id": "798eb1eb",
   "metadata": {},
   "source": [
    "Alright, so now that we've seen a few examples, let's dive in to the interview\n",
    "practice problems!"
   ]
  },
  {
   "cell_type": "markdown",
   "id": "673544f2",
   "metadata": {},
   "source": [
    "# Memoization"
   ]
  },
  {
   "cell_type": "markdown",
   "id": "949e5240",
   "metadata": {},
   "source": [
    "In this lecture we will discuss memoization and dynamic programming. \n",
    "For your homework assignment, read the Wikipedia article on Memoization\n",
    "(https://en.wikipedia.org/wiki/Memoization),before continuing on\n",
    "with this lecture!\n",
    "\n",
    "Memoization effectively refers to remembering (\"memoization\" ->\n",
    "\"memorandum\" -> to be remembered) results of method calls based on the\n",
    "method inputs and then returning the remembered result rather than \n",
    "computing the result again. You can think of it as a cache for method \n",
    "results. We'll use this in some of the interview problems as improved \n",
    "versions of a purely recursive solution.\n",
    "\n",
    "A simple example for computing factorials using memoization in Python \n",
    "would be something like this:"
   ]
  },
  {
   "cell_type": "code",
   "execution_count": 20,
   "id": "eefb4d63",
   "metadata": {},
   "outputs": [],
   "source": [
    "# Create cache for known results\n",
    "factorial_memo = {}\n",
    "\n",
    "def factorial(k):\n",
    "    \n",
    "    if k < 2:\n",
    "        return 1\n",
    "    \n",
    "    if not k in factorial_memo:\n",
    "        factorial_memo[k] = k * factorial(k-1)\n",
    "        \n",
    "    return factorial_memo[k]    "
   ]
  },
  {
   "cell_type": "code",
   "execution_count": 21,
   "id": "6480392b",
   "metadata": {},
   "outputs": [
    {
     "data": {
      "text/plain": [
       "24"
      ]
     },
     "execution_count": 21,
     "metadata": {},
     "output_type": "execute_result"
    }
   ],
   "source": [
    "factorial(4)"
   ]
  },
  {
   "cell_type": "markdown",
   "id": "862eecfd",
   "metadata": {},
   "source": [
    "Note how we are now using a dictionary to store previous results of the\n",
    "factorial function! We are now able to increase the efficiency of this \n",
    "function by remembering old results!\n",
    "\n",
    "Keep this in mind when working on the Coin Change Problem and the \n",
    "Fibonacci Sequence Problem.\n",
    "\n",
    "We can also encapsulate the memoization process into a class:"
   ]
  },
  {
   "cell_type": "code",
   "execution_count": 22,
   "id": "a99c24cf",
   "metadata": {},
   "outputs": [],
   "source": [
    "class Memoize:\n",
    "    def __init__(self, f):\n",
    "        self.f = f\n",
    "        self.memo = {}\n",
    "    def __call__(self, *args):\n",
    "        if not args in self.memo:\n",
    "            self.memo[args] = self.f(*args)\n",
    "        return self.memo[args]    "
   ]
  },
  {
   "cell_type": "markdown",
   "id": "c90b2c69",
   "metadata": {},
   "source": [
    "Then all we would have to do is:"
   ]
  },
  {
   "cell_type": "code",
   "execution_count": 23,
   "id": "57591e38",
   "metadata": {},
   "outputs": [],
   "source": [
    "def factorial(k):\n",
    "    if k < 2:\n",
    "        return 1\n",
    "    \n",
    "    return k * factorial(k-1)\n",
    "\n",
    "factorial = Memoize(factorial)"
   ]
  },
  {
   "cell_type": "markdown",
   "id": "6bb64870",
   "metadata": {},
   "source": [
    "Try comparing the run times of the memoization versions of functions\n",
    "versus the normal recursive solutions!"
   ]
  },
  {
   "cell_type": "markdown",
   "id": "6fde0958",
   "metadata": {},
   "source": [
    "# # Interview Problems"
   ]
  },
  {
   "cell_type": "markdown",
   "id": "65538886",
   "metadata": {},
   "source": [
    "# Reverse a String"
   ]
  },
  {
   "cell_type": "markdown",
   "id": "85e27137",
   "metadata": {},
   "source": [
    "This interview question requires you to reverse a string using recursion.\n",
    "Make sure to think of the base case here.\n",
    "\n",
    "Again, make sure you use recursion to accomplish this. Do not slice \n",
    "(e.g. string[::-1]) or use iteration, there muse be a recursive call for \n",
    "the function."
   ]
  },
  {
   "cell_type": "markdown",
   "id": "81505906",
   "metadata": {},
   "source": [
    "# Solution"
   ]
  },
  {
   "cell_type": "markdown",
   "id": "aeff9ed4",
   "metadata": {},
   "source": [
    "In order to reverse a string using recursion we need to consider what\n",
    "a base and recursive case would look like. Here we've set a base case\n",
    "to be when the length of the string we are passing through the function \n",
    "is length less than or equal to 1.\n",
    "\n",
    "During the recursive case we grab the first letter and add it on to the \n",
    "recursive call."
   ]
  },
  {
   "cell_type": "code",
   "execution_count": 29,
   "id": "f673a326",
   "metadata": {},
   "outputs": [],
   "source": [
    "def reverse(s):\n",
    "    \n",
    "    # Base Case\n",
    "    if len(s) <= 1:\n",
    "        return s\n",
    "    \n",
    "    # Recursion\n",
    "    return reverse(s[1:]) + s[0]"
   ]
  },
  {
   "cell_type": "code",
   "execution_count": 30,
   "id": "954f1d91",
   "metadata": {},
   "outputs": [
    {
     "data": {
      "text/plain": [
       "'dlrow olleh'"
      ]
     },
     "execution_count": 30,
     "metadata": {},
     "output_type": "execute_result"
    }
   ],
   "source": [
    "reverse('hello world')"
   ]
  },
  {
   "cell_type": "code",
   "execution_count": null,
   "id": "cb8b75d9",
   "metadata": {},
   "outputs": [],
   "source": []
  }
 ],
 "metadata": {
  "kernelspec": {
   "display_name": "Python 3 (ipykernel)",
   "language": "python",
   "name": "python3"
  },
  "language_info": {
   "codemirror_mode": {
    "name": "ipython",
    "version": 3
   },
   "file_extension": ".py",
   "mimetype": "text/x-python",
   "name": "python",
   "nbconvert_exporter": "python",
   "pygments_lexer": "ipython3",
   "version": "3.9.7"
  }
 },
 "nbformat": 4,
 "nbformat_minor": 5
}
