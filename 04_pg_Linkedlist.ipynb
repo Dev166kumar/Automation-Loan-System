{
 "cells": [
  {
   "cell_type": "markdown",
   "id": "4e2e654b",
   "metadata": {},
   "source": [
    "# Linked Lists Overview"
   ]
  },
  {
   "cell_type": "markdown",
   "id": "deb09058",
   "metadata": {},
   "source": [
    "Linked Lists"
   ]
  },
  {
   "cell_type": "code",
   "execution_count": 1,
   "id": "9334bf42",
   "metadata": {},
   "outputs": [],
   "source": [
    "# Singly Linked Lists\n",
    "\n",
    "# Implementation of a Singly Linked List\n",
    "\n",
    "# Doubly Linked Lists\n",
    "\n",
    "# Implementation Of a Doubly Linked List\n",
    "\n",
    "# Interview Problems\n",
    "\n",
    "# Let's get started"
   ]
  },
  {
   "cell_type": "markdown",
   "id": "10fe77c2",
   "metadata": {},
   "source": [
    "# # Singly Linked Lists"
   ]
  },
  {
   "cell_type": "code",
   "execution_count": 1,
   "id": "03217364",
   "metadata": {},
   "outputs": [],
   "source": [
    "# # Singly Linked List Overview\n",
    "# # Adding Elements to List\n",
    "# # Removing Elements from List\n",
    "\n",
    "# ## A singly linked list, in its simplest form, is a collection of nodes\n",
    "# that collectively form a linear sequence.\n",
    "\n",
    "# # Each node stores a reference to an object that is an element of the \n",
    "# sequence, as well as a reference to the next node of the list.\n",
    "\n",
    "# # Airport codes in example figures.(## watch the lecture)\n",
    "\n",
    "# # The list instance maintains a member named \"head\" that identifies the \n",
    "# first node of the list.\n",
    "\n",
    "# # In some applications another member named \"tail\" that identifies the \n",
    "# last node of the list.\n",
    "\n",
    "# # The first and last node of a linked list are known as the \"head\" and \"tail\"\n",
    "# of the list\n",
    "\n",
    "# ## We can identify the tail as the node having None as its next reference.\n",
    "\n",
    "# ## This process is commonly known as traversing the linked list.\n",
    "\n",
    "# ## Because the next reference of a node can be viewed as a link or pointer\n",
    "# to another node, the process of traversing a list is also known as link\n",
    "# hopping or pointer hopping.\n",
    "\n",
    "# # Each node is represented as a unique object, with that instance storing\n",
    "# a reference to its element and a reference to the next node (or None)\n",
    "\n",
    "# # Note the change of the diagram for simplicity. (watch the video)\n",
    "\n",
    "# ### An important property of a linked list is that it does not have a predetermined\n",
    "# fixed size.\n",
    "\n",
    "# # It uses space proportionally to its current number of elements.\n",
    "# - We create a new node\n",
    "# - Set its element to the new element\n",
    "# - set its next link to refer to the current head\n",
    "# - then set the list's head to point to the new node.\n",
    "\n",
    "# (a) before the insertion   # see the diagram in video\n",
    "# (b) after creation of a new node\n",
    "# (c) after reassignment of the head reference.\n",
    "# -----------------------------------------------------------------------------------\n",
    "\n",
    "# ######## Inserting an element at the Tail of a Singly Linked List\n",
    "\n",
    "# # We can also easily insert an element at the tail of the list, provided we\n",
    "# keep a reference to the tail node\n",
    "# - Create a new node\n",
    "# - Assign its next reference to None\n",
    "# - Set the next reference of the tail to point to this new node\n",
    "# - Then update the tail reference itself to this new node.\n",
    "\n",
    "# - (a) before the insertion   ## see the diagram in the video\n",
    "# - (b) after creation of a new node\n",
    "# - (c) after reassignment of the tail reference.\n",
    "# - (d) Note that we must set the next link of the tail in (b) before we assign\n",
    "#       the tail variable to point to the new node in (c)\n",
    "    \n",
    "# ----------------------------------------------------------------------------------------\n",
    "\n",
    "# ##### Removing an Element from a Singly linked List\n",
    "\n",
    "# # Removing an element from the head of a singly linked list is essentially the \n",
    "# the reverse operation of inserting a new element at the head.\n",
    "# - (a) before the removal\n",
    "# - (b) after \"liking out\" the old head\n",
    "# - (c) final configuration\n",
    "\n",
    "# # We cannot easily delete the last node of a singly linked list.\n",
    "\n",
    "# # Even if we maintain a tail reference directly to the last node of the list,\n",
    "# we must be able to access the node before the last node in order to remove the\n",
    "# last node.\n",
    "\n",
    "# # But we cannot reach the node before the tail by following next links from the \n",
    "# tail.\n",
    "\n",
    "# # If we want to support such an operation efficiently, we will need to make our\n",
    "# list doubly linked\n",
    "\n",
    "# -----------------------------------------------------------------------------------\n",
    "# ## Review \n",
    "\n",
    "# # We learned about singly linked lists and how to add and remove elements from them.\n",
    "\n",
    "# # Up next we will implement a Node class an create a Singly Linked list\n",
    "\n",
    "# #\n"
   ]
  },
  {
   "cell_type": "code",
   "execution_count": null,
   "id": "4da6100a",
   "metadata": {},
   "outputs": [],
   "source": []
  },
  {
   "cell_type": "markdown",
   "id": "98ef4bbe",
   "metadata": {},
   "source": [
    "# Singly Linked List Implementation"
   ]
  },
  {
   "cell_type": "markdown",
   "id": "23a37a70",
   "metadata": {},
   "source": [
    "Remember, in a singly linked list, we have an ordered list of items as \n",
    "individual Nodes that have pointers to other Nodes."
   ]
  },
  {
   "cell_type": "code",
   "execution_count": 2,
   "id": "fe85d7a5",
   "metadata": {},
   "outputs": [],
   "source": [
    "class Node(object):\n",
    "    \n",
    "    def __init__(self, value):\n",
    "        \n",
    "        self.value = value\n",
    "        self.nextnode = None\n",
    "        "
   ]
  },
  {
   "cell_type": "markdown",
   "id": "aa9313a4",
   "metadata": {},
   "source": [
    "Now we can build out Linked List with the collection of nodes:"
   ]
  },
  {
   "cell_type": "code",
   "execution_count": 3,
   "id": "c058123f",
   "metadata": {},
   "outputs": [],
   "source": [
    "a = Node(1)\n",
    "b = Node(2)\n",
    "c = Node(3)"
   ]
  },
  {
   "cell_type": "code",
   "execution_count": 4,
   "id": "1975d73f",
   "metadata": {},
   "outputs": [],
   "source": [
    "a.nextnode = b"
   ]
  },
  {
   "cell_type": "code",
   "execution_count": 5,
   "id": "a2dacfeb",
   "metadata": {},
   "outputs": [],
   "source": [
    "b.nextnode = c"
   ]
  },
  {
   "cell_type": "markdown",
   "id": "e03430a1",
   "metadata": {},
   "source": [
    "In a Linked List the first node is called the head and the last node is \n",
    "called the tail. Let's discuss the pros and cons of Linked Lists:"
   ]
  },
  {
   "cell_type": "markdown",
   "id": "a7e15c9c",
   "metadata": {},
   "source": [
    "# Pros"
   ]
  },
  {
   "cell_type": "markdown",
   "id": "904898f2",
   "metadata": {},
   "source": [
    "1) Linked Lists have constant-time insertions and deletions in any position,\n",
    "in comparison, arrays require O(n) time to do the same thing.\n",
    "\n",
    "2) Linked lists can continue to expand without having to specify their size \n",
    "ahead of time (remember our lectures on Array sizing form the Array Sequence section of the course!)"
   ]
  },
  {
   "cell_type": "markdown",
   "id": "276929bf",
   "metadata": {},
   "source": [
    "# Cons"
   ]
  },
  {
   "cell_type": "markdown",
   "id": "56f9509e",
   "metadata": {},
   "source": [
    "To access an element in a linked list, you need to take O(k) time to go \n",
    "from the head of the list to the kth element. In contrast, arrays have constant time operations to access elements in an array."
   ]
  },
  {
   "cell_type": "code",
   "execution_count": null,
   "id": "d47255b9",
   "metadata": {},
   "outputs": [],
   "source": []
  },
  {
   "cell_type": "markdown",
   "id": "d53b3e92",
   "metadata": {},
   "source": [
    "# #Doubly Linked Lists"
   ]
  },
  {
   "cell_type": "code",
   "execution_count": 6,
   "id": "bb6e5c9a",
   "metadata": {},
   "outputs": [],
   "source": [
    "# # In a doubly linked list, we define a linked list in which each node keeps \n",
    "# an explicit reference to the node before it and a reference to the node after it.\n",
    "\n",
    "# #These lists allow a greater variety of O(1)-time update operations, including\n",
    "# insertions and deletions.\n",
    "\n",
    "# # We continue to use the term \"next\" for the reference to the node that follows\n",
    "# another.\n",
    "\n",
    "# # We have a new term \"prev\" for the reference to the node that precedes it.\n",
    "\n"
   ]
  },
  {
   "cell_type": "markdown",
   "id": "48fdd4e4",
   "metadata": {},
   "source": [
    "# Sentinel Node"
   ]
  },
  {
   "cell_type": "code",
   "execution_count": 7,
   "id": "4fbd2e12",
   "metadata": {},
   "outputs": [],
   "source": [
    "# We add special nodes at both ends of the list.\n",
    "\n",
    "# a header node at the beginning od the list\n",
    "\n",
    "# a trailer node at the end of the list.\n",
    "\n",
    "# These \"dummy\" nodes are known as sentinels (or guards)\n",
    "\n"
   ]
  },
  {
   "cell_type": "markdown",
   "id": "d1dc8186",
   "metadata": {},
   "source": [
    "# Insertion and Deletion with a Doubly Linked List"
   ]
  },
  {
   "cell_type": "code",
   "execution_count": 12,
   "id": "a6ba39c7",
   "metadata": {},
   "outputs": [],
   "source": [
    "# # Every insertion into our doubly linked list representation will take place\n",
    "#  between a pair of existing nodes\n",
    "\n",
    "# # When a new element is inserted at the front of the sequence, we will simply\n",
    "#  add the new node between the header and the node that is currently after the \n",
    "#  header.\n",
    "# # watch the video to see the diagram\n",
    "\n",
    "# - (a) before the operation\n",
    "# - (b) after creating the new node\n",
    "# - (c) after linking the neighbors to the new node\n",
    "\n",
    "-------------------------------------------------------------------------------------------------\n",
    "# Insertion of a Node Front\n",
    "\n",
    "# # watch the video to see the diagrams\n",
    "# - (a) before the operation\n",
    "# - (b) after creating the new node\n",
    "# - (c) after linking the neighbors to the new node\n",
    "\n",
    "----------------------------------------------------------------------------------------------\n",
    "# Deletion of a Node\n",
    "\n",
    "# The two neighbors of the node to be deleted are linked directly to each other\n",
    "\n",
    "# As a result, that node will no longer be considered part of the list and it \n",
    "can be reclaimed by the system.\n",
    "\n",
    "# Because of sentinels, the same implementation can be used when deleting the \n",
    "first or the last element of a sequence.\n",
    "\n",
    "-(a) before the removal\n",
    "-(b) after linking out the old node\n",
    "-(c) after the rempval\n",
    "-----------------------------------------------------------------------------------\n",
    "# Review \n",
    "- Learned about Doubly Linked List Nodes\n",
    "- Insertion\n",
    "- Deletion\n",
    "- Up next, implementation of a Doubly Linked List!\n"
   ]
  },
  {
   "cell_type": "markdown",
   "id": "3ae96061",
   "metadata": {},
   "source": [
    "# Doubly Linked List Implementation"
   ]
  },
  {
   "cell_type": "code",
   "execution_count": 17,
   "id": "8864e540",
   "metadata": {},
   "outputs": [],
   "source": [
    "class DoublyLinkedListNode(object):\n",
    "    \n",
    "    def __init__(self,value):\n",
    "        \n",
    "        self.value = value\n",
    "        self.next_node = None\n",
    "        self.prev_node = None\n"
   ]
  },
  {
   "cell_type": "markdown",
   "id": "b7dc0a57",
   "metadata": {},
   "source": [
    "Now that we have our node that can reference next and previous values, \n",
    "let's begin to build out our linked list!"
   ]
  },
  {
   "cell_type": "code",
   "execution_count": 18,
   "id": "efd9e74a",
   "metadata": {},
   "outputs": [],
   "source": [
    "a = DoublyLinkedListNode(1)\n",
    "b = DoublyLinkedListNode(2)\n",
    "c = DoublyLinkedListNode(3)"
   ]
  },
  {
   "cell_type": "code",
   "execution_count": 19,
   "id": "a9d7d046",
   "metadata": {},
   "outputs": [],
   "source": [
    "# Setting b after a\n",
    "b.prev_node = a\n",
    "a.next_node = b"
   ]
  },
  {
   "cell_type": "code",
   "execution_count": 20,
   "id": "ebddfefe",
   "metadata": {},
   "outputs": [],
   "source": [
    "# Setting c after a\n",
    "b.next_node = c\n",
    "c.prev_node = b"
   ]
  },
  {
   "cell_type": "markdown",
   "id": "059559d0",
   "metadata": {},
   "source": [
    "Having a Doubly Linked list allows us to go though our Linked List\n",
    "forwards and backwards."
   ]
  },
  {
   "cell_type": "code",
   "execution_count": null,
   "id": "574936f2",
   "metadata": {},
   "outputs": [],
   "source": []
  },
  {
   "cell_type": "markdown",
   "id": "5d749738",
   "metadata": {},
   "source": [
    "# #Linked List Interview Problems"
   ]
  },
  {
   "cell_type": "markdown",
   "id": "a02aaeda",
   "metadata": {},
   "source": [
    "# Prob-1 Singly Linked List Cycle Check"
   ]
  },
  {
   "cell_type": "markdown",
   "id": "fc6a158c",
   "metadata": {},
   "source": [
    "\n",
    "\n",
    "Given a singly linked list, write a function which takes in the first\n",
    "node in a singly linked list and returns a boolean indicating if the \n",
    "linked list contains a \"cycle\".\n",
    "\n",
    "A cycle is when a node's next point actually points back to a previous \n",
    "node in the list. This is also sometimes known as a circularly linked \n",
    "list.\n",
    "\n",
    "You've been given the Linked List Node class code:"
   ]
  },
  {
   "cell_type": "code",
   "execution_count": 2,
   "id": "65a12f60",
   "metadata": {},
   "outputs": [],
   "source": [
    "class Node(object):\n",
    "    \n",
    "    def __init__(self,value):\n",
    "        \n",
    "        self.value = value\n",
    "        self.nextnode = None"
   ]
  },
  {
   "cell_type": "markdown",
   "id": "facf9d3c",
   "metadata": {},
   "source": [
    "# Solution"
   ]
  },
  {
   "cell_type": "markdown",
   "id": "383a0ba7",
   "metadata": {},
   "source": [
    "To solve this problem we will have two markers traversing through the list.\n",
    "marker1 and marker2. We will have both markers begin at the first node of \n",
    "the list and traverse through the linked list. However the second marker,\n",
    "marker2, will move two nodes ahead for every one node that marker1 moves.\n",
    "\n",
    "By this logic we can imagine that the markers are \"racing\" through the \n",
    "linked list, with marker2 moving faster. If the linked list has a cylce \n",
    "and is circularly connected we will have the analogy of a track, in this\n",
    "case the marker2 will eventually be \"lapping\" the marker1 and they will \n",
    "equal each other.\n",
    "\n",
    "If the linked list has no cycle, then marker2 should be able to continue \n",
    "on until the very end, never equaling the first marker.\n",
    "\n",
    "Let's see this logic coded out:"
   ]
  },
  {
   "cell_type": "code",
   "execution_count": 6,
   "id": "497e754c",
   "metadata": {},
   "outputs": [],
   "source": [
    "def cycle_check(node):\n",
    "    \n",
    "    # Begin both markers at the first node\n",
    "    marker1 = node\n",
    "    marker2 = node\n",
    "    \n",
    "    # Go until end of list\n",
    "    while marker2 != None and marker2.nextnode != None:\n",
    "        \n",
    "        # Note\n",
    "        marker1 = marker1.nextnode\n",
    "        marker2 = marker2.nextnode.nextnode\n",
    "        \n",
    "        # Check if the markers have matched\n",
    "        if marker2 == marker1:\n",
    "            return True\n",
    "        \n",
    "    # Case where marker ahead reaches the end of the list\n",
    "    return False"
   ]
  },
  {
   "cell_type": "markdown",
   "id": "029ba2a0",
   "metadata": {},
   "source": [
    "# Test Your Solution"
   ]
  },
  {
   "cell_type": "code",
   "execution_count": 7,
   "id": "f081867c",
   "metadata": {},
   "outputs": [
    {
     "name": "stdout",
     "output_type": "stream",
     "text": [
      "ALL TEST CASES PASSED\n"
     ]
    }
   ],
   "source": [
    "\"\"\"\n",
    "RUN THIS CELL TO TEST YOUR SOLUTION\n",
    "\"\"\"\n",
    "from nose.tools import assert_equal\n",
    "\n",
    "# CREATE CYCLE LIST\n",
    "a = Node(1)\n",
    "b = Node(2)\n",
    "c = Node(3)\n",
    "\n",
    "a.nextnode = b\n",
    "b.nextnode = c\n",
    "c.nextnode = a # Cycle Here!\n",
    "\n",
    "\n",
    "# CREATE NON CYCLE LIST\n",
    "x = Node(1)\n",
    "y = Node(2)\n",
    "z = Node(3)\n",
    "\n",
    "x.nextnode = y\n",
    "y.nextnode = z\n",
    "\n",
    "\n",
    "#############\n",
    "class TestCycleCheck(object):\n",
    "    \n",
    "    def test(self,sol):\n",
    "        assert_equal(sol(a),True)\n",
    "        assert_equal(sol(x),False)\n",
    "        \n",
    "        print(\"ALL TEST CASES PASSED\")\n",
    "        \n",
    "# Run Tests\n",
    "\n",
    "t = TestCycleCheck()\n",
    "t.test(cycle_check)"
   ]
  },
  {
   "cell_type": "markdown",
   "id": "d0547891",
   "metadata": {},
   "source": [
    "# Prob-2 Linked List Reversal"
   ]
  },
  {
   "cell_type": "markdown",
   "id": "9bfec72b",
   "metadata": {},
   "source": [
    "Write a function to reverse a Linked List in place. The function will\n",
    "take in the head of the list as input and return the new head of the list.\n",
    "\n",
    "You are given the example Linked List Node class:"
   ]
  },
  {
   "cell_type": "code",
   "execution_count": 8,
   "id": "392db6cb",
   "metadata": {},
   "outputs": [],
   "source": [
    "class Node(object):\n",
    "    \n",
    "    def __init__(self,value):\n",
    "        \n",
    "        self.value = value\n",
    "        self.nextnode = None"
   ]
  },
  {
   "cell_type": "markdown",
   "id": "a936dabe",
   "metadata": {},
   "source": [
    "# Solution"
   ]
  },
  {
   "cell_type": "markdown",
   "id": "6afb9f30",
   "metadata": {},
   "source": [
    "Since we want to do this in place we want to make the funciton operate in\n",
    "O(1) space, meaning we don't want to create a new list, so we will simply \n",
    "use the current nodes! Time wise, we can perform the reversal in O(n) time.\n",
    "\n",
    "We can reverse the list by changing the next pointer of each node. Each\n",
    "node's next pointer should point to the previous node.\n",
    "\n",
    "In one pass from head to tail of our input list, we will point each\n",
    "node's next pointer to the previous element.\n",
    "\n",
    "Make sure to copy current.next_node into next_node before setting\n",
    "current.next_node to previous. Let's see this solution coded out:"
   ]
  },
  {
   "cell_type": "code",
   "execution_count": 9,
   "id": "ef90f265",
   "metadata": {},
   "outputs": [],
   "source": [
    "def reverse(head):\n",
    "    \n",
    "    # Set up current, previous, and next nodes\n",
    "    current = head\n",
    "    previous = None\n",
    "    nextnode = None\n",
    "    \n",
    "    # until we have gone through to the end of the list\n",
    "    while current:\n",
    "        \n",
    "        # Make sure to copy the current nodes next node to a variable next_node\n",
    "        # Before overwriting as the previous node for reversal\n",
    "        nextnode = current.nextnode\n",
    "        \n",
    "        # Reverse the pointer to the next_node\n",
    "        current.nextnode = previous\n",
    "        \n",
    "        # Go one forward in the list\n",
    "        previous = current\n",
    "        current = nextnode\n",
    "        \n",
    "    return previous    "
   ]
  },
  {
   "cell_type": "code",
   "execution_count": 10,
   "id": "47b14f33",
   "metadata": {},
   "outputs": [],
   "source": [
    "# Create a list of 4 nodes\n",
    "a = Node(1)\n",
    "b = Node(2)\n",
    "c = Node(3)\n",
    "d = Node(4)\n",
    "\n",
    "# Set up order a,b,c,d with values 1,2,3,4\n",
    "a.nextnode = b\n",
    "b.nextnode = c\n",
    "c.nextnode = d\n"
   ]
  },
  {
   "cell_type": "code",
   "execution_count": 11,
   "id": "947576b0",
   "metadata": {},
   "outputs": [
    {
     "name": "stdout",
     "output_type": "stream",
     "text": [
      "2\n",
      "3\n",
      "4\n"
     ]
    }
   ],
   "source": [
    "print(a.nextnode.value)\n",
    "print(b.nextnode.value)\n",
    "print(c.nextnode.value)"
   ]
  },
  {
   "cell_type": "code",
   "execution_count": 12,
   "id": "9c3b633e",
   "metadata": {},
   "outputs": [
    {
     "ename": "AttributeError",
     "evalue": "'NoneType' object has no attribute 'value'",
     "output_type": "error",
     "traceback": [
      "\u001b[1;31m---------------------------------------------------------------------------\u001b[0m",
      "\u001b[1;31mAttributeError\u001b[0m                            Traceback (most recent call last)",
      "\u001b[1;32m~\\AppData\\Local\\Temp/ipykernel_3832/3440078366.py\u001b[0m in \u001b[0;36m<module>\u001b[1;34m\u001b[0m\n\u001b[1;32m----> 1\u001b[1;33m \u001b[0md\u001b[0m\u001b[1;33m.\u001b[0m\u001b[0mnextnode\u001b[0m\u001b[1;33m.\u001b[0m\u001b[0mvalue\u001b[0m\u001b[1;33m\u001b[0m\u001b[1;33m\u001b[0m\u001b[0m\n\u001b[0m",
      "\u001b[1;31mAttributeError\u001b[0m: 'NoneType' object has no attribute 'value'"
     ]
    }
   ],
   "source": [
    "d.nextnode.value"
   ]
  },
  {
   "cell_type": "markdown",
   "id": "b9c90f03",
   "metadata": {},
   "source": [
    "So far so good. Note how there is no value proceeding the last node,\n",
    "this makes sense! Now let's reverse the linked list, we should see the \n",
    "opposite order of values!"
   ]
  },
  {
   "cell_type": "code",
   "execution_count": 13,
   "id": "09ad4c4b",
   "metadata": {},
   "outputs": [
    {
     "data": {
      "text/plain": [
       "<__main__.Node at 0x251f5e1f820>"
      ]
     },
     "execution_count": 13,
     "metadata": {},
     "output_type": "execute_result"
    }
   ],
   "source": [
    "reverse(a)"
   ]
  },
  {
   "cell_type": "code",
   "execution_count": 14,
   "id": "35d90ed2",
   "metadata": {},
   "outputs": [
    {
     "name": "stdout",
     "output_type": "stream",
     "text": [
      "3\n",
      "2\n",
      "1\n"
     ]
    }
   ],
   "source": [
    "print(d.nextnode.value)\n",
    "print(c.nextnode.value)\n",
    "print(b.nextnode.value)"
   ]
  },
  {
   "cell_type": "code",
   "execution_count": 15,
   "id": "f02220d2",
   "metadata": {},
   "outputs": [
    {
     "ename": "AttributeError",
     "evalue": "'NoneType' object has no attribute 'value'",
     "output_type": "error",
     "traceback": [
      "\u001b[1;31m---------------------------------------------------------------------------\u001b[0m",
      "\u001b[1;31mAttributeError\u001b[0m                            Traceback (most recent call last)",
      "\u001b[1;32m~\\AppData\\Local\\Temp/ipykernel_3832/553022722.py\u001b[0m in \u001b[0;36m<module>\u001b[1;34m\u001b[0m\n\u001b[1;32m----> 1\u001b[1;33m \u001b[0mprint\u001b[0m\u001b[1;33m(\u001b[0m\u001b[0ma\u001b[0m\u001b[1;33m.\u001b[0m\u001b[0mnextnode\u001b[0m\u001b[1;33m.\u001b[0m\u001b[0mvalue\u001b[0m\u001b[1;33m)\u001b[0m \u001b[1;31m# This will give an error since it now points to None\u001b[0m\u001b[1;33m\u001b[0m\u001b[1;33m\u001b[0m\u001b[0m\n\u001b[0m",
      "\u001b[1;31mAttributeError\u001b[0m: 'NoneType' object has no attribute 'value'"
     ]
    }
   ],
   "source": [
    "print(a.nextnode.value) # This will give an error since it now points to None"
   ]
  },
  {
   "cell_type": "markdown",
   "id": "cf32e80f",
   "metadata": {},
   "source": [
    "Great, now we can see that each of the values points to its previous \n",
    "value (although now that the linked list is reversed we can see the\n",
    "ordering has also reversed)"
   ]
  },
  {
   "cell_type": "code",
   "execution_count": null,
   "id": "36ec8abf",
   "metadata": {},
   "outputs": [],
   "source": []
  },
  {
   "cell_type": "markdown",
   "id": "5165bb1d",
   "metadata": {},
   "source": [
    "# Prob-3 Linked List Nth to Last Node"
   ]
  },
  {
   "cell_type": "markdown",
   "id": "469d1aac",
   "metadata": {},
   "source": [
    "Write a function that takes a head node and an integer value n and then\n",
    "returns the nth to last node in the linked list. For example, given:"
   ]
  },
  {
   "cell_type": "code",
   "execution_count": 16,
   "id": "57590bdf",
   "metadata": {},
   "outputs": [],
   "source": [
    "class Node:\n",
    "    \n",
    "    def __init__(self, value):\n",
    "        self.value = value\n",
    "        self.nextnode = None"
   ]
  },
  {
   "cell_type": "code",
   "execution_count": 17,
   "id": "e6931f49",
   "metadata": {},
   "outputs": [
    {
     "ename": "NameError",
     "evalue": "name 'nth_to_last_node' is not defined",
     "output_type": "error",
     "traceback": [
      "\u001b[1;31m---------------------------------------------------------------------------\u001b[0m",
      "\u001b[1;31mNameError\u001b[0m                                 Traceback (most recent call last)",
      "\u001b[1;32m~\\AppData\\Local\\Temp/ipykernel_3832/796897903.py\u001b[0m in \u001b[0;36m<module>\u001b[1;34m\u001b[0m\n\u001b[0;32m     11\u001b[0m \u001b[1;33m\u001b[0m\u001b[0m\n\u001b[0;32m     12\u001b[0m \u001b[1;31m# This would return the node d with a value of 4, because its the 2nd to last node.\u001b[0m\u001b[1;33m\u001b[0m\u001b[1;33m\u001b[0m\u001b[0m\n\u001b[1;32m---> 13\u001b[1;33m \u001b[0mtarget_node\u001b[0m \u001b[1;33m=\u001b[0m \u001b[0mnth_to_last_node\u001b[0m\u001b[1;33m(\u001b[0m\u001b[1;36m2\u001b[0m\u001b[1;33m,\u001b[0m \u001b[0ma\u001b[0m\u001b[1;33m)\u001b[0m\u001b[1;33m\u001b[0m\u001b[1;33m\u001b[0m\u001b[0m\n\u001b[0m",
      "\u001b[1;31mNameError\u001b[0m: name 'nth_to_last_node' is not defined"
     ]
    }
   ],
   "source": [
    "a = Node(1)\n",
    "b = Node(2)\n",
    "c = Node(3)\n",
    "d = Node(4)\n",
    "e = Node(5)\n",
    "\n",
    "a.nextnode = b\n",
    "b.nextnode = c\n",
    "c.nextnode = d\n",
    "d.nextnode = e\n",
    "\n",
    "# This would return the node d with a value of 4, because its the 2nd to last node.\n",
    "target_node = nth_to_last_node(2, a)"
   ]
  },
  {
   "cell_type": "code",
   "execution_count": 18,
   "id": "c61da02c",
   "metadata": {},
   "outputs": [
    {
     "ename": "NameError",
     "evalue": "name 'target_node' is not defined",
     "output_type": "error",
     "traceback": [
      "\u001b[1;31m---------------------------------------------------------------------------\u001b[0m",
      "\u001b[1;31mNameError\u001b[0m                                 Traceback (most recent call last)",
      "\u001b[1;32m~\\AppData\\Local\\Temp/ipykernel_3832/1953002246.py\u001b[0m in \u001b[0;36m<module>\u001b[1;34m\u001b[0m\n\u001b[1;32m----> 1\u001b[1;33m \u001b[0mtarget_node\u001b[0m\u001b[1;33m.\u001b[0m\u001b[0mvalue\u001b[0m\u001b[1;33m\u001b[0m\u001b[1;33m\u001b[0m\u001b[0m\n\u001b[0m",
      "\u001b[1;31mNameError\u001b[0m: name 'target_node' is not defined"
     ]
    }
   ],
   "source": [
    "target_node.value"
   ]
  },
  {
   "cell_type": "markdown",
   "id": "853c1a79",
   "metadata": {},
   "source": [
    "# Solution"
   ]
  },
  {
   "cell_type": "markdown",
   "id": "6b67d0f0",
   "metadata": {},
   "source": [
    "One approach to this problem is this:\n",
    "\n",
    "Imagine you have a bunch of nodes and a \"block\" which is n-nodes wide. We\n",
    "could walk this \"block\" all the way down the list, and once the front of\n",
    "the block reached the end, then the other end of the block would be a the \n",
    "Nth node!\n",
    "\n",
    "So to implement this \"block\" we would just have two pointers a left and \n",
    "right pair of pointers. Let's mark out the steps we will need to take:\n",
    "\n",
    "Walk one pointer n nodes from the head, this will be the right_point\n",
    "\n",
    "Put the other pointer at the head, this will be the left_point\n",
    "\n",
    "Walk/traverse the block (both pointers) towards the tail, one node at a \n",
    "\n",
    "time, keeping a distance n between them.\n",
    "\n",
    "Once the right_point has hit the tail, we know that the left point is at\n",
    "the target.\n",
    "\n",
    "Let's see the code for this!"
   ]
  },
  {
   "cell_type": "code",
   "execution_count": 20,
   "id": "837fc1f8",
   "metadata": {},
   "outputs": [],
   "source": [
    "def nth_to_last_node(n,head):\n",
    "    \n",
    "    left_pointer = head\n",
    "    right_pointer = head\n",
    "    \n",
    "    # Set right pointer at n nodes away from head\n",
    "    for i in range(n-1):\n",
    "        \n",
    "        # Check for edge case of not having enough nodes!\n",
    "        if not right_pointer.nextnode:\n",
    "            raise LookupError('Error: n is larger than the linked list.')\n",
    "            \n",
    "        # Otherwise, we can set the block\n",
    "        right_pointer = right_pointer.nextnode\n",
    "        \n",
    "    # Move the block down the linked list\n",
    "    while right_pointer.nextnode:\n",
    "        left_pointer = left_pointer.nextnode\n",
    "        right_pointer = right_pointer.nextnode\n",
    "        \n",
    "    # Now return left pointer, its at the nth to last element!\n",
    "    return left_pointer"
   ]
  },
  {
   "cell_type": "markdown",
   "id": "d9a49ac6",
   "metadata": {},
   "source": [
    "# Test Your Solution"
   ]
  },
  {
   "cell_type": "code",
   "execution_count": 21,
   "id": "ea735aca",
   "metadata": {},
   "outputs": [
    {
     "name": "stdout",
     "output_type": "stream",
     "text": [
      "ALL TEST CASES PASSED\n"
     ]
    }
   ],
   "source": [
    "\"\"\"\n",
    "RUN THIS CELL TO TEST YOUR SOLUTION AGAINST A TEST CASE \n",
    "\n",
    "PLEASE NOTE THIS IS JUST ONE CASE\n",
    "\"\"\"\n",
    "\n",
    "from nose.tools import assert_equal\n",
    "\n",
    "a = Node(1)\n",
    "b = Node(2)\n",
    "c = Node(3)\n",
    "d = Node(4)\n",
    "e = Node(5)\n",
    "\n",
    "a.nextnode = b\n",
    "b.nextnode = c\n",
    "c.nextnode = d\n",
    "d.nextnode = e\n",
    "\n",
    "####\n",
    "\n",
    "class TestNLast(object):\n",
    "    \n",
    "    def test(self,sol):\n",
    "        \n",
    "        assert_equal(sol(2,a),d)\n",
    "        print('ALL TEST CASES PASSED')\n",
    "        \n",
    "# Run tests\n",
    "t = TestNLast()\n",
    "t.test(nth_to_last_node)"
   ]
  },
  {
   "cell_type": "code",
   "execution_count": null,
   "id": "d41e9342",
   "metadata": {},
   "outputs": [],
   "source": []
  },
  {
   "cell_type": "markdown",
   "id": "7f27dd83",
   "metadata": {},
   "source": [
    "# Prob-4 Implement a Doubly Linked List"
   ]
  },
  {
   "cell_type": "markdown",
   "id": "cdd5427a",
   "metadata": {},
   "source": [
    "Implement a Linked List by using a Node class object. Show how you would\n",
    "implement a Singly Linked List and a Doubly Linked List!"
   ]
  },
  {
   "cell_type": "markdown",
   "id": "5afd8f7f",
   "metadata": {},
   "source": [
    "# Solution"
   ]
  },
  {
   "cell_type": "markdown",
   "id": "5633691a",
   "metadata": {},
   "source": [
    "Since this is asking the same thing as the implementation lectures,\n",
    "please refer to those video lectures and notes for a full explanation.\n",
    "The code from those lectures is displayed below:"
   ]
  },
  {
   "cell_type": "markdown",
   "id": "a7cfcc33",
   "metadata": {},
   "source": [
    "# Singly Linked List"
   ]
  },
  {
   "cell_type": "code",
   "execution_count": 22,
   "id": "15baa439",
   "metadata": {},
   "outputs": [],
   "source": [
    "class LinkedListNode(object):\n",
    "    \n",
    "    def __init__(self, value):\n",
    "        \n",
    "        self.value = value\n",
    "        self.nextnode = None\n",
    "        "
   ]
  },
  {
   "cell_type": "code",
   "execution_count": 23,
   "id": "9a763953",
   "metadata": {},
   "outputs": [],
   "source": [
    "a = LinkedListNode(1)\n",
    "b = LinkedListNode(2)\n",
    "c = LinkedListNode(3)"
   ]
  },
  {
   "cell_type": "code",
   "execution_count": 24,
   "id": "ed7e097a",
   "metadata": {},
   "outputs": [],
   "source": [
    "a.nextnode = b\n",
    "b.nextnode = c"
   ]
  },
  {
   "cell_type": "markdown",
   "id": "b2213439",
   "metadata": {},
   "source": [
    "# Doubly Linked List"
   ]
  },
  {
   "cell_type": "code",
   "execution_count": 25,
   "id": "c1cf33e4",
   "metadata": {},
   "outputs": [],
   "source": [
    "class DoublyLinkedListNode(object):\n",
    "    \n",
    "    def __init__(self, value):\n",
    "        \n",
    "        self.value = value\n",
    "        self.next_node = None\n",
    "        self.prev_node = None"
   ]
  },
  {
   "cell_type": "code",
   "execution_count": 26,
   "id": "09057028",
   "metadata": {},
   "outputs": [],
   "source": [
    "a = DoublyLinkedListNode(1)\n",
    "b = DoublyLinkedListNode(2)\n",
    "c = DoublyLinkedListNode(3)"
   ]
  },
  {
   "cell_type": "code",
   "execution_count": 27,
   "id": "4fdf12d4",
   "metadata": {},
   "outputs": [],
   "source": [
    "# Setting b after a\n",
    "b.prev_node = a\n",
    "a.next_node = b"
   ]
  },
  {
   "cell_type": "code",
   "execution_count": 28,
   "id": "a6c20af7",
   "metadata": {},
   "outputs": [],
   "source": [
    "# Setting c after a\n",
    "b.next_node = c\n",
    "c.prev_node = b"
   ]
  },
  {
   "cell_type": "code",
   "execution_count": null,
   "id": "8fecf455",
   "metadata": {},
   "outputs": [],
   "source": []
  }
 ],
 "metadata": {
  "kernelspec": {
   "display_name": "Python 3 (ipykernel)",
   "language": "python",
   "name": "python3"
  },
  "language_info": {
   "codemirror_mode": {
    "name": "ipython",
    "version": 3
   },
   "file_extension": ".py",
   "mimetype": "text/x-python",
   "name": "python",
   "nbconvert_exporter": "python",
   "pygments_lexer": "ipython3",
   "version": "3.9.7"
  }
 },
 "nbformat": 4,
 "nbformat_minor": 5
}
