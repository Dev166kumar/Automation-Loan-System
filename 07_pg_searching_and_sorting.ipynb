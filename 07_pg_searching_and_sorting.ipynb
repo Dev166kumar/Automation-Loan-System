{
 "cells": [
  {
   "cell_type": "markdown",
   "id": "4b2345cb",
   "metadata": {},
   "source": [
    "# #Searching"
   ]
  },
  {
   "cell_type": "markdown",
   "id": "365694ba",
   "metadata": {},
   "source": [
    "# Searching Overview"
   ]
  },
  {
   "cell_type": "code",
   "execution_count": 2,
   "id": "f644c8d5",
   "metadata": {},
   "outputs": [],
   "source": [
    "# Sequential Search\n",
    "# Implementation of Sequential Search\n",
    "# Binary Search\n",
    "# Implementation of Binary Search\n",
    "# Hashing\n",
    "# Hash Tables\n",
    "\n",
    "# In Python we can use the \"in\" operator to search for elements in a list\n",
    "\n",
    "# But how does the underlying process actually work?\n",
    "\n",
    "# What's the best way to search for things algorithmically?\n",
    "\n",
    "# Let's get started"
   ]
  },
  {
   "cell_type": "markdown",
   "id": "93371299",
   "metadata": {},
   "source": [
    "# Sequential Search"
   ]
  },
  {
   "cell_type": "code",
   "execution_count": 4,
   "id": "b04c8602",
   "metadata": {},
   "outputs": [],
   "source": [
    "# # Basic searching technique, sequentially go through the data structure,\n",
    "# comparing elements as you go along.\n",
    "\n",
    "# # For example, on an unordered list searching for the element 50:\n",
    "\n",
    "# # Watch the video to see the diagram\n",
    "\n",
    "# # In the given case 50 was not present, but we still had to check every \n",
    "# element in the array.\n",
    "\n",
    "# # But what if it was ordered?\n",
    "\n",
    "# # If the list is ordered, we know we only have search until we reach an \n",
    "# element which is a match or we reach an element which is greater than our\n",
    "# search target.\n",
    "\n",
    "# # For example, searching for 50, we can stop here at 54.\n",
    "\n",
    "# # Unordered List Analysis    (watch the video to see the table)\n",
    "\n",
    "# # Ordered list\n",
    "\n",
    "# # Let's do some basic implementation of Sequential Search!\n",
    "\n",
    "## We will do both Ordered and Unordered implementations!"
   ]
  },
  {
   "cell_type": "markdown",
   "id": "774d0ea0",
   "metadata": {},
   "source": [
    "# Sequential Search Implementation"
   ]
  },
  {
   "cell_type": "code",
   "execution_count": 12,
   "id": "9e3bd934",
   "metadata": {},
   "outputs": [],
   "source": [
    "def Ordered_seq_search(arr,ele):\n",
    "    \"\"\"\n",
    "    Input array must be ordered/sorted\n",
    "    \"\"\"\n",
    "    \n",
    "    pos = 0\n",
    "    found = False\n",
    "    stopped = False\n",
    "    \n",
    "    while pos < len(arr) and not found and not stopped:\n",
    "        \n",
    "        if arr[pos] == ele:\n",
    "            found = True\n",
    "            \n",
    "        else:\n",
    "            \n",
    "            if arr[pos] > ele:\n",
    "                stopped = True\n",
    "                \n",
    "            else:\n",
    "                pos += 1\n",
    "            \n",
    "    return found        "
   ]
  },
  {
   "cell_type": "code",
   "execution_count": 13,
   "id": "4f7d8838",
   "metadata": {},
   "outputs": [],
   "source": [
    "arr = [1,2,3,4,5]"
   ]
  },
  {
   "cell_type": "code",
   "execution_count": 14,
   "id": "704360f2",
   "metadata": {},
   "outputs": [
    {
     "data": {
      "text/plain": [
       "False"
      ]
     },
     "execution_count": 14,
     "metadata": {},
     "output_type": "execute_result"
    }
   ],
   "source": [
    "seq_search(arr,12)"
   ]
  },
  {
   "cell_type": "markdown",
   "id": "d347b26d",
   "metadata": {},
   "source": [
    "# Binary Search"
   ]
  },
  {
   "cell_type": "code",
   "execution_count": 15,
   "id": "20597813",
   "metadata": {},
   "outputs": [],
   "source": [
    "# --> Binary Search\n",
    "# --> Implementation of Binary Search\n",
    "# --> Iterative \n",
    "# --> Recursive\n",
    "\n",
    "# # We can take greater advantage of the ordered list! \n",
    "\n",
    "# # Instead of searching the list in sequence, a binary search will start by\n",
    "# examining the middle item.\n",
    "\n",
    "\n",
    "# # A binary search will start by examining the middle item.\n",
    "\n",
    "# # If that item is the one we are searching for, we are done.\n",
    "\n",
    "# # If the item we are searching for is greater than the middle item, we know\n",
    "# that the entire lower half of the list as well as the middle item can be \n",
    "# eliminated from further comsideration.\n",
    "\n",
    "# # The item, if it is the list, must be in the upper half.\n",
    "\n",
    "# # We can then repeat the process with the upper half. Start at the middle\n",
    "# item and compare it against what we are looking for.\n",
    "\n",
    "# # Again, we either find it or split the list in half, therefore eliminating\n",
    "# another large part of our possible search space.\n",
    "# ---------------------------------------------------------------------------------------------------------------\n",
    "\n",
    "# ## Divide and Conquer\n",
    "\n",
    "# # Binary search uses Divide and Conquer! \n",
    "\n",
    "# # We divide the problem into smaller pieces, solve the smaller pieces in some\n",
    "# way, and then reassemble the whole problem to get the result.\n",
    "# ---------------------------------------------------------------------------------------------------------------\n",
    "\n",
    "# ## Binary Search Analysis\n",
    "\n",
    "# # Each comparison eliminates about half of the remaining items from consideration.\n",
    "\n",
    "# # What is the maximum number of comparisons this algorithm will require to\n",
    "# check the entire list?\n",
    "\n",
    "# Comparisons --> 1,2,3,..........i\n",
    "\n",
    "# Approximate Number of items Left --> n/2 , n/4, n/8, ..............n/(2)^i\n",
    "\n",
    "# # "
   ]
  },
  {
   "cell_type": "markdown",
   "id": "ed47af01",
   "metadata": {},
   "source": [
    "# Implementation of Binary Search"
   ]
  },
  {
   "cell_type": "code",
   "execution_count": 13,
   "id": "28db264b",
   "metadata": {},
   "outputs": [],
   "source": [
    "def binary_search(arr,ele):\n",
    "    \n",
    "    # First and last index values\n",
    "    first = 0 \n",
    "    last = len(arr)-1\n",
    "    \n",
    "    found = False\n",
    "    \n",
    "    while first <= last and not found:\n",
    "        \n",
    "        mid = (first+last)//2\n",
    "        \n",
    "        # Match found\n",
    "        if arr[mid] == ele:\n",
    "            found = True\n",
    "            \n",
    "        # Set new midpoints up or down depending on comparison    \n",
    "        else:\n",
    "            # Set down\n",
    "            if ele < arr[mid]:\n",
    "                last = mid - 1\n",
    "            # Set up    \n",
    "            else:\n",
    "                first = mid + 1\n",
    "            \n",
    "    return found        "
   ]
  },
  {
   "cell_type": "code",
   "execution_count": 14,
   "id": "fcba8df3",
   "metadata": {},
   "outputs": [],
   "source": [
    "# List must already be sorted!\n",
    "arr = [1,2,3,4,5,6,7,8,9,10]"
   ]
  },
  {
   "cell_type": "code",
   "execution_count": 15,
   "id": "8b62e70c",
   "metadata": {},
   "outputs": [
    {
     "data": {
      "text/plain": [
       "True"
      ]
     },
     "execution_count": 15,
     "metadata": {},
     "output_type": "execute_result"
    }
   ],
   "source": [
    "binary_search(arr,4)"
   ]
  },
  {
   "cell_type": "code",
   "execution_count": 16,
   "id": "3426de3e",
   "metadata": {},
   "outputs": [
    {
     "data": {
      "text/plain": [
       "False"
      ]
     },
     "execution_count": 16,
     "metadata": {},
     "output_type": "execute_result"
    }
   ],
   "source": [
    "binary_search(arr,2.2)"
   ]
  },
  {
   "cell_type": "markdown",
   "id": "dc661624",
   "metadata": {},
   "source": [
    "# Recursive Version of Binary search"
   ]
  },
  {
   "cell_type": "code",
   "execution_count": 17,
   "id": "5c7b2eb7",
   "metadata": {},
   "outputs": [],
   "source": [
    "def rec_bin_search(arr,ele):\n",
    "    \n",
    "    # Base Case! \n",
    "    if len(arr) == 0:\n",
    "        return False\n",
    "    \n",
    "    # Recursive Case\n",
    "    else:\n",
    "        \n",
    "        mid = len(arr)//2\n",
    "        \n",
    "        # If match found\n",
    "        if arr[mid]==ele:\n",
    "            return True\n",
    "        \n",
    "        else:\n",
    "            \n",
    "            # Call again on second half\n",
    "            if ele < arr[mid]:\n",
    "                return rec_bin_search(arr[:mid],ele)\n",
    "            \n",
    "            # Or call on first half\n",
    "            else:\n",
    "                return rec_bin_search(arr[mid+1:],ele)\n",
    "        "
   ]
  },
  {
   "cell_type": "code",
   "execution_count": 18,
   "id": "3e58a8c6",
   "metadata": {},
   "outputs": [
    {
     "data": {
      "text/plain": [
       "True"
      ]
     },
     "execution_count": 18,
     "metadata": {},
     "output_type": "execute_result"
    }
   ],
   "source": [
    "rec_bin_search(arr,3)"
   ]
  },
  {
   "cell_type": "code",
   "execution_count": 19,
   "id": "bf79ab16",
   "metadata": {},
   "outputs": [
    {
     "data": {
      "text/plain": [
       "False"
      ]
     },
     "execution_count": 19,
     "metadata": {},
     "output_type": "execute_result"
    }
   ],
   "source": [
    "rec_bin_search(arr,15)"
   ]
  },
  {
   "cell_type": "code",
   "execution_count": null,
   "id": "95212929",
   "metadata": {},
   "outputs": [],
   "source": []
  },
  {
   "cell_type": "markdown",
   "id": "85dd5fcb",
   "metadata": {},
   "source": [
    "# #Hashing"
   ]
  },
  {
   "cell_type": "code",
   "execution_count": 20,
   "id": "cb323170",
   "metadata": {},
   "outputs": [],
   "source": [
    "# Hashing\n",
    "# Hashing Tables\n",
    "# Hash Functions\n",
    "# Collision Resolution\n",
    "# Implementing a Hash Table\n"
   ]
  },
  {
   "cell_type": "code",
   "execution_count": 21,
   "id": "f4d778ba",
   "metadata": {},
   "outputs": [],
   "source": [
    "# # We've seen how to improve search by knowing about structures beforehand.\n",
    "\n",
    "# # We can build a data structure that can be searched in O(1) time.\n",
    "\n",
    "# # This concept is referred to as hashing.\n",
    "\n",
    "# # A hash table is a collection of items which are stored in such a way as \n",
    "# to make it easy to find them later.\n",
    "\n",
    "# # Each position of the hash table, slots, can hold an item and is named by\n",
    "# an integer value starting at 0.\n",
    "\n",
    "# # For example, we will have a slot named 0, a slot named 1, a slot named 2,\n",
    "# and so on.\n",
    "\n",
    "# # Initially, the hash table contains no items so every slot is empty.\n",
    "\n",
    "# # We can implement a hash table by using a list with each element initialized\n",
    "# to the special Python value None.\n",
    "\n",
    "# # Here is an empty hash table with size m=11  (Watch the video to see the diagram)\n",
    "\n",
    "# # The mapping between an item and the slot where that item belongs in the \n",
    "# hash table is called the hash funtion.\n",
    "\n",
    "# # The hash function will take any item in the collection and return an integer\n",
    "# in the range of slot names, between 0 and m-1.\n",
    "\n",
    "# # So how should we use hash functions to map items to slots?\n",
    "\n"
   ]
  },
  {
   "cell_type": "markdown",
   "id": "13a74108",
   "metadata": {},
   "source": [
    "# Hash Function - Remainder Method"
   ]
  },
  {
   "cell_type": "code",
   "execution_count": 22,
   "id": "b659605f",
   "metadata": {},
   "outputs": [],
   "source": [
    "# # One hash function we can use is the remainder method.\n",
    "\n",
    "# # When presented with an item, the hash function is the item divided by the\n",
    "# table size, this is then its slot number.\n",
    "\n",
    "# # Let's see an example!\n",
    "# -----------------------------------------------------------------------------------------------------------------------\n",
    "\n",
    "# ## Assuming that we have the set of integer items 54,26,93,17,77, and 31.\n",
    "\n",
    "# # WE've preassigned an empty hash table of m=11\n",
    "\n",
    "# # Our remainder hash function then is :\n",
    "# h(item) = item%11\n",
    "\n",
    "# # Let's see the results as a table  (watch the video to see the diagram)\n",
    "\n",
    "# # We're now ready to occupy 6 out of the 11 slots.\n",
    "\n",
    "# # This is referred to as the load factor, and is commonly denoted by \n",
    "\n",
    "#       Lambda = (numberofitems/tablesize).\n",
    "\n",
    "# # For this example, lambda = 6/11.\n",
    "\n",
    "# # Our hash table has now been loaded. (watch the video to see the diagram)\n",
    "\n",
    "# # When we want to search for an item, we simply use the hash function to \n",
    "# compute the slot name for the item and then check the hash table to see if \n",
    "# it is present.\n",
    "\n",
    "# # This searching operation is O(1), since a constant amount of time is \n",
    "# required to compute the hash value and then index the hash table at that \n",
    "# location.\n",
    "\n",
    "# # You might be thinking, what if you have two items that would result in the\n",
    "# same location?\n",
    "\n",
    "# # For example 44%11 and 77%11 are the same.\n",
    "\n",
    "# # This is known as a collision (also known as a clash).\n",
    "\n",
    "# # We'll learn how to deal with them later on.\n",
    "\n",
    "# # Let's learn about hash functions in general!\n",
    "# -------------------------------------------------------------------------------------------------------------------------------------\n",
    "\n",
    "# ## A hash function that maps each item into a unique slot is referred to as\n",
    "# a perfect hash function.\n",
    "\n",
    "# # Our goal is to create a hash function that minimizes the number of collisions,\n",
    "# is easy to compute, and evenly distributes the items in the hash table.\n",
    "\n",
    "# # Let's discuss a few techniques for this!\n",
    "\n",
    "    \n"
   ]
  },
  {
   "cell_type": "markdown",
   "id": "b446c282",
   "metadata": {},
   "source": [
    "# Hash Functions - Folding Method"
   ]
  },
  {
   "cell_type": "code",
   "execution_count": 23,
   "id": "749dc260",
   "metadata": {},
   "outputs": [],
   "source": [
    "# # The folding method for constructing hash functions begins by dividing the\n",
    "# item into equal-size pieces (the last piece may not be of equal size).\n",
    "\n",
    "# # These pieces are then added together to give the resulting hash value.\n",
    "\n",
    "# # If our item was the phone number 436-555-4501\n",
    "\n",
    "# # We would take the digits and divide them into groups of 2 (43,65,55,46,01)\n",
    "\n",
    "# # After the addition, 43+65+55+46+01, we get 210.\n",
    "\n",
    "# # If we assume our hash table has 11 slots, then we need to perform the extra\n",
    "# step of dividing by 11 and keeping the remainder.\n",
    "\n",
    "# # 210 % 11 is 1, so the phone number 436-555-4601 hashes to slot 1.\n",
    "\n",
    "# # "
   ]
  },
  {
   "cell_type": "markdown",
   "id": "922b2b7e",
   "metadata": {},
   "source": [
    "# Hash Function - Mid Square Method"
   ]
  },
  {
   "cell_type": "code",
   "execution_count": 24,
   "id": "c07c97f2",
   "metadata": {},
   "outputs": [],
   "source": [
    "# # For the mid-square method we first square the item, and then extract some\n",
    "# portion of the resulting digits.\n",
    "\n",
    "# # For example, if the item were 44, we would first compute 44^2 = 1936.\n",
    "\n",
    "# # By extracting the middle two digits, 93, and performing the remainder step,\n",
    "# we get 93%11 = 5.  (Watch the video to see the diagram)\n",
    "# -----------------------------------------------------------------------------------------------------------------------------\n",
    "\n",
    "# ## Hash Function\n",
    "# --------------------------------------------------------------------------------------------------------------\n",
    "\n",
    "# # Non-integer elements\n",
    "\n",
    "# # We can also create hash functions for character-based items such as strings.\n",
    "\n",
    "# # The word \"cat\" can be thought of as a sequence of ordinal values. (watch video)\n",
    "\n",
    "# # "
   ]
  },
  {
   "cell_type": "markdown",
   "id": "c84ce6a8",
   "metadata": {},
   "source": [
    "# Collision Resolution"
   ]
  },
  {
   "cell_type": "code",
   "execution_count": 1,
   "id": "1dd30563",
   "metadata": {},
   "outputs": [],
   "source": [
    "# # One method for resolving collisions looks into the hash table and tries to\n",
    "# find another open slot to hold the item that caused the collision.\n",
    "\n",
    "# # We could start at the original hash value position and then move in a sequential\n",
    "# manner through the slots until we encounter the first slot that is empty.\n",
    "\n",
    "# # This collision resolution process is referred to as open addressing in that\n",
    "# it tries to find the next open slot or address in the hash table.\n",
    "\n",
    "# # By systematically visiting each slot one at a time, we are performing an\n",
    "# open addressing technique called linear probing.\n",
    "\n",
    "# # Consider the following table:\n",
    "\n",
    "# # What if we had to add 44,55,and 20?   (watch the video to see the table)\n",
    "\n",
    "# # With linear probing we keep moving down until we find an empty slot!\n",
    "\n",
    "# # One way to deal with clustering is to skip slots thereby more evenly distributing \n",
    "# the items that have caused collisions.\n",
    "\n",
    "# # The general name for this process of looking for another slot after a collision\n",
    "# is rehashing.\n",
    "\n",
    "# # A variation of the linear probing idea is called quadratic probing.\n",
    "\n",
    "# # Instead of using a constant \"skip\" value, we use a rehash function that\n",
    "# increments the hash value by 1,3,5,7,9, and so on.\n",
    "\n",
    "# # This means that if the first hash value is h, the successive values are \n",
    "# h+1, h+4, h+9, h+16, and so on.\n",
    "\n",
    "# # An alternative method for handling the collision problem is to allow each\n",
    "# slot to hold a reference to a collection (or chain) of items.\n",
    "\n",
    "# # Chaining allows many items to exist at the same location in the hash table.\n",
    "\n",
    "# # When collisions happen, the item is still placed in the proper slot of the\n",
    "# hash table.\n",
    "\n",
    "# # Chaining  (watch the video to see the diagram)\n",
    "\n",
    "# # As more and more items hash to the same location, the difficulty of searching\n",
    "# for the item in the collection increases.\n",
    "# ----------------------------------------------------------------------------------------------------------------------------------------------------------------\n",
    "\n",
    "# ## Review\n",
    "\n",
    "# # We've covered a lot!\n",
    "# --> Hashing\n",
    "# --> Hash Table\n",
    "# --> Various Hash Funtions\n",
    "# --> Collision Resolution Methods Up next, let's implement our own HashTable\n",
    "# class!\n",
    "\n",
    "# # "
   ]
  },
  {
   "cell_type": "markdown",
   "id": "a956c7c2",
   "metadata": {},
   "source": [
    "# Implementation of Hash Table"
   ]
  },
  {
   "cell_type": "markdown",
   "id": "4c1daa6a",
   "metadata": {},
   "source": [
    "In this lecture we will be implementing our own Hash Table to complete our\n",
    "understanding of Hash Tables and Hash Functions! Make sure to review the \n",
    "video lecture before this to fully understand this implementation!\n",
    "\n",
    "Keep in mind that Python already has a built-in dictionary object that \n",
    "serves as a Hash Table, you would never actually need to implement your\n",
    "own hash table in Python.\n",
    "\n"
   ]
  },
  {
   "cell_type": "markdown",
   "id": "1afbdeeb",
   "metadata": {},
   "source": [
    "# Map"
   ]
  },
  {
   "cell_type": "markdown",
   "id": "00c290a3",
   "metadata": {},
   "source": [
    "The idea of a dictionary used as a hash table to get and retrieve items\n",
    "using keys is often referred to as a mapping. In our implementation we\n",
    "will have the following methods:"
   ]
  },
  {
   "cell_type": "markdown",
   "id": "a989f283",
   "metadata": {},
   "source": [
    "\n",
    "HashTable():- Create a new, empty map. It returns an empty map collection.\n",
    "\n",
    "put(key,val):- Add a new key-value pair to the map. If the key is already in \n",
    "the map then replace the old value with the new value.\n",
    "\n",
    "get(key):- Given a key, return the value stored in the map or None otherwise.\n",
    "\n",
    "del:- Delete the key-value pair from the map using a statement of the form \n",
    "del map[key].\n",
    "\n",
    "len():- Return the number of key-value pairs stored\n",
    "\n",
    "in:- the map in Return True for a statement of the form key in map, if the\n",
    "given key is in the map, False otherwise."
   ]
  },
  {
   "cell_type": "code",
   "execution_count": 10,
   "id": "3aec3192",
   "metadata": {},
   "outputs": [],
   "source": [
    "class HashTable(object):\n",
    "    \n",
    "    def __init__(self,size):\n",
    "        \n",
    "        # Set up size and slots and data\n",
    "        self.size = size\n",
    "        self.slots = [None] * self.size\n",
    "        self.data = [None] * self.size\n",
    "        \n",
    "    def put(self,key,data):\n",
    "        # Note, we'll only use integer keys for ease of use with the Hash Function\n",
    "        \n",
    "        # Get the hash value\n",
    "        hashvalue = self.hashfunction(key,len(self.slots))\n",
    "        \n",
    "        # If Slot is Empty\n",
    "        if self.slots[hashvalue] == None:\n",
    "            self.slots[hashvalue] = key\n",
    "            self.data[hashvalue] = data\n",
    "        \n",
    "        else:\n",
    "            \n",
    "            # If key already exists, replace old value\n",
    "            if self.slots[hashvalue] == key:\n",
    "                self.data[hashvalue] = data\n",
    "                \n",
    "            # Otherwise, find the next available slot\n",
    "            else:\n",
    "                \n",
    "                nextslot = self.rehash(hashvalue,len(self.slots))\n",
    "                \n",
    "                # Get to the next slot\n",
    "                while self.slots[nextslot] != None and self.slots[nextslot] != key:\n",
    "                    nextslot = self.rehash(nextslot, len(self.slots))\n",
    "                    \n",
    "                # Set new key, if None\n",
    "                if self.slots[nextslot] == None:\n",
    "                    self.slots[nextslot] = key\n",
    "                    self.data[nextslot] = data\n",
    "                    \n",
    "                # Otherwise replace old value\n",
    "                else:\n",
    "                    self.data[nextslot] = data\n",
    "                    \n",
    "    def hashfunction(self,key,size):\n",
    "        # Remainder Method\n",
    "        return key%size\n",
    "    \n",
    "    def rehash(self,oldhash,size):\n",
    "        # For finding next possible positions\n",
    "        return (oldhash+1)%size\n",
    "    \n",
    "    def get(self,key):\n",
    "        \n",
    "        # Getting items given a key\n",
    "        \n",
    "        # Set up variables for our search\n",
    "        startslot = self.hashfunction(key,len(self.slots))\n",
    "        data = None\n",
    "        stop = False\n",
    "        found = False\n",
    "        position = startslot\n",
    "        \n",
    "        # Until we discern that its not empty or found (and haven't stopped yet)\n",
    "        while self.slots[position] != None and not found and not stop:\n",
    "            \n",
    "            if self.slots[position] == key:\n",
    "                found = True\n",
    "                data = self.data[position]\n",
    "                \n",
    "            else:\n",
    "                position = self.rehash(position, len(self.slots))\n",
    "                if position == starslot:\n",
    "                    \n",
    "                    stop = True\n",
    "        return data\n",
    "    \n",
    "    # Special methods for use with Python indexing\n",
    "    def __getitem__(self,key):\n",
    "        return self.get(key)\n",
    "    \n",
    "    def __setitem__(self,key,data):\n",
    "        self.put(key,data)"
   ]
  },
  {
   "cell_type": "markdown",
   "id": "58df343a",
   "metadata": {},
   "source": [
    "Let's see it in action"
   ]
  },
  {
   "cell_type": "code",
   "execution_count": 11,
   "id": "86afba10",
   "metadata": {},
   "outputs": [],
   "source": [
    "h = HashTable(5)"
   ]
  },
  {
   "cell_type": "code",
   "execution_count": 16,
   "id": "9b2a5432",
   "metadata": {},
   "outputs": [],
   "source": [
    "# Put our first key in \n",
    "h[1] = 'one'"
   ]
  },
  {
   "cell_type": "code",
   "execution_count": 17,
   "id": "ed8f5300",
   "metadata": {},
   "outputs": [],
   "source": [
    "h[2] = 'two'"
   ]
  },
  {
   "cell_type": "code",
   "execution_count": 18,
   "id": "447b6316",
   "metadata": {},
   "outputs": [],
   "source": [
    "h[3] = 'three'"
   ]
  },
  {
   "cell_type": "code",
   "execution_count": 19,
   "id": "d4883bfb",
   "metadata": {},
   "outputs": [
    {
     "data": {
      "text/plain": [
       "'one'"
      ]
     },
     "execution_count": 19,
     "metadata": {},
     "output_type": "execute_result"
    }
   ],
   "source": [
    "h[1]"
   ]
  },
  {
   "cell_type": "code",
   "execution_count": 20,
   "id": "59b4b03e",
   "metadata": {},
   "outputs": [],
   "source": [
    "h[1] = 'new_one'"
   ]
  },
  {
   "cell_type": "code",
   "execution_count": 21,
   "id": "efeefd66",
   "metadata": {},
   "outputs": [
    {
     "data": {
      "text/plain": [
       "'new_one'"
      ]
     },
     "execution_count": 21,
     "metadata": {},
     "output_type": "execute_result"
    }
   ],
   "source": [
    "h[1]"
   ]
  },
  {
   "cell_type": "code",
   "execution_count": 24,
   "id": "f7c10459",
   "metadata": {},
   "outputs": [
    {
     "name": "stdout",
     "output_type": "stream",
     "text": [
      "None\n"
     ]
    }
   ],
   "source": [
    "print(h[4])"
   ]
  },
  {
   "cell_type": "markdown",
   "id": "93b8c3da",
   "metadata": {},
   "source": [
    "# Great Job!"
   ]
  },
  {
   "cell_type": "markdown",
   "id": "9b0b8a90",
   "metadata": {},
   "source": [
    "That's it for this rudimentary implementation, try implementing a\n",
    "different hash function for practice!"
   ]
  },
  {
   "cell_type": "code",
   "execution_count": null,
   "id": "29263bdd",
   "metadata": {},
   "outputs": [],
   "source": []
  },
  {
   "cell_type": "markdown",
   "id": "d8e714de",
   "metadata": {},
   "source": [
    "# #Sorting"
   ]
  },
  {
   "cell_type": "code",
   "execution_count": 25,
   "id": "1abf3934",
   "metadata": {},
   "outputs": [],
   "source": [
    "# # Explanations and Implementations\n",
    "# --> The Bubble Sort\n",
    "# --> The Selection Sort\n",
    "# --> The Insertion Sort\n",
    "# --> The Shell Sort\n",
    "# --> The Merge Sort\n",
    "# --> The Quick Sort\n"
   ]
  },
  {
   "cell_type": "markdown",
   "id": "05a4d4d0",
   "metadata": {},
   "source": [
    "# Sorting in Context"
   ]
  },
  {
   "cell_type": "code",
   "execution_count": 26,
   "id": "59a8f3ed",
   "metadata": {},
   "outputs": [],
   "source": [
    "# # Common interview questions consist of being asked to implement a sorting\n",
    "# algorithm.\n",
    "\n",
    "# # Lectures will focus on 3 things:\n",
    "# --> Verbal Explanation\n",
    "# --> Visual Explanation\n",
    "# --> Full Implementation\n",
    "\n",
    "# # Let's get started"
   ]
  },
  {
   "cell_type": "markdown",
   "id": "54c903e7",
   "metadata": {},
   "source": [
    "# Quick Note on Learning Sorting Algorithms"
   ]
  },
  {
   "cell_type": "markdown",
   "id": "e44339ca",
   "metadata": {},
   "source": [
    "Before we begin the Sorting Algorithm Section, just a quick note. The best\n",
    "way to learn sorting algorithms is by understanding two things:\n",
    "\n",
    "1.) The underlying principle behind the algorithm\n",
    "\n",
    "2.) What a simple visualization of the algorithm looks like.\n",
    "\n",
    "The sorting lectures themselves are only designed to introduce you to each \n",
    "sorting algorithm, but to fully understand the algorithm, you'll need to \n",
    "check out the Wikipedia Page and make sure you understand the general \n",
    "concept and check out the visualization of the algorithm.\n",
    "\n",
    "Each of these algorithms will be implemented in a live code section and \n",
    "the visualization resources are linked to in each individual notebook for \n",
    "each implementation, but remember to take your time and understand the \n",
    "concept of the sorting algorithm before beginning the implementation \n",
    "lecture.\n",
    "\n",
    "Now let's get started!"
   ]
  },
  {
   "cell_type": "markdown",
   "id": "62e08e55",
   "metadata": {},
   "source": [
    "# Visualizing Sorting Algorithms"
   ]
  },
  {
   "cell_type": "code",
   "execution_count": 28,
   "id": "e79ee99b",
   "metadata": {},
   "outputs": [],
   "source": [
    "# Resources\n",
    "#   www.sorting-algorithms.com/insertion-sort\n",
    "#  https://visualgo.net/en\n",
    "#  bubble sort wikipedia.\n",
    "\n",
    "# "
   ]
  },
  {
   "cell_type": "markdown",
   "id": "5791decd",
   "metadata": {},
   "source": [
    "# Bubble Sort"
   ]
  },
  {
   "cell_type": "markdown",
   "id": "1d960222",
   "metadata": {},
   "source": [
    "--> Expanation of Bubble Sort\n",
    "\n",
    "--> Visualization of Bubble Sort\n",
    "\n",
    "--> Imlementation of Bubble Sort\n"
   ]
  },
  {
   "cell_type": "code",
   "execution_count": 1,
   "id": "ab94dd9e",
   "metadata": {},
   "outputs": [],
   "source": [
    "# # The bubble sort makes multiple passes through a list.\n",
    "\n",
    "# # It compares adjacent items and exchanges those that are out of order.\n",
    "\n",
    "# # Each pass through the list places the next largest value in its \n",
    "# proper place.\n",
    "\n",
    "# # Each item \"bubbles\" up to the location where it belongs. (Watch the video)\n",
    "\n",
    "# #  "
   ]
  },
  {
   "cell_type": "markdown",
   "id": "a4bb13e9",
   "metadata": {},
   "source": [
    "# Implementation of a Bubble Sort"
   ]
  },
  {
   "cell_type": "markdown",
   "id": "577ec800",
   "metadata": {},
   "source": [
    "Wikipedia - https://en.wikipedia.org/wiki/Bubble_sort\n",
    "    \n",
    "Visual Algo - https://visualgo.net/en\n",
    "    \n",
    "Animation - http://www.cs.armstrong.edu/liang/animation/web/BubbleSort.html\n",
    "    \n",
    "Sorting Algorithms Animcation with Pseudocode - https://www.toptal.com/developers/sorting-algorithms/bubble-sort\n",
    "    "
   ]
  },
  {
   "cell_type": "code",
   "execution_count": 24,
   "id": "1f3584f2",
   "metadata": {},
   "outputs": [],
   "source": [
    "def bubble_sort(arr):\n",
    "    # For every element (arranged backwards)\n",
    "    for n in range(len(arr)-1,0,-1):\n",
    "        \n",
    "        for k in range(n):\n",
    "            # If we come to a point to switch \n",
    "            if arr[k]>arr[k+1]:\n",
    "                temp = arr[k]\n",
    "                arr[k] = arr[k+1]\n",
    "                arr[k+1] = temp"
   ]
  },
  {
   "cell_type": "code",
   "execution_count": 46,
   "id": "751a5d5f",
   "metadata": {},
   "outputs": [],
   "source": [
    "arr = [1,2,3,4,5,6,7,8,9,10]\n",
    "bubble_sort(arr)"
   ]
  },
  {
   "cell_type": "code",
   "execution_count": 47,
   "id": "0b12c55e",
   "metadata": {},
   "outputs": [
    {
     "data": {
      "text/plain": [
       "[1, 2, 3, 4, 5, 6, 7, 8, 9, 10]"
      ]
     },
     "execution_count": 47,
     "metadata": {},
     "output_type": "execute_result"
    }
   ],
   "source": [
    "arr\n"
   ]
  },
  {
   "cell_type": "code",
   "execution_count": null,
   "id": "0b109add",
   "metadata": {},
   "outputs": [],
   "source": []
  },
  {
   "cell_type": "markdown",
   "id": "a8568efe",
   "metadata": {},
   "source": [
    "# Selection Sort"
   ]
  },
  {
   "cell_type": "markdown",
   "id": "f0cda4ad",
   "metadata": {},
   "source": [
    "--> Explanaton of Selection Sort\n",
    "\n",
    "--> Visualization of Selection Sort\n",
    "\n",
    "--> Implementation of Selection Sort"
   ]
  },
  {
   "cell_type": "code",
   "execution_count": 48,
   "id": "657d4724",
   "metadata": {},
   "outputs": [],
   "source": [
    "# # The selection sort improves on the bubble sort by making only one \n",
    "# exchange for every pass through the list.\n",
    "\n",
    "# # A selection sort looks for the largest value as it makes a pass and,\n",
    "# after completing the pass, places it in the proper location.\n",
    "\n",
    "# # After the first pass, the largest item is in the correct place. After\n",
    "# the second pass the next largest is in place.\n",
    "\n",
    "# # This process continues and requires n-1 passes to sort n items, since\n",
    "# the final item must be in place after the (n-1)st pass. (watch the video)\n",
    "\n",
    "# # "
   ]
  },
  {
   "cell_type": "markdown",
   "id": "9c113db1",
   "metadata": {},
   "source": [
    "# Implementation of Selection Sort"
   ]
  },
  {
   "cell_type": "markdown",
   "id": "d46343fe",
   "metadata": {},
   "source": [
    "The selection sort improves on the bubble sort by making only one\n",
    "exchange for every pass through the list. In order to do this, a \n",
    "selection sort looks for the largest value as it makes a pass and,\n",
    "after completing the pass, places it in the proper location. As with \n",
    "a bubble sort, after the first pass, the largest item is in the correct\n",
    "place. After the second pass, the next largest is in place. This\n",
    "process continues and requires n−1 passes to sort n items, since the\n",
    "final item must be in place after the (n−1) st pass."
   ]
  },
  {
   "cell_type": "code",
   "execution_count": 61,
   "id": "1b801e22",
   "metadata": {},
   "outputs": [],
   "source": [
    "def selection_sort(arr):\n",
    "    \n",
    "    # For every slot in array\n",
    "    for fillslot in range(len(arr)-1,0,-1):\n",
    "        \n",
    "        positionOfMax = 0\n",
    "       \n",
    "        # For every set of 0 to fillslot+1\n",
    "        for location in range(1,fillslot+1):\n",
    "            # Set maximum's location\n",
    "            if arr[location] > arr[positionOfMax]:\n",
    "                positionOfMax = location\n",
    "                \n",
    "        temp = arr[fillslot]\n",
    "        arr[fillslot] = arr[positionOfMax]\n",
    "        arr[positionOfMax] = temp"
   ]
  },
  {
   "cell_type": "code",
   "execution_count": 66,
   "id": "ceda61c0",
   "metadata": {},
   "outputs": [
    {
     "data": {
      "text/plain": [
       "[1, 3, 5, 8, 10]"
      ]
     },
     "execution_count": 66,
     "metadata": {},
     "output_type": "execute_result"
    }
   ],
   "source": [
    "arr = [5,8,3,10,1]\n",
    "selection_sort(arr)\n",
    "arr"
   ]
  },
  {
   "cell_type": "markdown",
   "id": "8465a7a4",
   "metadata": {},
   "source": [
    "# Insertion Sort"
   ]
  },
  {
   "cell_type": "markdown",
   "id": "bdf2b404",
   "metadata": {},
   "source": [
    "--> Explanation of Insertion Sort\n",
    "\n",
    "--> Visualization of Insertion Sort\n",
    "\n",
    "--> Implementation of Insertion Sort"
   ]
  },
  {
   "cell_type": "code",
   "execution_count": 67,
   "id": "932803e6",
   "metadata": {},
   "outputs": [],
   "source": [
    "# # The insertion sort always maintains a sorted sublist in the lower \n",
    "# positions of the list.\n",
    "\n",
    "# # Each new item is then \"inserted\" back into the previous sublist such\n",
    "# that the sorted sublist is one item larger.\n",
    "\n",
    "# # We begin by assuming that a list with one item (position 0) is already\n",
    "# sorted.\n",
    "\n",
    "# # On each pass, one for each item 1 through n-1, the current item is\n",
    "# checked against those in the already sorted sublist.\n",
    "\n",
    "# # As we look back into the already sorted sublist, we shift those items\n",
    "# that are greater to the right.\n",
    "\n",
    "# # When we reach a smaller item or the end of the sublist, the current\n",
    "# item can be inserted.   (Watch the video to see the diagram)\n",
    "\n",
    "# # "
   ]
  },
  {
   "cell_type": "markdown",
   "id": "801e64b5",
   "metadata": {},
   "source": [
    "# Implementation of Insertion Sort"
   ]
  },
  {
   "cell_type": "code",
   "execution_count": 81,
   "id": "b10ce554",
   "metadata": {},
   "outputs": [],
   "source": [
    "def insertion_sort(arr):\n",
    "    \n",
    "    # For every index in array\n",
    "    for i in range(1,len(arr)):\n",
    "        \n",
    "        # Set current values and position\n",
    "        currentvalue = arr[i]\n",
    "        position = i\n",
    "        \n",
    "        # Sorted Sublist\n",
    "        while position > 0 and arr[position-1] > currentvalue:\n",
    "            \n",
    "            arr[position] = arr[position-1]\n",
    "            position = position-1\n",
    "            \n",
    "        arr[position]=currentvalue    "
   ]
  },
  {
   "cell_type": "code",
   "execution_count": 82,
   "id": "a5cc38cd",
   "metadata": {},
   "outputs": [
    {
     "data": {
      "text/plain": [
       "[1, 2, 3, 4, 5, 6, 8, 12, 25, 41]"
      ]
     },
     "execution_count": 82,
     "metadata": {},
     "output_type": "execute_result"
    }
   ],
   "source": [
    "arr = [3,5,4,6,8,1,2,12,41,25]\n",
    "insertion_sort(arr)\n",
    "arr"
   ]
  },
  {
   "cell_type": "markdown",
   "id": "53d79b19",
   "metadata": {},
   "source": [
    "# Shell Sort"
   ]
  },
  {
   "cell_type": "markdown",
   "id": "424dcf00",
   "metadata": {},
   "source": [
    "--> Explantion of Shell Sort\n",
    "\n",
    "--> Visualization of Shell Sort \n",
    "\n",
    "--> Implementation of Shell Sort\n"
   ]
  },
  {
   "cell_type": "code",
   "execution_count": 1,
   "id": "90e7db4d",
   "metadata": {},
   "outputs": [],
   "source": [
    "# # The shell sort improves on the insertion sort by breaking the original\n",
    "# list into a number of smaller sublists,\n",
    "\n",
    "# # The unique way that these sublists are chosen is the key to the shell\n",
    "# sort.\n",
    "\n",
    "# # Instead of breaking the list into sublists of contiguous items, the \n",
    "# shell sort uses an increment \"i\" to create a sublist by choosing all \n",
    "# items that are \"i\" items apart. (Watch the video to see the diagram)\n",
    "\n",
    "# # "
   ]
  },
  {
   "cell_type": "markdown",
   "id": "c05df6f4",
   "metadata": {},
   "source": [
    "# Implementation of Shell Sort"
   ]
  },
  {
   "cell_type": "markdown",
   "id": "0c2921e6",
   "metadata": {},
   "source": [
    "The shell sort improves on the insertion sort by breaking the original\n",
    "list into a number of smaller sublists, each of which is sorted using \n",
    "an insertion sort. The unique way that these sublists are chosen is \n",
    "the key to the shell sort. Instead of breaking the list into sublists \n",
    "of contiguous items, the shell sort uses an increment i, sometimes \n",
    "called the gap, to create a sublist by choosing all items that are i \n",
    "items apart."
   ]
  },
  {
   "cell_type": "code",
   "execution_count": 30,
   "id": "b7ea3b5d",
   "metadata": {},
   "outputs": [],
   "source": [
    "def shell_sort(arr):\n",
    "    sublistcount = len(arr)//2\n",
    "    \n",
    "    # While we still have sub lists\n",
    "    while sublistcount > 0:\n",
    "        for start in range(sublistcount):\n",
    "            # Use a gap insertion \n",
    "            gap_insertion_sort(arr,start,sublistcount)\n",
    "        \n",
    "        print('\\n''After increments of size: ',sublistcount,'\\n')\n",
    "        print('The list is \\t',arr)    \n",
    "        sublistcount = sublistcount // 2\n",
    "        \n",
    "def gap_insertion_sort(arr,start,gap):\n",
    "    for i in range(start+gap,len(arr),gap):\n",
    "        \n",
    "        currentvalue = arr[i]\n",
    "        position = i\n",
    "        \n",
    "        # Using the gap\n",
    "        while position >= gap and arr[position-gap] > currentvalue:\n",
    "            arr[position] = arr[position-gap]\n",
    "            position = position-gap\n",
    "            \n",
    "        # Set current value\n",
    "        arr[position] = currentvalue"
   ]
  },
  {
   "cell_type": "code",
   "execution_count": 31,
   "id": "f6d0aded",
   "metadata": {},
   "outputs": [
    {
     "name": "stdout",
     "output_type": "stream",
     "text": [
      "\n",
      "After increments of size:  5 \n",
      "\n",
      "The list is \t [24, 7, 2, 6, 4, 45, 67, 23, 45, 21, 90]\n",
      "\n",
      "After increments of size:  2 \n",
      "\n",
      "The list is \t [2, 6, 4, 7, 24, 21, 45, 23, 67, 45, 90]\n",
      "\n",
      "After increments of size:  1 \n",
      "\n",
      "The list is \t [2, 4, 6, 7, 21, 23, 24, 45, 45, 67, 90]\n"
     ]
    },
    {
     "data": {
      "text/plain": [
       "[2, 4, 6, 7, 21, 23, 24, 45, 45, 67, 90]"
      ]
     },
     "execution_count": 31,
     "metadata": {},
     "output_type": "execute_result"
    }
   ],
   "source": [
    "arr = [45,67,23,45,21,24,7,2,6,4,90]\n",
    "shell_sort(arr)\n",
    "arr"
   ]
  },
  {
   "cell_type": "code",
   "execution_count": 32,
   "id": "ae615c6f",
   "metadata": {},
   "outputs": [
    {
     "data": {
      "text/plain": [
       "11"
      ]
     },
     "execution_count": 32,
     "metadata": {},
     "output_type": "execute_result"
    }
   ],
   "source": [
    "len(arr)"
   ]
  },
  {
   "cell_type": "markdown",
   "id": "094229fd",
   "metadata": {},
   "source": [
    "# Merge Search"
   ]
  },
  {
   "cell_type": "markdown",
   "id": "d66d777b",
   "metadata": {},
   "source": [
    "--> Explanation of Merge Sort\n",
    "\n",
    "--> Visualization of Merge Sort\n",
    "\n",
    "--> Implementation of Merge Sort"
   ]
  },
  {
   "cell_type": "code",
   "execution_count": 33,
   "id": "8cb00fbe",
   "metadata": {},
   "outputs": [],
   "source": [
    "# # Merge sort is a recursive algorithm that continually splits a list in\n",
    "# half.\n",
    "\n",
    "# # If the list is empty or has one item, it is sorted by definition (the\n",
    "# base case).\n",
    "\n",
    "# # If the list has more than one item, we split the list and recursively\n",
    "# invoke a merge sort on both halves.\n",
    "\n",
    "# # Once the two halves are sorted,the fundamental operation, called a \n",
    "# merge, is performed.\n",
    "\n",
    "# # Merging is the process of taking two smaller sorted lists and combining\n",
    "# them together into a single, sorted, new list. (watch the video)\n",
    "\n",
    "# #  "
   ]
  },
  {
   "cell_type": "markdown",
   "id": "50536f5b",
   "metadata": {},
   "source": [
    "# Implementation of Merge Sort"
   ]
  },
  {
   "cell_type": "code",
   "execution_count": 3,
   "id": "ad33a86b",
   "metadata": {},
   "outputs": [],
   "source": [
    "def merge_sort(arr):\n",
    "    \n",
    "    if len(arr)>1:\n",
    "        mid = len(arr)//2\n",
    "        lefthalf = arr[:mid]\n",
    "        righthalf = arr[mid:]\n",
    "        \n",
    "        merge_sort(lefthalf)\n",
    "        merge_sort(righthalf)\n",
    "        \n",
    "        i = 0\n",
    "        j = 0\n",
    "        k = 0\n",
    "        while i < len(lefthalf) and j < len(righthalf):\n",
    "            if lefthalf[i] < righthalf[j]:\n",
    "                arr[k] =lefthalf[i]\n",
    "                i = i+1\n",
    "            else:\n",
    "                arr[k] == righthalf[j]\n",
    "                j = j+1\n",
    "            k = k+1\n",
    "            \n",
    "        while i < len(lefthalf):\n",
    "            arr[k] = lefthalf[i]\n",
    "            i = i+1\n",
    "            k = k+1\n",
    "            \n",
    "            \n",
    "        while j < len(righthalf):\n",
    "            arr[k] = righthalf[j]\n",
    "            j = j+1\n",
    "            k = k+1\n",
    "            \n",
    "        print('Merging',arr)     "
   ]
  },
  {
   "cell_type": "code",
   "execution_count": 4,
   "id": "6030e602",
   "metadata": {},
   "outputs": [
    {
     "name": "stdout",
     "output_type": "stream",
     "text": [
      "Merging [11, 11]\n",
      "Merging [5, 5]\n",
      "Merging [11, 2, 11, 11]\n",
      "Merging [7, 7]\n",
      "Merging [1, 23]\n",
      "Merging [8, 8, 23]\n",
      "Merging [7, 7, 8, 8, 23]\n",
      "Merging [11, 2, 5, 4, 11, 2, 11, 11, 23]\n"
     ]
    },
    {
     "data": {
      "text/plain": [
       "[11, 2, 5, 4, 11, 2, 11, 11, 23]"
      ]
     },
     "execution_count": 4,
     "metadata": {},
     "output_type": "execute_result"
    }
   ],
   "source": [
    "arr = [11,2,5,4,7,6,8,1,23]\n",
    "merge_sort(arr)\n",
    "arr"
   ]
  },
  {
   "cell_type": "code",
   "execution_count": null,
   "id": "c83ee8d1",
   "metadata": {},
   "outputs": [],
   "source": []
  },
  {
   "cell_type": "markdown",
   "id": "170a382e",
   "metadata": {},
   "source": [
    "# Quick Sort"
   ]
  },
  {
   "cell_type": "markdown",
   "id": "a3cdb27c",
   "metadata": {},
   "source": [
    "--> Explanation of Quick Sort\n",
    "\n",
    "--> Visualization of Quick Sort\n",
    "\n",
    "--> Implementation of Quick Sort"
   ]
  },
  {
   "cell_type": "code",
   "execution_count": 5,
   "id": "570b7411",
   "metadata": {},
   "outputs": [],
   "source": [
    "# # the quick sort uses divide and  conquer to gain the same advantages \n",
    "# as the merge sort, while not using additional storage.\n",
    "\n",
    "# # As a trade-off, however, it is possible that the list may not be\n",
    "# divided in half.\n",
    "\n",
    "# # When this happens, we will see that performance is diminished.\n",
    "\n",
    "# # A quick sort first selects a value, which is called the pivot value.\n",
    "\n",
    "# # The role of the pivot value is to assist with splitting the list.\n",
    "\n",
    "# # The actual position where the pivot value belongs in the final sorted\n",
    "# list, commonly called the split point, will be used to divide the list\n",
    "# for subsequent calls to the quick sort.\n",
    "\n",
    "# # 54 is out first pivot value here in this given example. (watch the video)\n",
    "\n",
    "# # The partition process will happen next. It will find the split point \n",
    "# and at the same time move other items to the appropriate side of the\n",
    "# list, either less than or greater than the pivot value. (watch the video)\n",
    "\n",
    "# # "
   ]
  },
  {
   "cell_type": "markdown",
   "id": "30133903",
   "metadata": {},
   "source": [
    "# Implementation of Quick Sort"
   ]
  },
  {
   "cell_type": "code",
   "execution_count": null,
   "id": "2d0bae20",
   "metadata": {},
   "outputs": [],
   "source": [
    "def quick_sort(arr):\n",
    "    \n",
    "    quick_sort_help(arr,0,len(arr)-1)\n",
    "    \n",
    "def quick_sort_help(arr,first,last):\n",
    "    \n",
    "    if first < last:\n",
    "        \n",
    "        splitpoint = partition(arr,first,last)\n",
    "        \n",
    "        quick_sort_help(arr,first,splitpoint-1)\n",
    "        quick_sort_help(arr,splitpoint+1, last)\n",
    "        \n",
    "def partition(arr,first,last):\n",
    "    \n",
    "    pivotvalue = arr[first]\n",
    "    \n",
    "    leftmark = first+1\n",
    "    rightmark = last\n",
    "    \n",
    "    done = False\n",
    "    while not done:\n",
    "        \n",
    "        while leftmark <= rightmark and arr[leftmark] <= pivotvalue:\n",
    "            leftamark = leftmark + 1\n",
    "            \n",
    "        while arr[rightmark] >= pivotvalue and rightmark >= leftmark:\n",
    "            rightmark = rightmark - 1\n",
    "            \n",
    "        if rightmark < leftmark:\n",
    "            done = True\n",
    "        else:\n",
    "            temp = arr[leftmark]\n",
    "            arr[leftmark] = arr[rightmark]\n",
    "            arr[rightmark] = temp\n",
    "            \n",
    "    temp = arr[first]\n",
    "    arr[first] = arr[rightmark]\n",
    "    arr[rightmark] = temp\n",
    "    \n",
    "    return rightmark\n",
    "            "
   ]
  },
  {
   "cell_type": "code",
   "execution_count": null,
   "id": "c0238ec4",
   "metadata": {},
   "outputs": [],
   "source": [
    "arr = [2,5,4,6,7,3,1,4,12,11]\n",
    "quick_sort(arr)\n",
    "arr"
   ]
  },
  {
   "cell_type": "code",
   "execution_count": null,
   "id": "3a40f508",
   "metadata": {},
   "outputs": [],
   "source": []
  },
  {
   "cell_type": "code",
   "execution_count": 8,
   "id": "5a326a79",
   "metadata": {},
   "outputs": [],
   "source": [
    "class Node:\n",
    "    def __init__(self, dataval=None):\n",
    "        self.dataval = dataval\n",
    "        self.nextval = None\n",
    "class SLinkedList:\n",
    "    \n",
    "    def __init__(self):\n",
    "        self.headval = None\n",
    "        \n",
    "    def listprint(self):\n",
    "        printval = self.headval\n",
    "        \n",
    "        while printval is not None:\n",
    "            print (printval.dataval)\n",
    "            printval = printval.nextval\n",
    "    \n",
    "        list = SLinkedList()\n",
    "    \n",
    "        list.headval = Node(\"Mon\")\n",
    "        e2 = Node(\"Tue\")\n",
    "        e3 = Node(\"Wed\")\n",
    "    \n",
    "    # Link first Node to second node\n",
    "        list.headval.nextval = e2\n",
    "    \n",
    "    # Link second Node to third node\n",
    "        e2.nextval = e3\n",
    "    \n",
    "        list.listprint()"
   ]
  },
  {
   "cell_type": "code",
   "execution_count": 17,
   "id": "5a9df4d2",
   "metadata": {},
   "outputs": [
    {
     "data": {
      "text/plain": [
       "<__main__.Node at 0x1c629302970>"
      ]
     },
     "execution_count": 17,
     "metadata": {},
     "output_type": "execute_result"
    }
   ],
   "source": [
    "Node(1)\n",
    "\n"
   ]
  },
  {
   "cell_type": "code",
   "execution_count": 16,
   "id": "c77d6b80",
   "metadata": {},
   "outputs": [
    {
     "ename": "SyntaxError",
     "evalue": "invalid syntax (Temp/ipykernel_11888/395983660.py, line 1)",
     "output_type": "error",
     "traceback": [
      "\u001b[1;36m  File \u001b[1;32m\"C:\\Users\\user\\AppData\\Local\\Temp/ipykernel_11888/395983660.py\"\u001b[1;36m, line \u001b[1;32m1\u001b[0m\n\u001b[1;33m    n.\u001b[0m\n\u001b[1;37m      ^\u001b[0m\n\u001b[1;31mSyntaxError\u001b[0m\u001b[1;31m:\u001b[0m invalid syntax\n"
     ]
    }
   ],
   "source": []
  },
  {
   "cell_type": "code",
   "execution_count": null,
   "id": "cd6f9504",
   "metadata": {},
   "outputs": [],
   "source": []
  }
 ],
 "metadata": {
  "kernelspec": {
   "display_name": "Python 3 (ipykernel)",
   "language": "python",
   "name": "python3"
  },
  "language_info": {
   "codemirror_mode": {
    "name": "ipython",
    "version": 3
   },
   "file_extension": ".py",
   "mimetype": "text/x-python",
   "name": "python",
   "nbconvert_exporter": "python",
   "pygments_lexer": "ipython3",
   "version": "3.9.7"
  }
 },
 "nbformat": 4,
 "nbformat_minor": 5
}
