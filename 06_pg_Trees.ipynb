{
 "cells": [
  {
   "cell_type": "markdown",
   "id": "874e938c",
   "metadata": {},
   "source": [
    "# # Trees"
   ]
  },
  {
   "cell_type": "markdown",
   "id": "38814361",
   "metadata": {},
   "source": [
    "# Introduction to Trees"
   ]
  },
  {
   "cell_type": "code",
   "execution_count": 3,
   "id": "b410012d",
   "metadata": {},
   "outputs": [],
   "source": [
    "# # Tree Data Structures\n",
    "\n",
    "# # Implement Trees with Lists\n",
    "\n",
    "# # Implement Trees Using OOP\n",
    "\n",
    "# # Implement Priority Queue\n",
    "\n",
    "# # Interview Problems\n",
    "\n",
    "# --------------------------------------------------------------------------------------------------------------\n",
    "\n",
    "# # Note, this section only covers basics of Trees and Abstract Data Types (ADT)\n",
    "\n",
    "# # This topic in general is vast and could easily warrant its own course!\n",
    "\n",
    "# # A tree data structure has a root, branches, and leaves.\n",
    "\n",
    "# # The difference between a tree in nature and a tree in computer science is\n",
    "# that a tree data structure has its root at the top and its leaves on the bottom.\n",
    "\n",
    "# # A second property of trees is that all of the children of one node are \n",
    "# independent of the children of another node.\n",
    "\n",
    "# # A third property is that each leaf node is unique.\n",
    "\n",
    "# # Another example of a tree structure that you probably use every day is a \n",
    "# file system. In a file system, directories, or folders, are structured as a \n",
    "# tree.\n",
    "\n",
    "# # Another example is a webpage, for those familiar with HTML.\n",
    "\n",
    "# # "
   ]
  },
  {
   "cell_type": "markdown",
   "id": "84c5f20b",
   "metadata": {},
   "source": [
    "# Node"
   ]
  },
  {
   "cell_type": "code",
   "execution_count": 4,
   "id": "240e839f",
   "metadata": {},
   "outputs": [],
   "source": [
    "# # A node is a fundamental part of a tree. It can have a name, which we call\n",
    "# the \"key.\"\n",
    "\n",
    "# # A node may also have additional information. We call this additional \n",
    "# information the \"payload.\"\n",
    "\n",
    "# # While the payload information is not central to many tree algorithms, it \n",
    "# is often critical in applications that make use of trees.\n",
    "\n",
    "\n",
    "\n",
    "# # "
   ]
  },
  {
   "cell_type": "markdown",
   "id": "f7e113c2",
   "metadata": {},
   "source": [
    "# Edge"
   ]
  },
  {
   "cell_type": "code",
   "execution_count": 5,
   "id": "ee85e1b9",
   "metadata": {},
   "outputs": [],
   "source": [
    "# # An edge is another fundamental part of a tree.\n",
    "\n",
    "# # An edge connects two nodes to show that there is a relationship between them.\n",
    "\n",
    "# # Every node (except the root) is connected by exactly one incoming edge from\n",
    "# another node.\n",
    "\n",
    "# # Each node may have several outgoin edges.\n",
    "\n",
    "# # "
   ]
  },
  {
   "cell_type": "markdown",
   "id": "d3c9747b",
   "metadata": {},
   "source": [
    "# Root"
   ]
  },
  {
   "cell_type": "code",
   "execution_count": 6,
   "id": "0d716596",
   "metadata": {},
   "outputs": [],
   "source": [
    "# # The root of the tree is the only node in the tree that has no incoming \n",
    "# edges.\n"
   ]
  },
  {
   "cell_type": "markdown",
   "id": "1693cef1",
   "metadata": {},
   "source": [
    "# Path"
   ]
  },
  {
   "cell_type": "code",
   "execution_count": 7,
   "id": "4e98bfc8",
   "metadata": {},
   "outputs": [],
   "source": [
    "# # A path is an ordered list of nodes that are connected by edges.\n",
    "\n",
    "# # For example:\n",
    "# Mammal --> Carnivora --> Felidae --> Felis --> is  a path.\n",
    "\n",
    "# # "
   ]
  },
  {
   "cell_type": "markdown",
   "id": "d5d2e210",
   "metadata": {},
   "source": [
    "# Children"
   ]
  },
  {
   "cell_type": "code",
   "execution_count": 8,
   "id": "7bb9f728",
   "metadata": {},
   "outputs": [],
   "source": [
    "# # The set of nodes \"c\" that have incoming edges from the same node to are\n",
    "# said to be the children of that node. (watch the video to see the diagrams)\n"
   ]
  },
  {
   "cell_type": "markdown",
   "id": "ad4537c2",
   "metadata": {},
   "source": [
    "# Parent"
   ]
  },
  {
   "cell_type": "code",
   "execution_count": 9,
   "id": "707e39ca",
   "metadata": {},
   "outputs": [],
   "source": [
    "# A node is the parent of all the nodes it connects to with outgoing edges.\n"
   ]
  },
  {
   "cell_type": "markdown",
   "id": "4130023c",
   "metadata": {},
   "source": [
    "# Sub Tree"
   ]
  },
  {
   "cell_type": "code",
   "execution_count": 10,
   "id": "48fb4b3e",
   "metadata": {},
   "outputs": [],
   "source": [
    "# # A subtree is a set of nodes and edges comprised of a parent and all the\n",
    "# descendants of that parent.\n"
   ]
  },
  {
   "cell_type": "markdown",
   "id": "42de39de",
   "metadata": {},
   "source": [
    "# Leaf Node"
   ]
  },
  {
   "cell_type": "code",
   "execution_count": 11,
   "id": "eb6a0f00",
   "metadata": {},
   "outputs": [],
   "source": [
    "# A leaf node is a node that has no children.\n"
   ]
  },
  {
   "cell_type": "markdown",
   "id": "5670061c",
   "metadata": {},
   "source": [
    "# Level"
   ]
  },
  {
   "cell_type": "code",
   "execution_count": 12,
   "id": "5309edd1",
   "metadata": {},
   "outputs": [],
   "source": [
    "# # The level of a node \"n\" is the number of edges on the path from the root \n",
    "# node to n."
   ]
  },
  {
   "cell_type": "markdown",
   "id": "ef77ae2b",
   "metadata": {},
   "source": [
    "# Height"
   ]
  },
  {
   "cell_type": "code",
   "execution_count": 13,
   "id": "a41f9a6e",
   "metadata": {},
   "outputs": [],
   "source": [
    "# The height of a tree is equal to the maximum level of any node in the tree.\n"
   ]
  },
  {
   "cell_type": "markdown",
   "id": "6b12f8bb",
   "metadata": {},
   "source": [
    "# Full Definition of a Tree"
   ]
  },
  {
   "cell_type": "code",
   "execution_count": 15,
   "id": "055b1b2d",
   "metadata": {},
   "outputs": [],
   "source": [
    "# # We've described all the parts of a tree, now let's bring them together for\n",
    "# a full formal definition! ------\n",
    "\n",
    "# # A tree consists of a set of nodes and a set of edges that connect pairs\n",
    "# of nodes. A tree has the following properies:\n",
    "#     - One node of the tree is designated as the root node.\n",
    "#     - Every node n, except the root node, is connected by an edge from exactly\n",
    "#       one other node p, where p is the parent of n.\n",
    "#     - A unique path traverses from the root to each node.\n",
    "#     - If each node in the tree has a maximum of two children, we say that the\n",
    "#     tree is a binary tree. (watch the video to see the diagram)\n",
    "    "
   ]
  },
  {
   "cell_type": "markdown",
   "id": "31cd3e3e",
   "metadata": {},
   "source": [
    "# Recursive Definition of a Tree"
   ]
  },
  {
   "cell_type": "code",
   "execution_count": 16,
   "id": "f85abc88",
   "metadata": {},
   "outputs": [],
   "source": [
    "# # A tree is either empty or  consists of a root and zero or more \n",
    "# subtrees, each of which is also a tree.\n",
    "\n",
    "# # The root of each subtree is connected to the root of the parent tree by\n",
    "# an edge. (watch the video to see the diagram)\n",
    "\n",
    "# # "
   ]
  },
  {
   "cell_type": "markdown",
   "id": "0b91ae19",
   "metadata": {},
   "source": [
    "# Review"
   ]
  },
  {
   "cell_type": "code",
   "execution_count": 17,
   "id": "ddba7b11",
   "metadata": {},
   "outputs": [],
   "source": [
    "# Section of the course\n",
    "\n",
    "# Basics of Trees\n",
    "\n",
    "# Vocabulary for Trees\n",
    "\n",
    "# Definitions for Trees\n",
    "\n",
    "# Let's get ready to learn more about trees!\n",
    "\n",
    "# "
   ]
  },
  {
   "cell_type": "code",
   "execution_count": null,
   "id": "a59e053a",
   "metadata": {},
   "outputs": [],
   "source": []
  },
  {
   "cell_type": "markdown",
   "id": "f53ad942",
   "metadata": {},
   "source": [
    "# Tree Representation Implement Part-1"
   ]
  },
  {
   "cell_type": "code",
   "execution_count": 18,
   "id": "5535097a",
   "metadata": {},
   "outputs": [],
   "source": [
    "# # In this lecture we will implement a tree as a Lists\n",
    "\n",
    "# # In a list of lists tree, we will store the value of the root node as the\n",
    "# first element of the list.\n",
    "\n",
    "# # The second element of the list will itself be a list that represents the\n",
    "# left subtree.\n",
    "\n",
    "# # The third element of the list will be another list that represents the \n",
    "# right subtree.\n",
    "\n",
    "# # Let's implement it!"
   ]
  },
  {
   "cell_type": "markdown",
   "id": "1ab88917",
   "metadata": {},
   "source": [
    "# Tree Representation Implement Part-2"
   ]
  },
  {
   "cell_type": "markdown",
   "id": "ce9024f3",
   "metadata": {},
   "source": [
    "# Representation a Tree through Lists"
   ]
  },
  {
   "cell_type": "markdown",
   "id": "047e7174",
   "metadata": {},
   "source": [
    "Below is a representation of a Tree using a list of lists. Refer to the \n",
    "video lecture for an explanation and a live coding demonstration!"
   ]
  },
  {
   "cell_type": "code",
   "execution_count": 19,
   "id": "b43b2f08",
   "metadata": {},
   "outputs": [],
   "source": [
    "def BinaryTree(r):\n",
    "    return [r, [], []]\n",
    "\n",
    "def insertLeft(root, newBranch):\n",
    "    t = root.pop(1)\n",
    "    if len(t) > 1:\n",
    "        root.insert(1,[newBranch,t,[]])\n",
    "    else:\n",
    "        root.insert(1,[newBranch, [], []])\n",
    "        return root\n",
    "    \n",
    "def insertRight(root,newBranch):\n",
    "    t = root.pop(2)\n",
    "    if len(t) > 1:\n",
    "        root.insert(2,[newBranch,[],t])\n",
    "    else:\n",
    "        root.insert(2,[newBranch,[],[]])\n",
    "        return root\n",
    "    \n",
    "def getRootVal(root):\n",
    "    return root[0]\n",
    "\n",
    "def setRootVal(root,newVal):\n",
    "    root[0] = newVal\n",
    "    \n",
    "def getLeftChild(root):\n",
    "    return root[1]\n",
    "\n",
    "def getRightChild(root):\n",
    "    return root[2]"
   ]
  },
  {
   "cell_type": "markdown",
   "id": "874f7ea9",
   "metadata": {},
   "source": [
    "# Nodes and References Implementation of a Tree"
   ]
  },
  {
   "cell_type": "markdown",
   "id": "8cb709b5",
   "metadata": {},
   "source": [
    "In this notebook is the code corresponding to the lecture for implementing\n",
    "the representation of a Tree as a class with nodes and references!"
   ]
  },
  {
   "cell_type": "code",
   "execution_count": 2,
   "id": "2d0cdb7d",
   "metadata": {},
   "outputs": [],
   "source": [
    "# # In this case we will define a class that has attributes for the root value,\n",
    "# as well as the left and right subtrees.\n",
    "\n",
    "# # Since this representation more closely follows the object-oriented \n",
    "# programming paradigm, we will continue to use this representation for the \n",
    "# remainder of this section. (watch the video to see the diagram)\n",
    "\n",
    "# # Let's get started with the implementation!\n"
   ]
  },
  {
   "cell_type": "markdown",
   "id": "e27552e0",
   "metadata": {},
   "source": [
    "Representing a Tree Nodes and References"
   ]
  },
  {
   "cell_type": "code",
   "execution_count": 1,
   "id": "ffb06669",
   "metadata": {},
   "outputs": [],
   "source": [
    "class BinaryTree(object):\n",
    "    def __init__(self, rootObj):\n",
    "        self.key = rootObj\n",
    "        self.leftChild = None\n",
    "        self.rightChild = None\n",
    "        \n",
    "    def insertLeft(self,newNode):\n",
    "        if self.leftChild == None:\n",
    "            self.leftChild = BinaryTree(newNode)\n",
    "        else:\n",
    "            t = BinaryTree(newNode)\n",
    "            t.leftChild = t\n",
    "            \n",
    "    def insertRight(self,newNode):\n",
    "        if self.rightChild == None:\n",
    "            self.rightChild = BinaryTree(newNode)\n",
    "        else:\n",
    "            t = BinaryTree(newNode)\n",
    "            t.rightChild = self.rightChild\n",
    "            self.rightchild = t\n",
    "            \n",
    "            \n",
    "    def getRightChild(self):\n",
    "        return self.leftChild\n",
    "    \n",
    "    def getLeftChild(self):\n",
    "        return self.leftChild\n",
    "    \n",
    "    def setRootVal(self,obj):\n",
    "        self.key = obj\n",
    "        \n",
    "    def getRootVal(self):\n",
    "        return self.key"
   ]
  },
  {
   "cell_type": "markdown",
   "id": "7de0959c",
   "metadata": {},
   "source": [
    "We can see some examples of creating a tree and assigning children. \n",
    "Note that some outputs are Trees themselves"
   ]
  },
  {
   "cell_type": "code",
   "execution_count": 2,
   "id": "c55002ce",
   "metadata": {},
   "outputs": [
    {
     "name": "stdout",
     "output_type": "stream",
     "text": [
      "a\n",
      "None\n",
      "<__main__.BinaryTree object at 0x00000258BC90D0A0>\n",
      "b\n",
      "<__main__.BinaryTree object at 0x00000258BC90D0A0>\n",
      "b\n",
      "hello\n"
     ]
    }
   ],
   "source": [
    "r = BinaryTree('a')\n",
    "print(r.getRootVal())\n",
    "print(r.getLeftChild())\n",
    "r.insertLeft('b')\n",
    "print(r.getLeftChild())\n",
    "print(r.getLeftChild().getRootVal())\n",
    "r.insertRight('c')\n",
    "print(r.getRightChild())\n",
    "print(r.getRightChild().getRootVal())\n",
    "r.getRightChild().setRootVal('hello')\n",
    "print(r.getRightChild().getRootVal())"
   ]
  },
  {
   "cell_type": "markdown",
   "id": "cae122ff",
   "metadata": {},
   "source": [
    "# Representing a Tree Nodes and References"
   ]
  },
  {
   "cell_type": "code",
   "execution_count": 11,
   "id": "987dd2a4",
   "metadata": {},
   "outputs": [],
   "source": [
    "class BinaryTree(object):\n",
    "    \n",
    "    def __init__(self,rootObj):\n",
    "        \n",
    "        self.key = rootObj\n",
    "        self.leftChild = None\n",
    "        self.rightChild = None\n",
    "        \n",
    "    def insertLeft(self, newNode):\n",
    "        \n",
    "        if self.leftChild == None:\n",
    "            self.leftChild = BinaryTree(newNode)\n",
    "            \n",
    "        else:\n",
    "            \n",
    "            t = BinaryTree(newNode)\n",
    "            t.leftChild = self.leftChild\n",
    "            self.leftChild = t\n",
    "            \n",
    "    def insertRight(self,newNode):\n",
    "          \n",
    "        if self.rightChild == None:\n",
    "            self.rightChild = BinaryTree(newNode)\n",
    "            \n",
    "        else:\n",
    "            \n",
    "            t = BinaryTree(newNode)\n",
    "            t.rightChild = self.rightChild\n",
    "            self.rightChild = t\n",
    "            \n",
    "    def getRightChild(self):\n",
    "        return self.rightChild\n",
    "    \n",
    "    def getleftChild(self):\n",
    "        return self.leftChild\n",
    "    \n",
    "    def setRootVal(self,obj):\n",
    "        self.key = obj\n",
    "        \n",
    "    def getRootVal(self):\n",
    "        return self.key \n",
    "    \n",
    "        "
   ]
  },
  {
   "cell_type": "code",
   "execution_count": 12,
   "id": "c3dd4f44",
   "metadata": {},
   "outputs": [],
   "source": [
    "r = BinaryTree('a')"
   ]
  },
  {
   "cell_type": "code",
   "execution_count": 13,
   "id": "be9d9208",
   "metadata": {},
   "outputs": [
    {
     "data": {
      "text/plain": [
       "'a'"
      ]
     },
     "execution_count": 13,
     "metadata": {},
     "output_type": "execute_result"
    }
   ],
   "source": [
    "r.getRootVal()"
   ]
  },
  {
   "cell_type": "code",
   "execution_count": 14,
   "id": "9e0b7ffb",
   "metadata": {},
   "outputs": [],
   "source": [
    "r.getleftChild()"
   ]
  },
  {
   "cell_type": "code",
   "execution_count": 19,
   "id": "db10da39",
   "metadata": {},
   "outputs": [],
   "source": [
    "r.insertLeft('b')"
   ]
  },
  {
   "cell_type": "code",
   "execution_count": 20,
   "id": "31afb1b7",
   "metadata": {},
   "outputs": [
    {
     "data": {
      "text/plain": [
       "'b'"
      ]
     },
     "execution_count": 20,
     "metadata": {},
     "output_type": "execute_result"
    }
   ],
   "source": [
    "r.getleftChild().getRootVal()"
   ]
  },
  {
   "cell_type": "code",
   "execution_count": null,
   "id": "914960eb",
   "metadata": {},
   "outputs": [],
   "source": []
  },
  {
   "cell_type": "markdown",
   "id": "abe423e7",
   "metadata": {},
   "source": [
    "# #Tree Traversals"
   ]
  },
  {
   "cell_type": "code",
   "execution_count": 21,
   "id": "53786c55",
   "metadata": {},
   "outputs": [],
   "source": [
    "# --> Tree Traversal\n",
    "# --> Preorder\n",
    "# --> Inorder\n",
    "# --> Postorder"
   ]
  },
  {
   "cell_type": "code",
   "execution_count": 25,
   "id": "7b107e24",
   "metadata": {},
   "outputs": [],
   "source": [
    "# # There are three commonly used patterns to visit all the nodes in a tree.\n",
    "\n",
    "# # The difference between these patterns is the order in which each node is \n",
    "# visited (a \"traversal\")\n",
    "\n",
    "# # The three traversals we will look at are called preorder, inorder, and postorder.\n",
    "# ---------------------------------------------------------------------------------------------------------------------\n",
    "\n",
    "# ## Preorder\n",
    "# --> In a preorder traversal, we visit the root node first, then recursively\n",
    "# do a preorder traversal of the left subtree, followed by a recursive preorder\n",
    "# traversal of the right subtree.\n",
    "# ---------------------------------------------------------------------------------------------------------------------\n",
    "\n",
    "# ## Inorder\n",
    "# --> In an inorder traversal, we recursively do an inorder traversal on the left subtree,\n",
    "# visit the root node, and finally do a recursive inorder traversal of the \n",
    "# right subtree.\n",
    "# ----------------------------------------------------------------------------------------------------------------------\n",
    "\n",
    "# ## Postorder\n",
    "# --> In a postorder traversal, we recursively do a postorder traversal of \n",
    "# the left subtree and the right subtee followed by a visit to the root node.\n",
    "# ----------------------------------------------------------------------------------------------------------------------\n",
    "\n",
    "# ## Learning through Example\n",
    "# --> Watch the video to see the diagram\n",
    "\n",
    "# --> Starting at the root of the tree (the Book node) we will follow the preorder\n",
    "# traversal instructions.\n",
    "# --> We recursively call preorder on the left child, in this case Chapter1.\n",
    "# --> We again recursively call preorder on the left child to get to section 1.1\n",
    "# --> Since Section 1.1 has no children, we do not make additional recursive calls.\n",
    "# --> When we are finished with Section 1.1, we move up the tree to Chapter1.\n",
    "# --> At this point we still need to visit the right subtree of Chapter 1, which\n",
    "# is Section 1.2\n",
    "# --> As before we visit the left subtree, which brings us to Section 1.2.1, then we \n",
    "# visit the node for Section 1.2.2\n",
    "# --> With Section 1.2 finished, we return to Chapter1.\n",
    "# --> Then we return to the Book node and follow the same procedure for Chapter2\n",
    "\n",
    "# ----------------------------------------------------------------------------------------------------------------------"
   ]
  },
  {
   "cell_type": "markdown",
   "id": "2524e8db",
   "metadata": {},
   "source": [
    "# Preorder - Recursive Implementation"
   ]
  },
  {
   "cell_type": "code",
   "execution_count": 26,
   "id": "99756424",
   "metadata": {},
   "outputs": [],
   "source": [
    "#  Base case is simply to check if the tree exists.\n",
    "\n",
    "# If the tree parameter is None, then the function returns without taking any\n",
    "# action.\n"
   ]
  },
  {
   "cell_type": "code",
   "execution_count": 27,
   "id": "fa17f1f0",
   "metadata": {},
   "outputs": [],
   "source": [
    "def preorder(tree):\n",
    "    if tree:\n",
    "        print(tree.getRootVal())\n",
    "        preorder(tree.getLeftChild())\n",
    "        preorder(tree.getRightChild())"
   ]
  },
  {
   "cell_type": "markdown",
   "id": "92d57656",
   "metadata": {},
   "source": [
    "# Preorder - Method Implementation"
   ]
  },
  {
   "cell_type": "code",
   "execution_count": 28,
   "id": "b27cf140",
   "metadata": {},
   "outputs": [],
   "source": [
    "# # We can alse implement preorder as method of the BinaryTree class.\n",
    "\n",
    "# # The internal method must check for the existance of the left and right\n",
    "# children before making the recursive call to preorder.\n"
   ]
  },
  {
   "cell_type": "code",
   "execution_count": 29,
   "id": "7a27c51b",
   "metadata": {},
   "outputs": [],
   "source": [
    "def preorder(self):\n",
    "    print(self.key)\n",
    "    if self.leftChild:\n",
    "        self.leftChild.preorder()\n",
    "    if self.rightChild:\n",
    "        self.rightChild.preorder()\n",
    "        "
   ]
  },
  {
   "cell_type": "markdown",
   "id": "d6f5c6d1",
   "metadata": {},
   "source": [
    "# Preorder - Best Implementation"
   ]
  },
  {
   "cell_type": "code",
   "execution_count": 30,
   "id": "ae238c72",
   "metadata": {},
   "outputs": [],
   "source": [
    "# # Implementation preorder as an external function is probably better in this \n",
    "# case.\n",
    "\n",
    "# # The reason is that you very rarely want to just traverse the tree.\n",
    "\n",
    "# # In most cases you are going to want to accomplish something else while using\n",
    "# one of the basic traversal patterns.\n",
    "\n",
    "# # We will write the rest of the traversals as external functions.\n",
    "\n",
    "# # "
   ]
  },
  {
   "cell_type": "markdown",
   "id": "cf967917",
   "metadata": {},
   "source": [
    "# Postorder"
   ]
  },
  {
   "cell_type": "code",
   "execution_count": 31,
   "id": "7e11e813",
   "metadata": {},
   "outputs": [],
   "source": [
    "# # The algorithm for the postorder traversal is nearly identical to preorder \n",
    "# except that we move the call to print to the end of the function.\n",
    "\n",
    "def postorder(tree):\n",
    "    if tree != None:\n",
    "        \n",
    "        postorder(tree.getLeftChild())\n",
    "        postorder(tree.getRightChild())\n",
    "        print(tree.getRootVal())"
   ]
  },
  {
   "cell_type": "markdown",
   "id": "77d72c00",
   "metadata": {},
   "source": [
    "# Inorder"
   ]
  },
  {
   "cell_type": "code",
   "execution_count": 32,
   "id": "0b739d85",
   "metadata": {},
   "outputs": [],
   "source": [
    "# # In inorder traversal we visit the left subtree, followed by the root, and\n",
    "# finally the right subtree.\n",
    "\n",
    "# # Notice that in all three of the traversal functions we are simply changing\n",
    "# the position of the print statement with respect to the two recursive function\n",
    "# calls.\n",
    "\n",
    "def inorder(tree):\n",
    "    \n",
    "    if tree != None:\n",
    "        inorder(tree.getLeftChild())\n",
    "        print(tree.getRootVal())\n",
    "        inorder(tree.getRightChild())"
   ]
  },
  {
   "cell_type": "markdown",
   "id": "a10762c2",
   "metadata": {},
   "source": [
    "# Implementation"
   ]
  },
  {
   "cell_type": "code",
   "execution_count": 34,
   "id": "353da5fe",
   "metadata": {},
   "outputs": [],
   "source": [
    "##"
   ]
  },
  {
   "cell_type": "markdown",
   "id": "a46844eb",
   "metadata": {},
   "source": [
    "# #Priority Queues With Binary Heaps"
   ]
  },
  {
   "cell_type": "code",
   "execution_count": 1,
   "id": "c9e20ae0",
   "metadata": {},
   "outputs": [],
   "source": [
    "# # One important variation of a queue is called a priority queue.\n",
    "\n",
    "# # A priority queue acts like a queue in that you dequeue an item by removing\n",
    "# it from the from the front.\n",
    "\n",
    "# # However, in a priority queue the logical order of items inside a queue is\n",
    "# determined by their priority.\n",
    "\n",
    "# # The highest priority items are at the front of the queue and the lowest \n",
    "# priority items are at the back.\n",
    "\n",
    "# # When you enqueue an item on a priority queue, the new item may move all the\n",
    "# way to the front.\n",
    "\n",
    "# # "
   ]
  },
  {
   "cell_type": "markdown",
   "id": "54329a10",
   "metadata": {},
   "source": [
    "# Binary Heaps"
   ]
  },
  {
   "cell_type": "code",
   "execution_count": 2,
   "id": "5ce9b8a5",
   "metadata": {},
   "outputs": [],
   "source": [
    "# # The classic way to implement a priority queue is using a data structure \n",
    "# called a binary heap.\n",
    "\n",
    "# # A binary heap will allow us both enqueue and dequeue items in O(logn).\n",
    "\n",
    "# # The binary heap has two common variations:\n",
    "# the min heap, in which the smallest key is always at the front, and the max\n",
    "# heap, in which the largest key value is always at the front.\n",
    "\n",
    "# # In this section we will implement the min heap.\n",
    "\n",
    "# # "
   ]
  },
  {
   "cell_type": "markdown",
   "id": "99b9418e",
   "metadata": {},
   "source": [
    "# #Binary Heap Implementation"
   ]
  },
  {
   "cell_type": "markdown",
   "id": "0c814094",
   "metadata": {},
   "source": [
    "# Binary Heap Operations"
   ]
  },
  {
   "cell_type": "code",
   "execution_count": 10,
   "id": "1b57fecf",
   "metadata": {},
   "outputs": [],
   "source": [
    "# # The basic operations we will implement for our binary heap are as follows:\n",
    "    \n",
    "#     --> BinaryHeap() creates a new, empty, binary heap.\n",
    "#     --> insert(k) adds a new item to the heap.\n",
    "#     --> findMin() returns the item with the minimum key value, leaving item in\n",
    "#     the heap.\n",
    "#     --> delMin() returns the item with the minimum key value, removing the item\n",
    "#     from the heap.\n",
    "#     --> isEmpty() returns true if the heap is empty, false otherwise.\n",
    "#     --> size() returns the number of items in the heap.\n",
    "#     --> buildHeap(list) builds a new heap from a list of keys.\n",
    "\n",
    "# # In order to make our heap work efficiently, we will take advantage of the\n",
    "# logrithmic nature of the binary tree to represent our heap.\n",
    "\n",
    "# # In order to guarantee logrithmic performance, we must keep our tree balanced.\n",
    "\n",
    "# # A balanced binary tree has roughly the same number of nodes in the left and\n",
    "# right subtrees of the root.\n",
    "\n",
    "# # In our heap implementation we keep the tree balanced by creating a complete\n",
    "# binary tree.\n",
    "\n",
    "# # A complete binary tree is a tree in which each level has all of its nodes.\n",
    "# -------------------------------------------------------------------------------------------------------------------------------------\n",
    "\n",
    "# ## List Representation of Trees (watch the video to see the diagram)\n",
    "\n",
    "class BinHeap:\n",
    "    def __init__(self):\n",
    "        self.heapList = [0]\n",
    "        self.currentSize = 0\n",
    "\n",
    "# # The next method we will implement is insert. The easiest, and most \n",
    "# efficient, way to add an item to a list is to simply append the item to the\n",
    "# end of the list.\n",
    "\n",
    "# # The good news about appending is that it guarantees that we will maintain\n",
    "# the complete tree property.\n",
    "\n",
    "# # The bad news about appending is that we will very likely violate the heap\n",
    "# structure property.\n",
    "\n",
    "# # However, it is possible to write a method that will allow us to regain the \n",
    "# heap structure property by comparing the newly added item with its parent.\n",
    "\n",
    "# # If the newly added item is less than its parent, then we can swap the item\n",
    "# with its parent.\n",
    "\n",
    "# # Let's see the series of swaps neeeded to percolate the newly added item\n",
    "# up to its proper position in the tree!\n",
    "\n",
    "# # Notice that when we percolate an item up, we are restoring the heap propery\n",
    "# between the newly added item and the parent.\n",
    "\n",
    "# # We are also preserving the heap property for any siblings.\n",
    "\n",
    "# # Of course, if the newly added item is very small, we may still need to swap\n",
    "# it up another level.\n",
    "\n",
    "# # In fact, we may need to keep swapping until we get to the top of the tree.\n",
    "#---------------------------------------------------------------------------------------------------------------------------------------\n",
    "\n",
    "## Methods for insertion\n",
    "\n",
    "def percUp9(self,i):\n",
    "    while i // 2 > 0:\n",
    "        if self.heapList[i] < self.heapList[i // 2]:\n",
    "            tmp = self.heapList[i // 2]\n",
    "            self.heapList[i // 2] = self.heapList[i]\n",
    "            self.heapList[i] = tmp\n",
    "        i = i // 2    \n",
    "        \n",
    "def insert(self,k):\n",
    "    self.heapList.append(k)\n",
    "    self.currentSize = self.currentSize + 1\n",
    "    self.percUp(self.currentSize)\n",
    "    \n",
    "# # With the insert method properly defined, we can now look at the delMin \n",
    "# method.\n",
    "\n",
    "# # Since the heap property requires that the root of the tree be the smallest\n",
    "# item in the tree, finding the minimum item is easy.\n",
    "\n",
    "# # The hard part of delMin is restoring full compliance with the heap structure\n",
    "# and heap order properties after the root has been removed.\n",
    "\n",
    "# # We can restore our heap in two steps.\n",
    "\n",
    "# # First, we will restore the root item by taking the last item in the list\n",
    "# and moving it to the root position.\n",
    "\n",
    "# # Moving the last item maintains our heap structure property.\n",
    "\n",
    "# # However, we have probably destroyed the heap order property of our binary\n",
    "# heap.\n",
    "\n",
    "# # Second, we will restore the heap order property by pushing the new root\n",
    "# node down the tree to its proper position.\n",
    "\n",
    "# # Series of swaps needed to move the new root node to its proper position \n",
    "# in the heap.\n",
    "\n",
    "# # In order to maintain the heap order property, all we need to do is swap the\n",
    "# root with its smallest child less than the root.\n",
    "\n",
    "# # After the initial swap, we may repeat the swapping process with a node\n",
    "# and its children until the node is swapped into a position on the tree \n",
    "# where it is already less than both children.\n",
    "#-----------------------------------------------------------------------------------------------------------------------------\n",
    "\n",
    "## Code for percolating a node down the tree is found in the percDown and minChild\n",
    "\n",
    "def percDown(self,i):\n",
    "    while (i *2) <= self.currentSize:\n",
    "        mc = self.minChild(i)\n",
    "        if self.heapList[i] > self.heapList[mc]:\n",
    "            tmp = self.heapList[i]\n",
    "            self.heapList[i] = self.heapList[mc]\n",
    "            self.heapList[mc] = tmp\n",
    "        i = mc\n",
    "        \n",
    "def minChild(self,i):\n",
    "    if i * 2 + 1 > self.currentSize:\n",
    "        return i * 2\n",
    "    else:\n",
    "        if self.heapList[i*2] < self.heapList[i*2+1]:\n",
    "            return i * 2\n",
    "        else:\n",
    "            return i * 2 + 1\n",
    "#--------------------------------------------------------------------------------------------------------------------------------------------\n",
    "\n",
    "## Code for delMin\n",
    "\n",
    "def delMin(self):\n",
    "    retval = self.heapList[1]\n",
    "    self.heapList[1] = self.heapList[self.currentSize]\n",
    "    self.currentSize = self.currentSize - 1\n",
    "    self.heapList.pop()\n",
    "    self.percDown(1)\n",
    "    return retval\n",
    "\n",
    "# # To finish our discussion of binary heaps, we will look at a method to build\n",
    "# an entire heap from a list of keys.\n",
    "\n",
    "# # The first method you might think of may be like the following.\n",
    "\n",
    "# # Given a list of keys, you could easily build a heap by inserting each key\n",
    "# one at a time.\n",
    "\n",
    "# # Since you are starting with a list of one item, the list is sorted and you\n",
    "# could use binary search to find the right position to insert the next key at\n",
    "# a cost of approximately O(logn) operations.\n",
    "\n",
    "# # However, remember that inserting an item in the middle of the list may require\n",
    "# O(n) operations to shift the rest of the list over to make room for the new\n",
    "# key.\n",
    "\n",
    "# # Therefore, to insert n keys into the heap would require a total of O(nlogn)\n",
    "# operations.\n",
    "\n",
    "# # However, if we start with an entire list then we can build the whole heap\n",
    "# in O(n) operations.\n",
    "\n",
    "## Code to build the heap\n",
    "def buildHeap(self,alist):\n",
    "    i = len(alist) // 2\n",
    "    self.currentSizw = len(alist)\n",
    "    self.heapList = [0] + alist[:]\n",
    "    while (i > 0):\n",
    "        self.percDown(i)\n",
    "        i = i - 1                   # (watch the video to see the diagram)\n",
    "        \n",
    "#         "
   ]
  },
  {
   "cell_type": "markdown",
   "id": "50fafd2b",
   "metadata": {},
   "source": [
    "# Whole code altogether"
   ]
  },
  {
   "cell_type": "code",
   "execution_count": 1,
   "id": "921c7383",
   "metadata": {},
   "outputs": [],
   "source": [
    "class BinHeap:\n",
    "    def __init__(self):\n",
    "        self.heapList = [0]\n",
    "        self.currentSize = 0\n",
    "\n",
    "\n",
    "    def percUp(self,i):\n",
    "        \n",
    "        while i // 2 > 0:\n",
    "            \n",
    "            if self.heapList[i] < self.heapList[i // 2]:\n",
    "                \n",
    "            \n",
    "                tmp = self.heapList[i // 2]\n",
    "                self.heapList[i // 2] = self.heapList[i]\n",
    "                self.heapList[i] = tmp\n",
    "            i = i // 2\n",
    "\n",
    "    def insert(self,k):\n",
    "        \n",
    "        self.heapList.append(k)\n",
    "        self.currentSize = self.currentSize + 1\n",
    "        self.percUp(self.currentSize)\n",
    "\n",
    "    def percDown(self,i):\n",
    "        \n",
    "        while (i * 2) <= self.currentSize:\n",
    "            \n",
    "            mc = self.minChild(i)\n",
    "            if self.heapList[i] > self.heapList[mc]:\n",
    "                \n",
    "                tmp = self.heapList[i]\n",
    "                self.heapList[i] = self.heapList[mc]\n",
    "                self.heapList[mc] = tmp\n",
    "            i = mc\n",
    "\n",
    "    def minChild(self,i):\n",
    "        \n",
    "        if i * 2 + 1 > self.currentSize:\n",
    "            \n",
    "            return i * 2\n",
    "        else:\n",
    "            \n",
    "            if self.heapList[i*2] < self.heapList[i*2+1]:\n",
    "                return i * 2\n",
    "            else:\n",
    "                return i * 2 + 1\n",
    "\n",
    "    def delMin(self):\n",
    "        retval = self.heapList[1]\n",
    "        self.heapList[1] = self.heapList[self.currentSize]\n",
    "        self.currentSize = self.currentSize - 1\n",
    "        self.heapList.pop()\n",
    "        self.percDown(1)\n",
    "        return retval\n",
    "\n",
    "    def buildHeap(self,alist):\n",
    "        i = len(alist) // 2\n",
    "        self.currentSize = len(alist)\n",
    "        self.heapList = [0] + alist[:]\n",
    "        while (i > 0):\n",
    "            self.percDown(i)\n",
    "            i = i - 1"
   ]
  },
  {
   "cell_type": "code",
   "execution_count": null,
   "id": "e5284fb4",
   "metadata": {},
   "outputs": [],
   "source": []
  },
  {
   "cell_type": "markdown",
   "id": "f7de6637",
   "metadata": {},
   "source": [
    "# #Binary Search Trees"
   ]
  },
  {
   "cell_type": "code",
   "execution_count": 1,
   "id": "5fc1ed8e",
   "metadata": {},
   "outputs": [],
   "source": [
    "# # We have already seen two different ways to get key-value pairs in a collection.\n",
    "\n",
    "# # Recall that these collections implement the map abstract data type.\n",
    "\n",
    "# # The two implementations of a map ADT we discussed were binary search on a\n",
    "# list and hash tables.\n",
    "\n",
    "# # In this section we will study binary search trees as yet another way to map\n",
    "# from a key to a value.\n",
    "\n",
    "# # In this case we are not interested in the exact placement of items in the\n",
    "# tree, but we are interested in using the binary tree structure to provide\n",
    "# for efficient searching.\n",
    "\n",
    "# # Up next we will go over the implementation of a Binary Search Tree.\n",
    "\n",
    "# # We won't live code this due to the amount of code, but instead go through\n",
    "# each block and explain it through diagrams.\n",
    "\n",
    "# # All the code is written in the Jupyter Notebook!\n",
    "\n",
    "# # "
   ]
  },
  {
   "cell_type": "markdown",
   "id": "87a28e60",
   "metadata": {},
   "source": [
    "# Implementation of Binary Search Trees"
   ]
  },
  {
   "cell_type": "code",
   "execution_count": 2,
   "id": "24d44bbc",
   "metadata": {},
   "outputs": [],
   "source": [
    "# # A Binary search tree relies on the propery that keys that are less than the\n",
    "# parent are found in the left subtree, and keys that are greater than the \n",
    "# parent are found in the right subtree.\n",
    "\n",
    "# # We will call this the bst property.\n",
    "\n",
    "# # As we implement the Map interface as described above, the bst property will\n",
    "# guide our implementation.  # (watch the video to see the diagram)\n",
    "\n",
    "# # Notice that the property holds for each parent and child.\n",
    "\n",
    "# ## All of the keys in the left subtree are less than the key in the root.\n",
    "\n",
    "# ## All of the keys in the right subtree are greater than the root.\n",
    "\n",
    "# # Now that you know what a binary search tree is, we will look at how a binary\n",
    "# search tree is constructed.\n",
    "\n",
    "# --> The search tree in the figure represents the nodes that exist after we have\n",
    "# inserted the following keys in the order shown: 70,31,93,94,14,23,73\n",
    "    \n",
    "# --> Since 70 was the first key inserted into the tree, it is the root.\n",
    "\n",
    "# ---> Next, 31 is less than 70, so it becomes the left child of 70.\n",
    "\n",
    "# --> Next, 93 is greater than 70, so it becomes the right child of 70.\n",
    "\n",
    "# --> Now we have two levels of the tree filled, so the next key is going to \n",
    "# be the left or right child of either 31 or 93.\n",
    "\n",
    "# --> Since 94 is greater than 70 and 93, it becomes the right child of 93.\n",
    "\n",
    "# --> Similarly 14 is less than 70 and 31, so it becomes the left child of 31.\n",
    "\n",
    "# --> However, it is greater than 14, so it becomes the right child of 14.\n",
    "\n",
    "# --> Now that you know what a binary search tree is, we will look at how a \n",
    "# binary search tree is constructed.\n",
    "\n",
    "# --> The search tree in the figure represents the nodes that exist after we\n",
    "# have inserted the following keys in the order shown: 70,31,93,14,23,73\n",
    "    \n",
    "# # To implement the binary search tree, we will use the nodes and refereces\n",
    "# approach similar to the one we used to implement the linked list, and the \n",
    "# expression tree.\n",
    "\n",
    "# # However, because we must be able to create and work with a binary search tree that\n",
    "# is empty, our implementation will use two classes.\n",
    "\n",
    "# ## The first class we will call BinarySearchTree, and the second class we will\n",
    "# call TreeNode.\n",
    "\n",
    "# # The BinarySearchTree class has a reference to the TreeNode that is the root\n",
    "# of the binary search tree.\n",
    "\n",
    "# # In most cases the external methods defined in the outer class simply check\n",
    "# to see if the tree is empty.\n",
    "\n",
    "# # If there are nodes in the tree, the request is just passed on to a private\n",
    "# method defined in the BinarySearchTree class that takes the root as a parameter.\n",
    "\n",
    "# # In the case where the tree is empty or we want to delete the key at the root\n",
    "# of the tree, we must take special action.\n",
    "#---------------------------------------------------------------------------------------------------------------------------------------------------\n",
    "\n",
    "class BinarySearchTree:\n",
    "    \n",
    "    def __init__(self):\n",
    "        self.root = None\n",
    "        self.size = 0\n",
    "        \n",
    "    def length(self):\n",
    "        return self.size\n",
    "    \n",
    "    def __len__(self):\n",
    "        return self.size\n",
    "    \n",
    "    def __iter__(self):\n",
    "        return self.root.__iter__()\n",
    "  \n",
    "# Let's jump to the NO=otebook to check out the full TreeNode class!"
   ]
  },
  {
   "cell_type": "code",
   "execution_count": 9,
   "id": "3a4fee95",
   "metadata": {},
   "outputs": [],
   "source": [
    "class TreeNode:\n",
    "    \n",
    "    def __init__(self,key,val,left=None,right=None,parent=None):\n",
    "        self.key = key \n",
    "        self.payload = val\n",
    "        self.leftChild = left\n",
    "        self.rightChild = right\n",
    "        self.parent = parent\n",
    "        \n",
    "    def hasLeftChild(self):\n",
    "        return self.leftChild\n",
    "    \n",
    "    def hasRightChild(self):\n",
    "        return self.rightChild\n",
    "    \n",
    "    def isLeftChild(self):\n",
    "        return self.parent and self.parent.leftChild == self\n",
    "    \n",
    "    def isRightChild(self):\n",
    "        return self.parent and self.parent.rightChild == self\n",
    "    \n",
    "    def isRoot(self):\n",
    "        return not self.parent\n",
    "    \n",
    "    def isLeaf(self):\n",
    "        return not (self.rightChild or self.leftChild)\n",
    "    \n",
    "    def hasAnyChildren(self):\n",
    "        return self.rightChild or self.leftChild\n",
    "    \n",
    "    def hasBothChildren(self):\n",
    "        return self.rightChild or self.leftChild\n",
    "    \n",
    "    def replaceNodeData(self,key,value,lc,rc):\n",
    "        self.key = key\n",
    "        self.payload = value\n",
    "        self.leftChild = lc\n",
    "        sefl.rightChild = rc\n",
    "        if self.hasLeftChild():\n",
    "            self.leftChild.parent = self\n",
    "        if self.hasRightChild():\n",
    "            self.hasrightChild.parent = self\n",
    "        \n",
    "        \n",
    "class BinarySearchTree:\n",
    "    \n",
    "    def __init__(self):\n",
    "        self.root = None\n",
    "        self.size = 0\n",
    "        \n",
    "    def length(self):\n",
    "        return self.size\n",
    "    \n",
    "    def __len__(self):\n",
    "        return self.size\n",
    "    \n",
    "    def put(self,key,val):\n",
    "        if self.root:\n",
    "            self._put(key,val,self.root)\n",
    "        else:\n",
    "            self.root = TreeNode(key,val)\n",
    "            self.size = self.size + 1\n",
    "            \n",
    "    def _put(self,key,val,currentNode):\n",
    "        if key < currentNode.key:\n",
    "            if currentNode.hasLeftChild():\n",
    "                self._put(key,val,currentNode.leftChild)\n",
    "            else:\n",
    "                currentNode.leftChild = TreeNode(key,val,parent=currentNode)\n",
    "        else:\n",
    "            if currentNode.hasRightChild():\n",
    "                self._put(key,val,currentNode.rightChild)\n",
    "            else:\n",
    "                currentNode.rightChild = TreeNode(key,val,parent=currentNode)\n",
    "                \n",
    "    def __setitem__(self,k,v):\n",
    "        self.put(k,v)\n",
    "        \n",
    "    def get(self,key):\n",
    "        if self.root:\n",
    "            res = self._get(key,self.root)\n",
    "            if res:\n",
    "                \n",
    "                return res.payload\n",
    "            else:\n",
    "                return None\n",
    "            \n",
    "    def _get(self,key,currentNode):\n",
    "        \n",
    "        if not currentNode.key == key:\n",
    "            return currentNode\n",
    "        elif key < currentNode.key:\n",
    "            return self._get(key,currentNode.leftChild)\n",
    "        else:\n",
    "            return self._get(key,currentNode.rightChild)\n",
    "        \n",
    "    def __getitem__(self,key):\n",
    "        return self.get(key)\n",
    "    \n",
    "    def __contains__(self,key):\n",
    "        if self._get(key,self.root):\n",
    "            return True\n",
    "        else:\n",
    "            return False\n",
    "        \n",
    "    def delete(self,key):\n",
    "        \n",
    "        if self.size > 1:\n",
    "            \n",
    "            nodeToRemove = self._get(key,self.root)\n",
    "            if nodeToRemove:\n",
    "                self.remove(nodeToRemove)\n",
    "                self.size = self.size-1\n",
    "            else:\n",
    "                raise KeyError('Error, key not in tree')\n",
    "        elif self.size == 1 and self.rootkey == key:\n",
    "            self.root = None\n",
    "            self.size = self.size - 1\n",
    "        else:\n",
    "            raise KeyError('Error, key not in tree')\n",
    "            \n",
    "    def __delitem__(self,key):\n",
    "        \n",
    "        self.delete(key)\n",
    "        \n",
    "    def spliceOut(self):\n",
    "        if self.isLeaf():\n",
    "            if self.isLeaftChild():\n",
    "                \n",
    "                self.parent.leftChild = None\n",
    "            else:\n",
    "                self.parent.rightChild = None\n",
    "        elif self.hasAnyLeftChildren():\n",
    "            if self.hasLeftChild():\n",
    "                \n",
    "                if self.isLeftChild():\n",
    "                    \n",
    "                    self.parent.leftChild = self.leftChild\n",
    "                else:\n",
    "                    \n",
    "                    self.parent.rightChild = self.leftChild\n",
    "                    self.leftChild.parent = self.parent\n",
    "        else:\n",
    "            \n",
    "            if self.isLeftChild():\n",
    "                \n",
    "                self.parent.leftChild = self.rightChild\n",
    "            else:\n",
    "                self.parent.rightChild = self.rightChild\n",
    "                self.rightChild.parent = self.parent\n",
    "                \n",
    "    def findSuccessor(self):\n",
    "        \n",
    "        secc = None\n",
    "        if self.hasRightChild():\n",
    "            succ = self.rightChild.findMin()\n",
    "        else:\n",
    "            if self.parent:\n",
    "                \n",
    "                if self.isLeftChild():\n",
    "                    \n",
    "                    succ = self.parent\n",
    "                else:\n",
    "                    self.parent.rightChild = Noen\n",
    "                    succ = self.parent.findSuccessor()\n",
    "                    self.parent.rightChild = self\n",
    "        return succ\n",
    "    \n",
    "    def findMin(self):\n",
    "        \n",
    "        current = self\n",
    "        while current.hasLeftChild():\n",
    "            current = current.leftChild\n",
    "            return current\n",
    "        \n",
    "    def remove(self,currentNode):\n",
    "        \n",
    "        if currentNode.isLeaf():  # Leaf\n",
    "            if currentNode.parent.leftChild:\n",
    "                currentNode.parent.leftChild = None\n",
    "            else:\n",
    "                currentNode.parent.rightChild = None\n",
    "        elif currentNode.hasBothChildren(): # interior\n",
    "            \n",
    "            succ = currentNode.findSuccessor()\n",
    "            succ.spliceOut()\n",
    "            currentNode.key = succ.key\n",
    "            currentNode.payload = succ.payload\n",
    "            \n",
    "        else: # this node has one child\n",
    "            if currentNode.hasLeftChild():\n",
    "                if currentNode.isLeftChild():\n",
    "                    currentNode.leftChild.parent = currentNode.parent\n",
    "                    currentNode.parent.leftChild = currentNode.leftChild\n",
    "                elif currentNode.isRightChild():\n",
    "                    currentNode.leftChild.parent = currentNode.parent\n",
    "                    currentNode.parent.rightChild = currentNode.leftChild\n",
    "                else:\n",
    "                    \n",
    "                    currentNode.replaceNodeData(currentNode.leftChild.key,\n",
    "                                               currentNode.leftChild.payload,\n",
    "                                               currentNode.leftChild.leftChild,\n",
    "                                                currentNode.leftChild.rightChild)\n",
    "            else:\n",
    "                \n",
    "                if currentNode.isLeftChild():\n",
    "                    currentNode.rightChild.parent = currentNode.parent\n",
    "                    currentNode.parent.leftChild = currentNode.righttChild\n",
    "                elif currentNode.isRightChild():\n",
    "                    currentNode.righttChild.parent = currentNode.parent\n",
    "                    currentNode.parent.rightChild = currentNode.righttChild\n",
    "                else:\n",
    "                    \n",
    "                    currentNode.replaceNodeData(currentNode.rightChild.key,\n",
    "                                               currentNode.rightChild.payload,\n",
    "                                               currentNode.rightChild.leftChild,\n",
    "                                                currentNode.rightChild.rightChild)\n",
    "                \n",
    "                \n",
    "            \n",
    "        \n",
    "                    "
   ]
  },
  {
   "cell_type": "code",
   "execution_count": 16,
   "id": "f094069b",
   "metadata": {},
   "outputs": [
    {
     "name": "stdout",
     "output_type": "stream",
     "text": [
      "red\n",
      "red\n"
     ]
    }
   ],
   "source": [
    "mytree = BinarySearchTree()\n",
    "mytree[3] = \"red\"\n",
    "mytree[4] = \"blue\"\n",
    "mytree[6] = \"yellow\"\n",
    "mytree[2] = \"at\"\n",
    "\n",
    "print(mytree[6])\n",
    "print(mytree[2])"
   ]
  },
  {
   "cell_type": "code",
   "execution_count": 5,
   "id": "24f24ff0",
   "metadata": {},
   "outputs": [],
   "source": [
    "# # Once the tree is constructed, the next task is to implement the retrieval\n",
    "# of a value for a given key.\n",
    "\n",
    "# # The get method is even easier than the put method because it simply searches\n",
    "# the tree recursively until it gets to a non-matching leaf node or finds a matching\n",
    "# key.\n",
    "\n",
    "# # When a matching key is found, the value stored in the payload of the node\n",
    "# id returned.\n",
    "\n",
    "# # Using get, we can implement the in operation by writing a __contains__ method\n",
    "# for the BinarySearchTree.\n",
    "\n",
    "# # The __contains__ method will simply call get and return True if get returns\n",
    "# a value, or False if it returns None.\n",
    "\n",
    "def ___contains__(self,key):\n",
    "   \n",
    "    if self._get(key,self.root):\n",
    "                 return True\n",
    "    else:\n",
    "                 return False\n",
    "#----------------------------------------------------------------------------------------------------\n",
    "### Deleting Nodes  \n",
    "                 \n",
    "# # Finally, we turn our attention to the most challenging method in the binary\n",
    "# search tree, the deletion of a key.\n",
    "\n",
    "# # The first task is to find the node to delete by searching the tree.\n",
    "                 \n",
    "# # If the tree has more than one node we search using the _get method to find\n",
    "# the TreeNode that needs to be removed.\n",
    "                 \n",
    "# If the tree only has a single node, that means we are removing the root of\n",
    "the tree, but we still must check to make sure the key of the root matches the\n",
    "key that is to be deleted.\n",
    "\n",
    "# In either case if the key is not found the del operator raised an error.\n",
    "\n",
    "# "
   ]
  },
  {
   "cell_type": "code",
   "execution_count": null,
   "id": "164d73d4",
   "metadata": {},
   "outputs": [],
   "source": []
  }
 ],
 "metadata": {
  "kernelspec": {
   "display_name": "Python 3 (ipykernel)",
   "language": "python",
   "name": "python3"
  },
  "language_info": {
   "codemirror_mode": {
    "name": "ipython",
    "version": 3
   },
   "file_extension": ".py",
   "mimetype": "text/x-python",
   "name": "python",
   "nbconvert_exporter": "python",
   "pygments_lexer": "ipython3",
   "version": "3.9.7"
  }
 },
 "nbformat": 4,
 "nbformat_minor": 5
}
