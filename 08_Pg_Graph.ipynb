{
 "cells": [
  {
   "cell_type": "markdown",
   "id": "3da1d15b",
   "metadata": {},
   "source": [
    "# Introduction to Graph"
   ]
  },
  {
   "cell_type": "code",
   "execution_count": 1,
   "id": "65d950b8",
   "metadata": {},
   "outputs": [],
   "source": [
    "# --> To learn what a graph is and how it is used.\n",
    "\n",
    "# --> To implement the graph abstract data type using multiple internal\n",
    "# representations.\n",
    "\n",
    "# --> To see how graphs can be used to solve a wide variety of problems.\n"
   ]
  },
  {
   "cell_type": "code",
   "execution_count": 2,
   "id": "3e9530d4",
   "metadata": {},
   "outputs": [],
   "source": [
    "# # Graphs are a more general structure than trees we can think of a tree\n",
    "# as a special kind of graph.\n",
    "\n",
    "# # Graphs can be used to represent many real-world things such as \n",
    "# systems of roads, airline flights from city to city, how the internet\n",
    "# is connected, etc.\n",
    "\n",
    "# # Once we have a good representation for a problem, we can use some\n",
    "# standard graph algorithms to solve what otherwise might seem to be a\n",
    "# very difficult problem.\n",
    "\n",
    "# # Computers can operate well with information presented as a graph.\n",
    "\n",
    "# # An example graph may be the course requirements for a computer science\n",
    "# major\n",
    "\n",
    "# # Example Graph (watch the video)\n",
    "\n"
   ]
  },
  {
   "cell_type": "markdown",
   "id": "0e0fda4e",
   "metadata": {},
   "source": [
    "# Vocabulary and Definitions"
   ]
  },
  {
   "cell_type": "code",
   "execution_count": 3,
   "id": "859ec882",
   "metadata": {},
   "outputs": [],
   "source": [
    "# # Now that we have looked at some examples of graphs, we will more \n",
    "# formally define a graph and its components.\n",
    "\n",
    "# # We already know some of these terms from our discussion of trees."
   ]
  },
  {
   "cell_type": "markdown",
   "id": "dca0779c",
   "metadata": {},
   "source": [
    "# Vertex (Nodes)"
   ]
  },
  {
   "cell_type": "code",
   "execution_count": 4,
   "id": "bd35b1bf",
   "metadata": {},
   "outputs": [],
   "source": [
    "# # A vertex (also called a \"node\") is a fundamental part of a graph.\n",
    "\n",
    "# # It can have a name, which we will call the \"key.\"\n",
    "\n",
    "# # A vertex may also have additional information.\n",
    "\n",
    "# # We will call this additional information the \"payload.\"\n",
    "\n"
   ]
  },
  {
   "cell_type": "markdown",
   "id": "47bb9f0c",
   "metadata": {},
   "source": [
    "# Edge"
   ]
  },
  {
   "cell_type": "code",
   "execution_count": 6,
   "id": "fad580f7",
   "metadata": {},
   "outputs": [],
   "source": [
    "# # An edge connects two verices to show that there is a relationship \n",
    "# between them.\n",
    "\n",
    "# # Edge may be one-way or two-way.\n",
    "\n",
    "# # If the edges in a graph are all one-way, we say that the graph is a\n",
    "# directed graph, or a digraph.\n",
    "\n",
    "# # The class prerequisites graph shown previously is clearly a digraph\n",
    "# since you must take some classes before others.\n"
   ]
  },
  {
   "cell_type": "markdown",
   "id": "95d57ba8",
   "metadata": {},
   "source": [
    "# Weight"
   ]
  },
  {
   "cell_type": "code",
   "execution_count": 7,
   "id": "30e684fb",
   "metadata": {},
   "outputs": [],
   "source": [
    "# # Edges may be weighted to show that there is a cost to go from one\n",
    "# vertex to another.\n",
    "\n",
    "# # For example in a graph of roads that connects one city to another, the\n",
    "# weight on the edge might represent the distance between the two cities.\n"
   ]
  },
  {
   "cell_type": "markdown",
   "id": "a94cae45",
   "metadata": {},
   "source": [
    "# Formal Definition of a Graph"
   ]
  },
  {
   "cell_type": "code",
   "execution_count": 8,
   "id": "9d6ae0e4",
   "metadata": {},
   "outputs": [],
   "source": [
    "# # A graph can be represented by G where G = (V,E)\n",
    "\n",
    "# # For the graph G,V is a set of vertices and E is a set of edges.\n",
    "\n",
    "# # Each edge is a tuple (v,w) where \"w,v\"Belongsto\"V\"\n",
    "\n",
    "# # We can add a thid component to the edge tuple to reprensent a weight.\n",
    "\n",
    "# # A subgraph s is a set of edges e and vertices v such that \"e\"Subsetof\"E\"\n",
    "# and \"v\"Subsetof\"V\"\n",
    "\n",
    "# # Example  (watch the video to see the diagram)\n",
    "\n",
    "# #  V = {V0, V1,V2, V3,V4,V5}\n",
    "\n",
    "# # E = {(v0,v1,5),(v1,v2,4),     ## it indicates that {vertex,another vertex,weight}\n",
    "#       (v2,v3,9),(v3,v4,7),\n",
    "#     (v4,v0,1),(v0,v5,2),(v5,v4,8),(v3,v5,3),(v5,v2,1)}   (watch the video)\n",
    "\n",
    "# #     "
   ]
  },
  {
   "cell_type": "markdown",
   "id": "309c191b",
   "metadata": {},
   "source": [
    "# Path "
   ]
  },
  {
   "cell_type": "code",
   "execution_count": 9,
   "id": "82f019d7",
   "metadata": {},
   "outputs": [],
   "source": [
    "# # A path in a graph is a sequence of vertices that are connected by \n",
    "# edges.\n",
    "\n",
    "# # Formally we would define a path as w1,w2,.....,wn such that \n",
    "# \"(wi,wi+1)\"Belongsto\"E\" for all 1<=i<=n-1\n",
    "\n",
    "# # The unweighted path length is the number of edges in the path, \n",
    "# specifically n-1.\n",
    "\n",
    "# # The weighted path length is the sum of the weights of all the edges\n",
    "# in the path.\n",
    "# --------------------------------------------------------------------------------------------------------------------\n",
    "\n",
    "# ## Path example\n",
    "\n",
    "# # The path from V3 to V1 is the sequence of vertices (V3,V4,V0,V1)\n",
    "\n",
    "# # The edges are {(v3,v4,7),(v4,v0,1),(v0,v1,5)}  (Watch the video)\n",
    "\n",
    "# # "
   ]
  },
  {
   "cell_type": "markdown",
   "id": "22f6e33d",
   "metadata": {},
   "source": [
    "# Cycle"
   ]
  },
  {
   "cell_type": "code",
   "execution_count": 10,
   "id": "5a9c4e3a",
   "metadata": {},
   "outputs": [],
   "source": [
    "# # A cycle  in a directed graph is a path that starts and ends at the\n",
    "# same vertex.\n",
    "\n",
    "# # A graph with no cycles is called an acyclic graph.\n",
    "\n",
    "# # A directed graph with no cycles is called a directed acyclic graph or\n",
    "# a DAG.\n",
    "\n",
    "# # We will see that we can solve several important problems if the \n",
    "# problem can be represented as a DAG.\n",
    "# --------------------------------------------------------------------------------------------------------------\n",
    "\n",
    "# ## Cyclic Example\n",
    "\n",
    "# # The path  (V5,V2,V3,V5) is a cycle. (watch the video to see the diagram)\n",
    "\n",
    "# #  "
   ]
  },
  {
   "cell_type": "markdown",
   "id": "77ce28fa",
   "metadata": {},
   "source": [
    "# Adjacency Matrix and Adjacency List"
   ]
  },
  {
   "cell_type": "code",
   "execution_count": 11,
   "id": "86711aea",
   "metadata": {},
   "outputs": [],
   "source": [
    "# # One of the easiest ways to implement a graph is to use a two-dimensional\n",
    "# matrix.\n",
    "\n",
    "# # In this matrix implementation, each of the rows and columns represent\n",
    "# a vertex in the graph.\n",
    "\n",
    "# # The value that is stored in the cell at the intersection of row v and\n",
    "# column w indicated if there is an edge from vertex v to vertex w.\n",
    "\n",
    "# # When two vertices are connected by an edge, we say that they are \n",
    "# adjacent.\n"
   ]
  },
  {
   "cell_type": "markdown",
   "id": "7d163084",
   "metadata": {},
   "source": [
    "# Adjacency Matrix"
   ]
  },
  {
   "cell_type": "code",
   "execution_count": 12,
   "id": "f7a1918d",
   "metadata": {},
   "outputs": [],
   "source": [
    "# # Watch the video to see the diagram\n",
    "\n",
    "# # The advantage of the adjacency matrix is that it is simple, and for \n",
    "# small graphs it is easy to see which nodes are connected to other nodes.\n",
    "\n",
    "# # However, notice that most of the cells in the matrix are empty.\n",
    "\n",
    "# # Because most of the cells are empty we say that this matrix is \"sparsse.\"\n",
    "\n",
    "# # A matrix is not a very efficient way to store sparse data.\n",
    "\n",
    "# # The adjacency matrix is a good implementation for a graph when the\n",
    "# number of edges is large.\n",
    "\n",
    "# # Since there is one row and one column for every vertex in the graph,\n",
    "# the number of edges required to fill the matrix is |V|^2.\n",
    "\n",
    "# # A matrix is full when every vertex is connected to every other vertex.\n",
    "\n",
    "# # "
   ]
  },
  {
   "cell_type": "markdown",
   "id": "bed24c05",
   "metadata": {},
   "source": [
    "# Adjacency List"
   ]
  },
  {
   "cell_type": "code",
   "execution_count": 13,
   "id": "09444d76",
   "metadata": {},
   "outputs": [],
   "source": [
    "# # A more space-efficient way to implement a sparsely connected graph\n",
    "# is to use an adjacency list.\n",
    "\n",
    "# # In an adjacency list implementation we keep a master list of all the\n",
    "# vertices in the Graph object and then each vertex object in the graph\n",
    "# maintains a list of the other vertices that is connected to.\n",
    "\n",
    "# # In our implementation of the Vertex class we will use a dictionary \n",
    "# rather than a list where the dictionary keys are the vertices, and the\n",
    "# values are the weights.   (watch the video to see the diagram)\n",
    "\n",
    "# # The advantage of the adjacency list implementation is that it allows\n",
    "# us to compactly represent a sparsh graph.\n",
    "\n",
    "# # The adjacency list also allows us to easily find all the links that\n",
    "# are directly connected to a particular vertex.\n",
    "\n",
    "# # "
   ]
  },
  {
   "cell_type": "markdown",
   "id": "5e9f26b2",
   "metadata": {},
   "source": [
    "# Implementation of a Graph (Adjacency List)"
   ]
  },
  {
   "cell_type": "markdown",
   "id": "d37af10c",
   "metadata": {},
   "source": [
    "Using dictionaries, it is easy to implement the adjacency list in \n",
    "Python. In our implementation of the \"Graph\" abstract data type we will \n",
    "create two classes: Graph, which holds the master list of vertices, \n",
    "    and Vertex, which will represent each \"vertex\" in the graph.\n",
    "\n",
    "Each Vertex uses a dictionary to keep track of the vertices to which \n",
    "it is connected, and the weight of each edge. This dictionary is\n",
    "called \"connectedTo\". The constructor simply initializes the id, which\n",
    "will typically be a string, and the \"connectedTo\" dictionary. The \n",
    "\"addNeighbor\" method is used add a connection from this vertex to \n",
    "another. The \"getConnections\" method returns all of the vertices in the\n",
    "adjacency list, as represented by the \"connectedTo\" instance variable. \n",
    "The \"getWeight\" method returns the weight of the edge from this vertex \n",
    "to the vertex passed as a parameter."
   ]
  },
  {
   "cell_type": "code",
   "execution_count": 15,
   "id": "06af75cc",
   "metadata": {},
   "outputs": [],
   "source": [
    "class Vertex:\n",
    "    def __init__(self,key):\n",
    "        self.id = key\n",
    "        self.connectedTo = {}\n",
    "        \n",
    "    def addNeighbor(self,nbr,weight=0):\n",
    "        self.connectedTo[nbr] = weight\n",
    "        \n",
    "    def __str__(self):\n",
    "        return str(self.id) + 'connectedTo' + str([x.id for x in self.connectedTo])\n",
    "    \n",
    "    def getConnections(self):\n",
    "        return self.connectedTo.keys()\n",
    "    \n",
    "    def getId(self):\n",
    "        return self.id\n",
    "    \n",
    "    def getWeight(self,nbr):\n",
    "        return self.connectedTo[nbr]"
   ]
  },
  {
   "cell_type": "markdown",
   "id": "486320ee",
   "metadata": {},
   "source": [
    "In order to implement a Graph as an Adjacency List what we need to do \n",
    "is define the methods our Adjacency List object will have:\n",
    "\n",
    "Graph(): creates a new, empty graph.\n",
    "\n",
    "addVertex(vert): adds an instance of Vertex to the graph.\n",
    "\n",
    "addEdge(fromVert, toVert): Adds a new, directed edge to the graph that connects two vertices.\n",
    "\n",
    "addEdge(fromVert, toVert, weight): Adds a new, weighted, directed edge to the graph that connects two vertices.\n",
    "\n",
    "getVertex(vertKey): finds the vertex in the graph named vertKey.\n",
    "\n",
    "getVertices(): returns the list of all vertices in the graph.\n",
    "\n",
    "in: returns True for a statement of the form vertex in graph, if the given vertex is in the graph, False otherwise."
   ]
  },
  {
   "cell_type": "code",
   "execution_count": 16,
   "id": "7eefd24e",
   "metadata": {},
   "outputs": [],
   "source": [
    "class Graph:\n",
    "    def __init__(self):\n",
    "        self.vertList = {}\n",
    "        self.numVertices = 0\n",
    "        \n",
    "    def addVertex(self,key):\n",
    "        self.numVertices = self.numVertices + 1\n",
    "        newVertex = Vertex(key)\n",
    "        self.vertList[key] = newVertex\n",
    "        return newVertex\n",
    "    \n",
    "    def getVertex(self,n):\n",
    "        if n in self.vertList:\n",
    "            return self.vertList[n]\n",
    "        else:\n",
    "            return None\n",
    "        \n",
    "    def __contains__(self,n):\n",
    "        return n in self.vertList\n",
    "    \n",
    "    def addEdge(self,f,t,cost=0):\n",
    "        if f not in self.vertList:\n",
    "            nv = self.addVertex(f)\n",
    "            if t not in self.vertList:\n",
    "                nv = self.addVertex(t)\n",
    "            self.vertList[f].addNeightbor(self.vertList[t], cost)\n",
    "            \n",
    "    def getVertices(self):\n",
    "        return self.vertlist.keys()\n",
    "    \n",
    "    def __iter__(self):\n",
    "        return iter(self.vertList.values())"
   ]
  },
  {
   "cell_type": "markdown",
   "id": "5305bd75",
   "metadata": {},
   "source": [
    "Let's see a simple example of how to use this:"
   ]
  },
  {
   "cell_type": "code",
   "execution_count": 17,
   "id": "124d6bf1",
   "metadata": {},
   "outputs": [],
   "source": [
    "g = Graph()\n",
    "for i in range(6):\n",
    "    g.addVertex(i)"
   ]
  },
  {
   "cell_type": "code",
   "execution_count": 18,
   "id": "0bb4914d",
   "metadata": {},
   "outputs": [
    {
     "data": {
      "text/plain": [
       "{0: <__main__.Vertex at 0x25abdf514c0>,\n",
       " 1: <__main__.Vertex at 0x25abdf51880>,\n",
       " 2: <__main__.Vertex at 0x25abdf51850>,\n",
       " 3: <__main__.Vertex at 0x25abdf518b0>,\n",
       " 4: <__main__.Vertex at 0x25abdf51bb0>,\n",
       " 5: <__main__.Vertex at 0x25abdf51a00>}"
      ]
     },
     "execution_count": 18,
     "metadata": {},
     "output_type": "execute_result"
    }
   ],
   "source": [
    "g.vertList"
   ]
  },
  {
   "cell_type": "code",
   "execution_count": 21,
   "id": "606fd5dc",
   "metadata": {},
   "outputs": [],
   "source": [
    "g.addEdge(0,1,2)"
   ]
  },
  {
   "cell_type": "code",
   "execution_count": 20,
   "id": "7ebd68dd",
   "metadata": {},
   "outputs": [
    {
     "name": "stdout",
     "output_type": "stream",
     "text": [
      "0connectedTo[]\n",
      "dict_keys([])\n",
      "\n",
      "\n",
      "1connectedTo[]\n",
      "dict_keys([])\n",
      "\n",
      "\n",
      "2connectedTo[]\n",
      "dict_keys([])\n",
      "\n",
      "\n",
      "3connectedTo[]\n",
      "dict_keys([])\n",
      "\n",
      "\n",
      "4connectedTo[]\n",
      "dict_keys([])\n",
      "\n",
      "\n",
      "5connectedTo[]\n",
      "dict_keys([])\n",
      "\n",
      "\n"
     ]
    }
   ],
   "source": [
    "for vertex in g:\n",
    "    print(vertex)\n",
    "    print(vertex.getConnections())\n",
    "    print('\\n')"
   ]
  },
  {
   "cell_type": "markdown",
   "id": "4e54dc09",
   "metadata": {},
   "source": [
    "# Word Ladder Example problem"
   ]
  },
  {
   "cell_type": "markdown",
   "id": "3065e2cb",
   "metadata": {},
   "source": [
    "Below is the Vertex and Graph class used for the Word Ladder example\n",
    "code:"
   ]
  },
  {
   "cell_type": "code",
   "execution_count": 1,
   "id": "7331b3a2",
   "metadata": {},
   "outputs": [],
   "source": [
    "class Vertex:\n",
    "    def __init__(self,key):\n",
    "        self.id = key\n",
    "        self.connectedTo = {}\n",
    "        \n",
    "    def addNeighbor(self,nbr,weight=0):\n",
    "        self.connectedTo[nbr] = weight\n",
    "        \n",
    "    def __str__(self):\n",
    "        return str(self.id) + ' connectecTo: ' + str([x.id for x in self.connectedTo])\n",
    "    \n",
    "    def getConnections(self):\n",
    "        return self.connecteTo.keys()\n",
    "    \n",
    "    def getId(self):\n",
    "        return self.id\n",
    "    \n",
    "    def getWeight(self,nbr):\n",
    "        return self.connectedTo[nbr]"
   ]
  },
  {
   "cell_type": "code",
   "execution_count": 3,
   "id": "cb068c4a",
   "metadata": {},
   "outputs": [],
   "source": [
    "class Graph:\n",
    "    def __init__(self):\n",
    "        self.vertList = {}\n",
    "        self.numVertices = 0\n",
    "        \n",
    "    def addVertex(self,key):\n",
    "        self.numVertices = self.numVertices + 1\n",
    "        newVertex = Vertex(key)\n",
    "        self.vertList[key] = newVertex\n",
    "        return newVertex\n",
    "    \n",
    "    def getVertex(self,n):\n",
    "        if n in self.vertList:\n",
    "            return self.vertList[n]\n",
    "        else:\n",
    "            return None\n",
    "        \n",
    "    def __contains__(self,n):\n",
    "        return n in self.vertList\n",
    "    \n",
    "    def addEdge(self,f,t,cost=0):\n",
    "        if f not in self.vertList:\n",
    "            nv = self.addVertex(f)\n",
    "        if t not in self.vertList:\n",
    "            nv = self.addVertex(t)\n",
    "        self.vertList[f].addNeighbor(self.vertList[t],cost)\n",
    "        \n",
    "    def getVertices(self):\n",
    "        return self.vertList.keys()\n",
    "    \n",
    "    def __iter__(self):\n",
    "        return iter(self.vertList.values())"
   ]
  },
  {
   "cell_type": "markdown",
   "id": "30c4dfd7",
   "metadata": {},
   "source": [
    "Code for buildGraph function:"
   ]
  },
  {
   "cell_type": "code",
   "execution_count": 4,
   "id": "cc2ec7e0",
   "metadata": {},
   "outputs": [],
   "source": [
    "def buildGraph(wordFile):\n",
    "    d = {}\n",
    "    g = Graph()\n",
    "    \n",
    "    wfile = open(wordfile,'r')\n",
    "    # create buckets of words that differ by one letter\n",
    "    for line in wfile:\n",
    "        print(line)\n",
    "        word = line[:-1]\n",
    "        print(word)\n",
    "        for i in range(len(word)):\n",
    "            bucket = word[:i] + ' ' + word[i+1:]\n",
    "            if bucket in d:\n",
    "                d[bucket].append(word)\n",
    "            else:\n",
    "                d[bucket] = [word]\n",
    "                \n",
    "    # add vertices and edges for words in the same bucket\n",
    "    for bucket in d.keys():\n",
    "        for word1 in d[bucket]:\n",
    "            for word2 in d[bucket]:\n",
    "                if word1 != word2:\n",
    "                    g.addEdge(word1,word2)\n",
    "                    \n",
    "    return g                "
   ]
  },
  {
   "cell_type": "markdown",
   "id": "b96a83af",
   "metadata": {},
   "source": [
    "Please reference the video for full explanation!"
   ]
  },
  {
   "cell_type": "markdown",
   "id": "b4179b87",
   "metadata": {},
   "source": [
    "# Breadth First Search"
   ]
  },
  {
   "cell_type": "markdown",
   "id": "2efb86d0",
   "metadata": {},
   "source": [
    "--> Overview of Breadth First Search\n",
    "\n",
    "--> Example built off of Word Ladder Problem"
   ]
  },
  {
   "cell_type": "code",
   "execution_count": null,
   "id": "4a7b72cb",
   "metadata": {},
   "outputs": [],
   "source": [
    "# How can we find the shortest solution to the word ladder problem?\n",
    "\n",
    "# The graph algorithm we are going to use is called the \n",
    "\"breadth first search\" algorithm.\n",
    "\n",
    "# Breadth first search (BFS) is one of the easiest algorithms for \n",
    "searching a graph.\n",
    "\n",
    "# It also serves as a prototype for several other important graph \n",
    "algorithms that we will study later.\n",
    "\n",
    "## Extra Resources:\n",
    "  --> MIT Algorithms and Data Structure Course!\n",
    "  --> https://www.youtube.com/watch?v=s-CYnVz-uh4\n",
    "    \n",
    "# You'll be surprised how well you can follow along!    \n",
    "\n",
    "# Given a graph G and a starting vertex s, a breadth first search \n",
    "proceeds by exploring edges in the graph to find all the vertices in\n",
    "G for which there is a path from s.\n",
    "\n",
    "# The remarkable thing about a breadth first search is that it finds \n",
    "all the vertices that are a distance k from s before it finds any\n",
    "vertices that are a distance k+1.\n",
    "\n",
    "# One good way to visualize what the breadth first search algorithm \n",
    "does is to imagine that it is building a tree, one level of the tree\n",
    "at time.\n",
    "\n",
    "# A breadth first search adds all children of the starting vertex\n",
    "before it begins to discover any of the grandchildren.\n",
    "\n",
    "# "
   ]
  }
 ],
 "metadata": {
  "kernelspec": {
   "display_name": "Python 3 (ipykernel)",
   "language": "python",
   "name": "python3"
  },
  "language_info": {
   "codemirror_mode": {
    "name": "ipython",
    "version": 3
   },
   "file_extension": ".py",
   "mimetype": "text/x-python",
   "name": "python",
   "nbconvert_exporter": "python",
   "pygments_lexer": "ipython3",
   "version": "3.9.7"
  }
 },
 "nbformat": 4,
 "nbformat_minor": 5
}
