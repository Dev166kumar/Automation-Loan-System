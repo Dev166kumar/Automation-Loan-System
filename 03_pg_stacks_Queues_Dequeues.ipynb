{
 "cells": [
  {
   "cell_type": "code",
   "execution_count": 2,
   "id": "485498ec",
   "metadata": {},
   "outputs": [],
   "source": [
    "# # In this section of the course we will be learning about Stack, Queues,\n",
    "# and Deques.\n",
    "\n",
    "# # These are linear structures.\n",
    "\n",
    "# # They are similar to arrays, but each of these structures differs by\n",
    "# how it adds and removes items.\n",
    "\n",
    "# #A Brief Overview of the Linear Structures\n",
    "\n",
    "# # An Overview of Stacks\n",
    "\n",
    "# # An Implementation of a Stack class\n",
    "\n",
    "# # An Overview of Queues\n",
    "\n",
    "# # An Implementation of a Queue class \n",
    "\n",
    "# # An Overview od Deques\n",
    "\n",
    "# # An Implementation of a Deque class\n",
    "\n",
    "# # Let's get started!"
   ]
  },
  {
   "cell_type": "markdown",
   "id": "a093556e",
   "metadata": {},
   "source": [
    "# Stacks Overview"
   ]
  },
  {
   "cell_type": "code",
   "execution_count": 3,
   "id": "be182c2a",
   "metadata": {},
   "outputs": [],
   "source": [
    "# # A stack is an ordered collection of items where the addition of new\n",
    "# items and the removal of existing items always takes place at the same end.\n",
    "\n",
    "# # This end is commonly referred to as the \"top.\"\n",
    "\n",
    "# # The end is opposite the top is known as the \"base.\"\n",
    "\n",
    "#    # #This ordering principle is sometimes called LIFO,\n",
    "#        last-in-first-out.\n",
    "\n",
    "# # It provides an ordering based on length of time in the collection.\n",
    "\n",
    "# # Newer items are near the top, while older items are near the base.\n",
    "\n",
    "# # Note how the first items \"pushed\" to the stack begin at the base, and\n",
    "#  as items are \"popped\" out.\n",
    "    \n",
    "# # Stacks are fundamentally important, as they can be used to reverse the \n",
    "# order of items.\n",
    "\n",
    "# # The order of insertion is the reverse of the order of removal.\n",
    "\n",
    "# # Considering this reversal property, you can perhaps think of examples\n",
    "# of stacks that occur as you use your computer.\n",
    "\n",
    "# # For example, every web browser has a Back button.\n",
    "\n",
    "# # As you navigate from web page to web page, those pages are placed on a \n",
    "# stack (actually it is the URLs that are going on the stack).\n",
    "\n",
    "# # The current page that you are viewing is on the top and the first page\n",
    "# you looked at is at the base.\n",
    "\n",
    "# # If you click on the Back button , you begin to move in reverse order \n",
    "# through the pages.\n",
    "\n",
    "# # Now we are going to implement our on stack class!\n"
   ]
  },
  {
   "cell_type": "markdown",
   "id": "6fd6a979",
   "metadata": {},
   "source": [
    "# Implementation of Stack"
   ]
  },
  {
   "cell_type": "markdown",
   "id": "16311df6",
   "metadata": {},
   "source": [
    "Stack Attributes and Methods"
   ]
  },
  {
   "cell_type": "code",
   "execution_count": 4,
   "id": "1dbc44ff",
   "metadata": {},
   "outputs": [],
   "source": [
    "# # Before we implement our own Stack class, let's review the properties and\n",
    "# methods of a stack.\n",
    "\n",
    "# # The stack abstract data type is defined by the following structure and\n",
    "# operations. A stack is structured, as described above, as an ordered \n",
    "# collection of items where items are added to and removed from the end \n",
    "# called the \"top.\" Stacks are ordered LIFO.\n",
    "\n",
    "\n",
    "# The stack operations are given below.\n",
    "\n",
    "# - Stack() creates a new stack that is empty. It needs no parameters and\n",
    "# returns an empty stack.\n",
    "\n",
    "# - push(item) adds a new item to the top of the stack. It needs the item\n",
    "# and returns nothing.\n",
    "\n",
    "# - pop() removes the top item from the stack. It needs no parameters and \n",
    "# returns the item. The stack is modified.\n",
    "\n",
    "# - peek() returns the top item from the stack but does not remove it. It\n",
    "# needs no parameters. The stack is not modified.\n",
    "\n",
    "# - isEmpty() tests to see whether the stack is empty. It needs no parameters\n",
    "# and returns a boolean value.\n",
    "\n",
    "# - size() returns the numbers of items on the stack. It needs no parameters\n",
    "# and returns an integer.\n"
   ]
  },
  {
   "cell_type": "markdown",
   "id": "9b00d6db",
   "metadata": {},
   "source": [
    "# Stack Implementation"
   ]
  },
  {
   "cell_type": "code",
   "execution_count": 23,
   "id": "986a2d4a",
   "metadata": {},
   "outputs": [],
   "source": [
    "class Stack:\n",
    "    \n",
    "    \n",
    "    def __init__(self):\n",
    "        self.items = []\n",
    "        \n",
    "    def isEmpty(self):\n",
    "        return self.items == []\n",
    "    \n",
    "    def push(self,item):\n",
    "        self.items.append(item)\n",
    "        \n",
    "    def pop(self):\n",
    "        return self.items.pop()\n",
    "    \n",
    "    def peek(self):\n",
    "        return self.items[len(self.items)-1]\n",
    "    \n",
    "    def size(self):\n",
    "        return len(self.items)"
   ]
  },
  {
   "cell_type": "markdown",
   "id": "c8491062",
   "metadata": {},
   "source": [
    "Let's try it out!"
   ]
  },
  {
   "cell_type": "code",
   "execution_count": 24,
   "id": "af9944df",
   "metadata": {},
   "outputs": [],
   "source": [
    "s = Stack()"
   ]
  },
  {
   "cell_type": "code",
   "execution_count": 25,
   "id": "81584037",
   "metadata": {},
   "outputs": [
    {
     "name": "stdout",
     "output_type": "stream",
     "text": [
      "True\n"
     ]
    }
   ],
   "source": [
    "print(s.isEmpty())"
   ]
  },
  {
   "cell_type": "code",
   "execution_count": 26,
   "id": "9bc25ff6",
   "metadata": {},
   "outputs": [],
   "source": [
    "s.push(1)"
   ]
  },
  {
   "cell_type": "code",
   "execution_count": 27,
   "id": "eadd9e4a",
   "metadata": {},
   "outputs": [],
   "source": [
    "s.push('two')"
   ]
  },
  {
   "cell_type": "code",
   "execution_count": 28,
   "id": "01a56f4f",
   "metadata": {},
   "outputs": [
    {
     "data": {
      "text/plain": [
       "'two'"
      ]
     },
     "execution_count": 28,
     "metadata": {},
     "output_type": "execute_result"
    }
   ],
   "source": [
    "s.peek()"
   ]
  },
  {
   "cell_type": "code",
   "execution_count": 29,
   "id": "0ee12384",
   "metadata": {},
   "outputs": [],
   "source": [
    "s.push(True)"
   ]
  },
  {
   "cell_type": "code",
   "execution_count": 30,
   "id": "6ebade9b",
   "metadata": {},
   "outputs": [
    {
     "data": {
      "text/plain": [
       "3"
      ]
     },
     "execution_count": 30,
     "metadata": {},
     "output_type": "execute_result"
    }
   ],
   "source": [
    "s.size()"
   ]
  },
  {
   "cell_type": "code",
   "execution_count": 31,
   "id": "62851b5f",
   "metadata": {},
   "outputs": [
    {
     "data": {
      "text/plain": [
       "False"
      ]
     },
     "execution_count": 31,
     "metadata": {},
     "output_type": "execute_result"
    }
   ],
   "source": [
    "s.isEmpty()"
   ]
  },
  {
   "cell_type": "code",
   "execution_count": 32,
   "id": "19bbdfa7",
   "metadata": {},
   "outputs": [
    {
     "data": {
      "text/plain": [
       "True"
      ]
     },
     "execution_count": 32,
     "metadata": {},
     "output_type": "execute_result"
    }
   ],
   "source": [
    "s.pop()"
   ]
  },
  {
   "cell_type": "code",
   "execution_count": 33,
   "id": "ea44c0ec",
   "metadata": {},
   "outputs": [
    {
     "data": {
      "text/plain": [
       "'two'"
      ]
     },
     "execution_count": 33,
     "metadata": {},
     "output_type": "execute_result"
    }
   ],
   "source": [
    "s.pop()"
   ]
  },
  {
   "cell_type": "code",
   "execution_count": 34,
   "id": "8176bfd0",
   "metadata": {},
   "outputs": [
    {
     "data": {
      "text/plain": [
       "1"
      ]
     },
     "execution_count": 34,
     "metadata": {},
     "output_type": "execute_result"
    }
   ],
   "source": [
    "s.size()"
   ]
  },
  {
   "cell_type": "code",
   "execution_count": 35,
   "id": "73798ba7",
   "metadata": {},
   "outputs": [
    {
     "data": {
      "text/plain": [
       "1"
      ]
     },
     "execution_count": 35,
     "metadata": {},
     "output_type": "execute_result"
    }
   ],
   "source": [
    "s.pop()"
   ]
  },
  {
   "cell_type": "code",
   "execution_count": 36,
   "id": "a18ddfbb",
   "metadata": {},
   "outputs": [
    {
     "data": {
      "text/plain": [
       "True"
      ]
     },
     "execution_count": 36,
     "metadata": {},
     "output_type": "execute_result"
    }
   ],
   "source": [
    "s.isEmpty()"
   ]
  },
  {
   "cell_type": "code",
   "execution_count": null,
   "id": "5c97880c",
   "metadata": {},
   "outputs": [],
   "source": []
  },
  {
   "cell_type": "markdown",
   "id": "65dcfb12",
   "metadata": {},
   "source": [
    "# Queue Overview "
   ]
  },
  {
   "cell_type": "code",
   "execution_count": 1,
   "id": "4e1555cb",
   "metadata": {},
   "outputs": [
    {
     "data": {
      "image/png": "[encoded data removed]",
      "text/plain": [
       "<IPython.core.display.Image object>"
      ]
     },
     "execution_count": 1,
     "metadata": {},
     "output_type": "execute_result"
    }
   ],
   "source": [
    "# # A queue is an ordered collection of items where the addition of new \n",
    "# items happens at one end, called the \"rear,\" and the removal of existing\n",
    "# items occurs at the other end, commonly called the \"front.\"\n",
    "\n",
    "# # As an element enters the queue it starts at the rear and makes its way\n",
    "# toward the front, waiting until that time when it is the next element to \n",
    "# be removed.\n",
    "\n",
    "# # The most recently added item in the queue must wait at the end of the\n",
    "# collection.\n",
    "\n",
    "# # The item that has been in the collection the longest is at the front.\n",
    "\n",
    "# # This ordering principle is sometimes called FIFO, first-in first-out.\n",
    "\n",
    "# # It is also known as \"first-come first-served.\"\n",
    "\n",
    "# # The simplest example of a queue is the typical line that we all participate\n",
    "# in from time to time.\n",
    "\n",
    "# # We wait in a line for a movie, we wait in the check-out line at a grocery\n",
    "# store, and we wait in the cafeteria line.\n",
    "\n",
    "# # The first person in that line is also the first person to get serviced/helped.\n",
    "\n",
    "# # # Note how we have two terms here, Enqueue and Dequeue.\n",
    "\n",
    "# # The enqueue term describes when we add a new item to the rear of the \n",
    "# queue.\n",
    "\n",
    "# # The dequeue term describes removing the front item from the queue.\n",
    "\n",
    "from IPython.display import Image\n",
    "url = 'https://netmatze.files.wordpress.com/2014/08/queue.png'\n",
    "Image(url)"
   ]
  },
  {
   "cell_type": "code",
   "execution_count": 3,
   "id": "00993d45",
   "metadata": {},
   "outputs": [],
   "source": []
  },
  {
   "cell_type": "markdown",
   "id": "8eba47cb",
   "metadata": {},
   "source": [
    "# Implementation Of Queue"
   ]
  },
  {
   "cell_type": "markdown",
   "id": "98cc5307",
   "metadata": {},
   "source": [
    "Queue Methods and Attributes"
   ]
  },
  {
   "cell_type": "code",
   "execution_count": 6,
   "id": "f1de6892",
   "metadata": {},
   "outputs": [],
   "source": [
    "# ## Before we begin implementing our own queue, let's review the attribute\n",
    "# and methods it will have:\n",
    "    \n",
    "#     # Queue() creates a new queue that is empty. It needs no parameters\n",
    "#     and returns an empty queue.\n",
    "    \n",
    "#     # enqueue(item) adds a new item to the rear of the queue. It needs\n",
    "#     the item and returns nothing.\n",
    "    \n",
    "#     # dequeue() removes the front item from the queue. It needs no \n",
    "#     parameters and returns the item. The queue is modified.\n",
    "    \n",
    "#     # isEmpty() tests to see whether the queue us empty. It needs no\n",
    "#     parameters and returns a boolean value.\n",
    "    \n",
    "#     # size() return the number of items in the queue. It needs no parameters\n",
    "#     and returns an integer."
   ]
  },
  {
   "cell_type": "markdown",
   "id": "dafd397f",
   "metadata": {},
   "source": [
    "# Queue Implementation"
   ]
  },
  {
   "cell_type": "code",
   "execution_count": 52,
   "id": "c5757641",
   "metadata": {},
   "outputs": [],
   "source": [
    "class Queue(object):\n",
    "    def __init__(self):\n",
    "        self.items = []\n",
    "\n",
    "    def isEmpty(self):\n",
    "        return self.items == []\n",
    "\n",
    "    def enqueue(self, item):\n",
    "        self.items.insert(0,item)\n",
    "\n",
    "    def dequeue(self):\n",
    "        return self.items.pop()\n",
    "\n",
    "    def size(self):\n",
    "        return len(self.items)"
   ]
  },
  {
   "cell_type": "code",
   "execution_count": 53,
   "id": "b9dd5d33",
   "metadata": {},
   "outputs": [],
   "source": [
    "q = Queue()"
   ]
  },
  {
   "cell_type": "code",
   "execution_count": 54,
   "id": "4362fbcd",
   "metadata": {},
   "outputs": [
    {
     "data": {
      "text/plain": [
       "0"
      ]
     },
     "execution_count": 54,
     "metadata": {},
     "output_type": "execute_result"
    }
   ],
   "source": [
    "q.size()"
   ]
  },
  {
   "cell_type": "code",
   "execution_count": 55,
   "id": "2d616a07",
   "metadata": {},
   "outputs": [
    {
     "data": {
      "text/plain": [
       "True"
      ]
     },
     "execution_count": 55,
     "metadata": {},
     "output_type": "execute_result"
    }
   ],
   "source": [
    "q.isEmpty()"
   ]
  },
  {
   "cell_type": "code",
   "execution_count": 56,
   "id": "0ab01ca1",
   "metadata": {},
   "outputs": [],
   "source": [
    "q.enqueue(1)"
   ]
  },
  {
   "cell_type": "code",
   "execution_count": 57,
   "id": "d8234a6c",
   "metadata": {},
   "outputs": [
    {
     "data": {
      "text/plain": [
       "1"
      ]
     },
     "execution_count": 57,
     "metadata": {},
     "output_type": "execute_result"
    }
   ],
   "source": [
    "q.dequeue()"
   ]
  },
  {
   "cell_type": "code",
   "execution_count": null,
   "id": "e5e53696",
   "metadata": {},
   "outputs": [],
   "source": []
  },
  {
   "cell_type": "markdown",
   "id": "7091cbbf",
   "metadata": {},
   "source": [
    "# Deque Overview"
   ]
  },
  {
   "cell_type": "code",
   "execution_count": 1,
   "id": "ee139777",
   "metadata": {},
   "outputs": [
    {
     "data": {
      "image/png": "[encoded data removed]",
      "text/plain": [
       "<IPython.core.display.Image object>"
      ]
     },
     "execution_count": 1,
     "metadata": {},
     "output_type": "execute_result"
    }
   ],
   "source": [
    "# # A deque, also known as a double-ended queue, is an ordered collection of\n",
    "# items similar to the queue.\n",
    "\n",
    "# # It has two ends, a front and a rear, and the items remain positioned in\n",
    "# the collection.\n",
    "\n",
    "# # What makes a deque different is the unrestrictive nature of adding and \n",
    "# removing items.\n",
    "\n",
    "# # New items can be added at either the front or the rear.\n",
    "\n",
    "# # Likewise, existing items can be removed from either end.\n",
    "\n",
    "# # In a sense, this hybrid linear structure provides all the capabilities\n",
    "# of stacks and queues in a single data structure.\n",
    "\n",
    "# ## It is important to note that even though the deque can assume many of\n",
    "# the characteristics of stacks and queues, it does not requir the LIFO and\n",
    "# FIFO orderings that are enforced by those data structures.\n",
    "\n",
    "# # It is up to you to make consistent use of the addition and removal \n",
    "# operations.\n",
    "\n",
    "# # Let's see an Image to visualize the Deque Data Structure:\n",
    "\n",
    "from IPython.display import Image\n",
    "Image('http://www.codeproject.com/KB/recipes/669131/deque.png')"
   ]
  },
  {
   "cell_type": "markdown",
   "id": "8062047c",
   "metadata": {},
   "source": [
    "# Implementation of Deque"
   ]
  },
  {
   "cell_type": "markdown",
   "id": "64ea6c1d",
   "metadata": {},
   "source": [
    "Methods and Attributes"
   ]
  },
  {
   "cell_type": "code",
   "execution_count": 2,
   "id": "62971fc5",
   "metadata": {},
   "outputs": [],
   "source": [
    "# # Deque() creates a new deque that is empty. It needs no parameters and\n",
    "# returns an empty deque.\n",
    "\n",
    "# # addFront(item) adds a new item to the front of the deque. It needs the \n",
    "# item and returns nothing.\n",
    "\n",
    "# # addRear(item) adds a new item to the rear of the deque. It needs the item\n",
    "# and returns nothing.\n",
    "\n",
    "# # removeFront() removes the front item from the deque. It needs no parameters\n",
    "# and returns the item. The deque is modified.\n",
    "\n",
    "# # removeRear() removes the rear item from the deque. It needs no parameters\n",
    "# and returns the item. The deque is modified.\n",
    "\n",
    "# # isEmpty() tests to see whether the deque is empty. It needs no parameters\n",
    "# and returns a boolean value.\n",
    "\n",
    "# # size() returns the numbers of items in the deque. It needs no parameters\n",
    "# and returns an integer.\n",
    "\n",
    "# # "
   ]
  },
  {
   "cell_type": "markdown",
   "id": "b966c363",
   "metadata": {},
   "source": [
    "# Deque Implementation"
   ]
  },
  {
   "cell_type": "code",
   "execution_count": 30,
   "id": "8269f028",
   "metadata": {},
   "outputs": [],
   "source": [
    "class Deque:\n",
    "    def __init__(self):\n",
    "        self.items = []\n",
    "        \n",
    "    def isEmpty(self):\n",
    "        return self.items == []\n",
    "    \n",
    "    def addFront(self,item):\n",
    "        self.items.append(item)\n",
    "        \n",
    "    def addRear(self, item):\n",
    "        self.items.insert(0,item)\n",
    "        \n",
    "    def removeFront(self):\n",
    "        return self.items.pop()\n",
    "    \n",
    "    def removeRear(self):\n",
    "        return self.items.pop(0)\n",
    "    \n",
    "    def size(self):\n",
    "        return len(self.items)"
   ]
  },
  {
   "cell_type": "code",
   "execution_count": 31,
   "id": "b3da3ce8",
   "metadata": {},
   "outputs": [],
   "source": [
    "d = Deque()"
   ]
  },
  {
   "cell_type": "code",
   "execution_count": 32,
   "id": "43f1f91f",
   "metadata": {},
   "outputs": [],
   "source": [
    "d.addFront('hello')"
   ]
  },
  {
   "cell_type": "code",
   "execution_count": 33,
   "id": "f47492a4",
   "metadata": {},
   "outputs": [],
   "source": [
    "d.addRear('world')"
   ]
  },
  {
   "cell_type": "code",
   "execution_count": 34,
   "id": "f082a485",
   "metadata": {},
   "outputs": [
    {
     "data": {
      "text/plain": [
       "2"
      ]
     },
     "execution_count": 34,
     "metadata": {},
     "output_type": "execute_result"
    }
   ],
   "source": [
    "d.size()"
   ]
  },
  {
   "cell_type": "code",
   "execution_count": 35,
   "id": "7cf98e55",
   "metadata": {},
   "outputs": [
    {
     "name": "stdout",
     "output_type": "stream",
     "text": [
      "hello world\n"
     ]
    }
   ],
   "source": [
    "print(d.removeFront() + ' ' + d.removeRear())"
   ]
  },
  {
   "cell_type": "code",
   "execution_count": 36,
   "id": "a47518e5",
   "metadata": {},
   "outputs": [
    {
     "data": {
      "text/plain": [
       "0"
      ]
     },
     "execution_count": 36,
     "metadata": {},
     "output_type": "execute_result"
    }
   ],
   "source": [
    "d.size()"
   ]
  },
  {
   "cell_type": "code",
   "execution_count": 37,
   "id": "eeb6e949",
   "metadata": {},
   "outputs": [
    {
     "data": {
      "text/plain": [
       "True"
      ]
     },
     "execution_count": 37,
     "metadata": {},
     "output_type": "execute_result"
    }
   ],
   "source": [
    "d.isEmpty()"
   ]
  },
  {
   "cell_type": "code",
   "execution_count": null,
   "id": "fa563699",
   "metadata": {},
   "outputs": [],
   "source": []
  },
  {
   "cell_type": "markdown",
   "id": "56558bf2",
   "metadata": {},
   "source": [
    "# #Interview Problems"
   ]
  },
  {
   "cell_type": "markdown",
   "id": "b31db290",
   "metadata": {},
   "source": [
    "# prob-1 Implement a Stack"
   ]
  },
  {
   "cell_type": "markdown",
   "id": "d9d89ccb",
   "metadata": {},
   "source": [
    "A very common interview question is to begin by just implementing a Stack! Try your best to implement your own stack!\n",
    "\n",
    "It should have the methods:\n",
    "\n",
    "Check if its empty\n",
    "\n",
    "Push a new item\n",
    "\n",
    "Pop an item\n",
    "\n",
    "Peek at the top item\n",
    "\n",
    "Return the size"
   ]
  },
  {
   "cell_type": "code",
   "execution_count": 58,
   "id": "487f5fe6",
   "metadata": {},
   "outputs": [],
   "source": [
    "class Stack(object):\n",
    "    \n",
    "    def __init__(self):\n",
    "        self.items = []\n",
    "        \n",
    "    def isEmpty(self):\n",
    "        return self.items == []\n",
    "    \n",
    "    def push(self,item):\n",
    "        self.items.append(item)\n",
    "        \n",
    "    def pop(self):\n",
    "        return self.items.pop()\n",
    "    \n",
    "    def peek(self):\n",
    "        return self.items[len(self.items)-1]\n",
    "    \n",
    "    def size(self):\n",
    "        return len(self.items)\n",
    "        "
   ]
  },
  {
   "cell_type": "code",
   "execution_count": 59,
   "id": "328001ed",
   "metadata": {},
   "outputs": [],
   "source": [
    "s = Stack()"
   ]
  },
  {
   "cell_type": "code",
   "execution_count": 60,
   "id": "26b51ac7",
   "metadata": {},
   "outputs": [
    {
     "data": {
      "text/plain": [
       "True"
      ]
     },
     "execution_count": 60,
     "metadata": {},
     "output_type": "execute_result"
    }
   ],
   "source": [
    "s.isEmpty()"
   ]
  },
  {
   "cell_type": "code",
   "execution_count": 86,
   "id": "bf02cb0d",
   "metadata": {},
   "outputs": [],
   "source": [
    "s.push('devuuu')"
   ]
  },
  {
   "cell_type": "code",
   "execution_count": 87,
   "id": "69fbeba1",
   "metadata": {},
   "outputs": [],
   "source": [
    "s.push(2)"
   ]
  },
  {
   "cell_type": "code",
   "execution_count": 88,
   "id": "eec78c7d",
   "metadata": {},
   "outputs": [
    {
     "data": {
      "text/plain": [
       "2"
      ]
     },
     "execution_count": 88,
     "metadata": {},
     "output_type": "execute_result"
    }
   ],
   "source": [
    "s.peek()"
   ]
  },
  {
   "cell_type": "code",
   "execution_count": 89,
   "id": "5bcb501e",
   "metadata": {},
   "outputs": [
    {
     "data": {
      "text/plain": [
       "False"
      ]
     },
     "execution_count": 89,
     "metadata": {},
     "output_type": "execute_result"
    }
   ],
   "source": [
    "s.isEmpty()"
   ]
  },
  {
   "cell_type": "code",
   "execution_count": 90,
   "id": "8825e112",
   "metadata": {},
   "outputs": [
    {
     "data": {
      "text/plain": [
       "2"
      ]
     },
     "execution_count": 90,
     "metadata": {},
     "output_type": "execute_result"
    }
   ],
   "source": [
    "s.peek()"
   ]
  },
  {
   "cell_type": "code",
   "execution_count": 91,
   "id": "cfb3013a",
   "metadata": {},
   "outputs": [],
   "source": [
    "#s.pop()"
   ]
  },
  {
   "cell_type": "code",
   "execution_count": 92,
   "id": "27b30183",
   "metadata": {},
   "outputs": [
    {
     "data": {
      "text/plain": [
       "False"
      ]
     },
     "execution_count": 92,
     "metadata": {},
     "output_type": "execute_result"
    }
   ],
   "source": [
    "s.isEmpty()"
   ]
  },
  {
   "cell_type": "code",
   "execution_count": 93,
   "id": "f839bf5b",
   "metadata": {},
   "outputs": [
    {
     "data": {
      "text/plain": [
       "4"
      ]
     },
     "execution_count": 93,
     "metadata": {},
     "output_type": "execute_result"
    }
   ],
   "source": [
    "s.size()"
   ]
  },
  {
   "cell_type": "code",
   "execution_count": 94,
   "id": "f447c64f",
   "metadata": {},
   "outputs": [
    {
     "data": {
      "text/plain": [
       "4"
      ]
     },
     "execution_count": 94,
     "metadata": {},
     "output_type": "execute_result"
    }
   ],
   "source": [
    "s.size()"
   ]
  },
  {
   "cell_type": "code",
   "execution_count": null,
   "id": "65d3cfc3",
   "metadata": {},
   "outputs": [],
   "source": []
  },
  {
   "cell_type": "markdown",
   "id": "351ae661",
   "metadata": {},
   "source": [
    "# prob-2 Implement a Queue"
   ]
  },
  {
   "cell_type": "markdown",
   "id": "ba56b0ef",
   "metadata": {},
   "source": [
    "It's very common to be asked to implement a Queue class! The class \n",
    "should be able to do the following:\n",
    "\n",
    "Check if Queue is Empty\n",
    "\n",
    "Enqueue\n",
    "\n",
    "Dequeue\n",
    "\n",
    "Return the size of the Queue"
   ]
  },
  {
   "cell_type": "code",
   "execution_count": 87,
   "id": "db89570d",
   "metadata": {},
   "outputs": [],
   "source": [
    "class Queue(object):\n",
    "    \n",
    "    def __init__(self):\n",
    "        self.items = []\n",
    "        \n",
    "    def isEmpty(self):\n",
    "        return self.items == []\n",
    "    \n",
    "    def Enqueue(self, item):\n",
    "        self.items.insert(0,item)\n",
    "        \n",
    "    def Dequeue(self):\n",
    "        return self.items.pop()\n",
    "    \n",
    "    def size(self):\n",
    "        return len(self.items)"
   ]
  },
  {
   "cell_type": "code",
   "execution_count": 88,
   "id": "d47bb649",
   "metadata": {},
   "outputs": [],
   "source": [
    "q = Queue()"
   ]
  },
  {
   "cell_type": "code",
   "execution_count": 89,
   "id": "343c8233",
   "metadata": {},
   "outputs": [
    {
     "data": {
      "text/plain": [
       "True"
      ]
     },
     "execution_count": 89,
     "metadata": {},
     "output_type": "execute_result"
    }
   ],
   "source": [
    "q.isEmpty()"
   ]
  },
  {
   "cell_type": "code",
   "execution_count": 103,
   "id": "ba5fc1b6",
   "metadata": {},
   "outputs": [],
   "source": [
    "q.Enqueue('devil')"
   ]
  },
  {
   "cell_type": "code",
   "execution_count": 104,
   "id": "12bf2325",
   "metadata": {},
   "outputs": [
    {
     "data": {
      "text/plain": [
       "'devil'"
      ]
     },
     "execution_count": 104,
     "metadata": {},
     "output_type": "execute_result"
    }
   ],
   "source": [
    "q.Dequeue()"
   ]
  },
  {
   "cell_type": "code",
   "execution_count": 105,
   "id": "d601f52a",
   "metadata": {},
   "outputs": [
    {
     "data": {
      "text/plain": [
       "0"
      ]
     },
     "execution_count": 105,
     "metadata": {},
     "output_type": "execute_result"
    }
   ],
   "source": [
    "q.size()"
   ]
  },
  {
   "cell_type": "code",
   "execution_count": 106,
   "id": "29178542",
   "metadata": {},
   "outputs": [
    {
     "data": {
      "text/plain": [
       "True"
      ]
     },
     "execution_count": 106,
     "metadata": {},
     "output_type": "execute_result"
    }
   ],
   "source": [
    "q.isEmpty()"
   ]
  },
  {
   "cell_type": "code",
   "execution_count": null,
   "id": "6f8b650d",
   "metadata": {},
   "outputs": [],
   "source": []
  },
  {
   "cell_type": "markdown",
   "id": "7e75145e",
   "metadata": {},
   "source": [
    "# prob-3 Implement a Deqeue"
   ]
  },
  {
   "cell_type": "markdown",
   "id": "a1491de7",
   "metadata": {},
   "source": [
    "Finally, implement a Deque class! It should be able to do the following:\n",
    "\n",
    "Check if its empty\n",
    "\n",
    "Add to both front and rear\n",
    "\n",
    "Remove from Front and Rear\n",
    "\n",
    "Check the Size"
   ]
  },
  {
   "cell_type": "code",
   "execution_count": 204,
   "id": "d7eb14ed",
   "metadata": {},
   "outputs": [],
   "source": [
    "class Deque(object):\n",
    "    \n",
    "    def __init__(self):\n",
    "        self.items = []\n",
    "        \n",
    "    def isEmpty(self):\n",
    "        return self.items == []\n",
    "    \n",
    "    def addFront(self, item):\n",
    "        self.items.append(item)\n",
    "        \n",
    "    def addRear(self, item):\n",
    "        self.items.insert(0,item)\n",
    "    \n",
    "    def removeFront(self):\n",
    "        return self.items.pop()\n",
    "    \n",
    "    def removeRear(self):\n",
    "        return self.items.pop(0)\n",
    "    \n",
    "    def size(self):\n",
    "        return len(self.items)"
   ]
  },
  {
   "cell_type": "code",
   "execution_count": 205,
   "id": "1e32b4fb",
   "metadata": {},
   "outputs": [],
   "source": [
    "d = Deque()"
   ]
  },
  {
   "cell_type": "code",
   "execution_count": 206,
   "id": "fde032ae",
   "metadata": {},
   "outputs": [
    {
     "data": {
      "text/plain": [
       "True"
      ]
     },
     "execution_count": 206,
     "metadata": {},
     "output_type": "execute_result"
    }
   ],
   "source": [
    "d.isEmpty()"
   ]
  },
  {
   "cell_type": "code",
   "execution_count": 207,
   "id": "44705b86",
   "metadata": {},
   "outputs": [
    {
     "data": {
      "text/plain": [
       "0"
      ]
     },
     "execution_count": 207,
     "metadata": {},
     "output_type": "execute_result"
    }
   ],
   "source": [
    "d.size()"
   ]
  },
  {
   "cell_type": "code",
   "execution_count": 208,
   "id": "1fd1f20a",
   "metadata": {},
   "outputs": [],
   "source": [
    "d.addFront('vedr')"
   ]
  },
  {
   "cell_type": "code",
   "execution_count": 209,
   "id": "1dddd75d",
   "metadata": {},
   "outputs": [
    {
     "data": {
      "text/plain": [
       "False"
      ]
     },
     "execution_count": 209,
     "metadata": {},
     "output_type": "execute_result"
    }
   ],
   "source": [
    "d.isEmpty()"
   ]
  },
  {
   "cell_type": "code",
   "execution_count": 210,
   "id": "bdd08f56",
   "metadata": {},
   "outputs": [
    {
     "data": {
      "text/plain": [
       "1"
      ]
     },
     "execution_count": 210,
     "metadata": {},
     "output_type": "execute_result"
    }
   ],
   "source": [
    "d.size()"
   ]
  },
  {
   "cell_type": "code",
   "execution_count": 222,
   "id": "a19d718d",
   "metadata": {},
   "outputs": [
    {
     "data": {
      "text/plain": [
       "'deeghf'"
      ]
     },
     "execution_count": 222,
     "metadata": {},
     "output_type": "execute_result"
    }
   ],
   "source": [
    "d.removeFront()"
   ]
  },
  {
   "cell_type": "code",
   "execution_count": 223,
   "id": "25cabfe5",
   "metadata": {},
   "outputs": [
    {
     "data": {
      "text/plain": [
       "True"
      ]
     },
     "execution_count": 223,
     "metadata": {},
     "output_type": "execute_result"
    }
   ],
   "source": [
    "d.isEmpty()"
   ]
  },
  {
   "cell_type": "code",
   "execution_count": 228,
   "id": "e1f57e3f",
   "metadata": {},
   "outputs": [],
   "source": [
    "d.addRear(\"deghf\")"
   ]
  },
  {
   "cell_type": "code",
   "execution_count": 229,
   "id": "77da23db",
   "metadata": {},
   "outputs": [
    {
     "data": {
      "text/plain": [
       "False"
      ]
     },
     "execution_count": 229,
     "metadata": {},
     "output_type": "execute_result"
    }
   ],
   "source": [
    "d.isEmpty()"
   ]
  },
  {
   "cell_type": "code",
   "execution_count": 230,
   "id": "6d9a7e0e",
   "metadata": {},
   "outputs": [
    {
     "data": {
      "text/plain": [
       "2"
      ]
     },
     "execution_count": 230,
     "metadata": {},
     "output_type": "execute_result"
    }
   ],
   "source": [
    "d.size()"
   ]
  },
  {
   "cell_type": "code",
   "execution_count": 216,
   "id": "436b8e78",
   "metadata": {},
   "outputs": [
    {
     "data": {
      "text/plain": [
       "'deef'"
      ]
     },
     "execution_count": 216,
     "metadata": {},
     "output_type": "execute_result"
    }
   ],
   "source": [
    "d.removeRear()"
   ]
  },
  {
   "cell_type": "code",
   "execution_count": 217,
   "id": "db01cd91",
   "metadata": {},
   "outputs": [
    {
     "data": {
      "text/plain": [
       "True"
      ]
     },
     "execution_count": 217,
     "metadata": {},
     "output_type": "execute_result"
    }
   ],
   "source": [
    "d.isEmpty()"
   ]
  },
  {
   "cell_type": "code",
   "execution_count": 218,
   "id": "37adc1a6",
   "metadata": {},
   "outputs": [
    {
     "data": {
      "text/plain": [
       "0"
      ]
     },
     "execution_count": 218,
     "metadata": {},
     "output_type": "execute_result"
    }
   ],
   "source": [
    "d.size()"
   ]
  },
  {
   "cell_type": "code",
   "execution_count": null,
   "id": "08c1be56",
   "metadata": {},
   "outputs": [],
   "source": []
  },
  {
   "cell_type": "markdown",
   "id": "fd7636e6",
   "metadata": {},
   "source": [
    "# prob-4 Balanced Parentheses Check"
   ]
  },
  {
   "cell_type": "code",
   "execution_count": 238,
   "id": "3550e271",
   "metadata": {},
   "outputs": [],
   "source": [
    "# # Given a string of opening and closing parentheses, check whether\n",
    "# it’sbalanced. We have 3 types of parentheses: round brackets: (), \n",
    "# squarebrackets: [], and curly brackets: {}. Assume that the\n",
    "# stringdoesn’t contain any other character than these, no spaces words\n",
    "# or numbers. As a reminder, balanced parentheses require every opening \n",
    "# parenthesis to be closed in the reverse order opened. For example \n",
    "# ‘([])’ is balanced but ‘([)]’ is not.\n",
    "\n",
    "# #You can assume the input string has no spaces."
   ]
  },
  {
   "cell_type": "markdown",
   "id": "d8b6a9b8",
   "metadata": {},
   "source": [
    "Solution"
   ]
  },
  {
   "cell_type": "code",
   "execution_count": 239,
   "id": "378f8541",
   "metadata": {},
   "outputs": [],
   "source": [
    "# # This is a very common interview question and is one of the main ways\n",
    "# to check your knowledge of using Stacks! We will start our solution \n",
    "# logic as such:\n",
    "\n",
    "# # First we will scan the string from left to right, and every time\n",
    "# we see an opening parenthesis we push it to a stack, because we want \n",
    "# the last opening parenthesis to be closed first. (Remember the FILO\n",
    "# structure of a stack!)\n",
    "\n",
    "# # Then, when we see a closing parenthesis we check whether the last\n",
    "# opened one is the corresponding closing match, by popping an element \n",
    "# from the stack. If it’s a valid match, then we proceed forward, if not\n",
    "# return false.\n",
    "\n",
    "# # Or if the stack is empty we also return false, because there’s no \n",
    "# opening parenthesis associated with this closing one. In the end, we\n",
    "# also check whether the stack is empty. If so, we return true, otherwise\n",
    "# return false because there were some opened parenthesis that were not\n",
    "# closed.\n",
    "\n",
    "# # Here's an example solution:\n",
    "\n"
   ]
  },
  {
   "cell_type": "code",
   "execution_count": 245,
   "id": "84d51846",
   "metadata": {},
   "outputs": [],
   "source": [
    "def balance_check(s):\n",
    "    \n",
    "    # Check is even number of brackets\n",
    "    if len(s)%2 != 0:\n",
    "        return False\n",
    "    \n",
    "    # Set of opening brackets\n",
    "    opening = set('([{')\n",
    "    \n",
    "    # Matching Pairs\n",
    "    matches = set([('(',')'), ('[',']'), ('{','}')])\n",
    "    \n",
    "    # Use a list as a \"Stack\"\n",
    "    stack = []\n",
    "    \n",
    "    # Check every parenthesis in string\n",
    "    for paren in s:\n",
    "        \n",
    "        # If its an opening, append it to list\n",
    "        if paren in opening:\n",
    "            stack.append(paren)\n",
    "            \n",
    "        else:\n",
    "            \n",
    "            # Check that there are parentheses in Stack\n",
    "            if len(stack) == 0:\n",
    "                return False\n",
    "            \n",
    "            # Check the last open parenthesis\n",
    "            last_open = stack.pop()\n",
    "            \n",
    "            # Check if it has a closing match\n",
    "            if (last_open,paren) not in matches:\n",
    "                return False\n",
    "            \n",
    "    return len(stack) == 0        \n",
    "        \n",
    "    "
   ]
  },
  {
   "cell_type": "code",
   "execution_count": 246,
   "id": "e710500e",
   "metadata": {},
   "outputs": [
    {
     "data": {
      "text/plain": [
       "True"
      ]
     },
     "execution_count": 246,
     "metadata": {},
     "output_type": "execute_result"
    }
   ],
   "source": [
    "balance_check('[]')"
   ]
  },
  {
   "cell_type": "code",
   "execution_count": 247,
   "id": "1d356f9d",
   "metadata": {},
   "outputs": [
    {
     "data": {
      "text/plain": [
       "True"
      ]
     },
     "execution_count": 247,
     "metadata": {},
     "output_type": "execute_result"
    }
   ],
   "source": [
    "balance_check('[](){([[[]]])}')"
   ]
  },
  {
   "cell_type": "code",
   "execution_count": 248,
   "id": "cd6d5abe",
   "metadata": {},
   "outputs": [
    {
     "data": {
      "text/plain": [
       "False"
      ]
     },
     "execution_count": 248,
     "metadata": {},
     "output_type": "execute_result"
    }
   ],
   "source": [
    "balance_check('()(){]}')"
   ]
  },
  {
   "cell_type": "code",
   "execution_count": null,
   "id": "9c872c33",
   "metadata": {},
   "outputs": [],
   "source": []
  },
  {
   "cell_type": "code",
   "execution_count": 249,
   "id": "97bd89f3",
   "metadata": {},
   "outputs": [
    {
     "name": "stdout",
     "output_type": "stream",
     "text": [
      "ALL TEST CASES PASSED\n"
     ]
    }
   ],
   "source": [
    "\"\"\"\n",
    "RUN THIS CELL TO TEST YOUR SOLUTION\n",
    "\"\"\"\n",
    "from nose.tools import assert_equal\n",
    "\n",
    "class TestBalanceCheck(object):\n",
    "    \n",
    "    def test(self,sol):\n",
    "        assert_equal(sol('[](){([[[]]])}('),False)\n",
    "        assert_equal(sol('[{{{(())}}}]((()))'),True)\n",
    "        assert_equal(sol('[[[]])]'),False)\n",
    "        print('ALL TEST CASES PASSED')\n",
    "        \n",
    "# Run Tests\n",
    "\n",
    "t = TestBalanceCheck()\n",
    "t.test(balance_check)"
   ]
  },
  {
   "cell_type": "code",
   "execution_count": null,
   "id": "85203429",
   "metadata": {},
   "outputs": [],
   "source": []
  },
  {
   "cell_type": "markdown",
   "id": "07ab41e4",
   "metadata": {},
   "source": [
    "# Prob- 5 Implement a Queue - Using Two Stacks"
   ]
  },
  {
   "cell_type": "markdown",
   "id": "f1af6764",
   "metadata": {},
   "source": [
    "Given the Stack class below, implement a Queue class using two \n",
    "\n",
    "stacks! Note, this is a \"classic\" interview problem. Use a Python \n",
    "\n",
    "list data structure as your Stack"
   ]
  },
  {
   "cell_type": "code",
   "execution_count": null,
   "id": "ad3ec023",
   "metadata": {},
   "outputs": [],
   "source": [
    "# Uses lists instead of your own Stack class.\n",
    "stack1 = []\n",
    "stack2 = []"
   ]
  },
  {
   "cell_type": "markdown",
   "id": "62ca2678",
   "metadata": {},
   "source": [
    "# Solution"
   ]
  },
  {
   "cell_type": "markdown",
   "id": "a7ce2e20",
   "metadata": {},
   "source": [
    "The key insight is that a stack reverses order (while a queue doesn't).\n",
    "A sequence of elements pushed on a stack comes back in reversed order \n",
    "when popped. Consequently, two stacks chained together will return\n",
    "elements in the same order, since reversed order reversed again is \n",
    "original order.\n",
    "\n",
    "We use an in-stack that we fill when an element is enqueued and the \n",
    "dequeue operation takes elements from an out-stack. If the out-stack\n",
    "is empty we pop all elements from the in-stack and push them onto the \n",
    "out-stack."
   ]
  },
  {
   "cell_type": "code",
   "execution_count": 267,
   "id": "122a38d8",
   "metadata": {},
   "outputs": [],
   "source": [
    "class Queue2Stacks(object):\n",
    "    \n",
    "    def __init__(self):\n",
    "        \n",
    "        # Two Stacks\n",
    "        self.stack1 = []\n",
    "        self.stack2 = []\n",
    "        \n",
    "    def enqueue(self,element):\n",
    "        \n",
    "        # Add an enqueue with the \"IN\" stack or \"stack1\"\n",
    "        self.stack1.append(element)\n",
    "    \n",
    "    def dequeue(self):\n",
    "        if not self.stack2:\n",
    "            while self.stack1:\n",
    "                # Add the elements to the \"outstack\" or \"stack2\" to reverse the order when called\n",
    "                self.stack2.append(self.stack1.pop())\n",
    "        return self.stack2.pop()        "
   ]
  },
  {
   "cell_type": "code",
   "execution_count": 275,
   "id": "86144b50",
   "metadata": {},
   "outputs": [],
   "source": [
    "q = Queue2Stacks()"
   ]
  },
  {
   "cell_type": "code",
   "execution_count": 276,
   "id": "886812c7",
   "metadata": {},
   "outputs": [
    {
     "ename": "IndexError",
     "evalue": "pop from empty list",
     "output_type": "error",
     "traceback": [
      "\u001b[1;31m---------------------------------------------------------------------------\u001b[0m",
      "\u001b[1;31mIndexError\u001b[0m                                Traceback (most recent call last)",
      "\u001b[1;32m~\\AppData\\Local\\Temp/ipykernel_28388/637190519.py\u001b[0m in \u001b[0;36m<module>\u001b[1;34m\u001b[0m\n\u001b[1;32m----> 1\u001b[1;33m \u001b[0mq\u001b[0m\u001b[1;33m.\u001b[0m\u001b[0mdequeue\u001b[0m\u001b[1;33m(\u001b[0m\u001b[1;33m)\u001b[0m\u001b[1;33m\u001b[0m\u001b[1;33m\u001b[0m\u001b[0m\n\u001b[0m",
      "\u001b[1;32m~\\AppData\\Local\\Temp/ipykernel_28388/1167814241.py\u001b[0m in \u001b[0;36mdequeue\u001b[1;34m(self)\u001b[0m\n\u001b[0;32m     17\u001b[0m                 \u001b[1;31m# Add the elements to the outstack to reverse the order when called\u001b[0m\u001b[1;33m\u001b[0m\u001b[1;33m\u001b[0m\u001b[0m\n\u001b[0;32m     18\u001b[0m                 \u001b[0mself\u001b[0m\u001b[1;33m.\u001b[0m\u001b[0mstack2\u001b[0m\u001b[1;33m.\u001b[0m\u001b[0mappend\u001b[0m\u001b[1;33m(\u001b[0m\u001b[0mself\u001b[0m\u001b[1;33m.\u001b[0m\u001b[0mstack1\u001b[0m\u001b[1;33m.\u001b[0m\u001b[0mpop\u001b[0m\u001b[1;33m(\u001b[0m\u001b[1;33m)\u001b[0m\u001b[1;33m)\u001b[0m\u001b[1;33m\u001b[0m\u001b[1;33m\u001b[0m\u001b[0m\n\u001b[1;32m---> 19\u001b[1;33m         \u001b[1;32mreturn\u001b[0m \u001b[0mself\u001b[0m\u001b[1;33m.\u001b[0m\u001b[0mstack2\u001b[0m\u001b[1;33m.\u001b[0m\u001b[0mpop\u001b[0m\u001b[1;33m(\u001b[0m\u001b[1;33m)\u001b[0m\u001b[1;33m\u001b[0m\u001b[1;33m\u001b[0m\u001b[0m\n\u001b[0m",
      "\u001b[1;31mIndexError\u001b[0m: pop from empty list"
     ]
    }
   ],
   "source": [
    "q.dequeue()"
   ]
  },
  {
   "cell_type": "code",
   "execution_count": null,
   "id": "3df6a9f4",
   "metadata": {},
   "outputs": [],
   "source": []
  },
  {
   "cell_type": "code",
   "execution_count": 277,
   "id": "fce9a824",
   "metadata": {},
   "outputs": [
    {
     "name": "stdout",
     "output_type": "stream",
     "text": [
      "0\n",
      "1\n",
      "2\n",
      "3\n",
      "4\n"
     ]
    }
   ],
   "source": [
    "\"\"\"\n",
    "RUN THIS CELL TO CHECK THAT YOUR SOLUTION OUTPUT MAKES SENSE AND BEHAVES AS A QUEUE\n",
    "\"\"\"\n",
    "q = Queue2Stacks()\n",
    "\n",
    "for i in range(5):\n",
    "    q.enqueue(i)\n",
    "    \n",
    "for i in range(5):\n",
    "    print(q.dequeue())"
   ]
  },
  {
   "cell_type": "code",
   "execution_count": null,
   "id": "478e715a",
   "metadata": {},
   "outputs": [],
   "source": []
  }
 ],
 "metadata": {
  "kernelspec": {
   "display_name": "Python 3 (ipykernel)",
   "language": "python",
   "name": "python3"
  },
  "language_info": {
   "codemirror_mode": {
    "name": "ipython",
    "version": 3
   },
   "file_extension": ".py",
   "mimetype": "text/x-python",
   "name": "python",
   "nbconvert_exporter": "python",
   "pygments_lexer": "ipython3",
   "version": "3.9.7"
  }
 },
 "nbformat": 4,
 "nbformat_minor": 5
}
