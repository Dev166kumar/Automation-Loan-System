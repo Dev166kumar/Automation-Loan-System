{
 "cells": [
  {
   "cell_type": "markdown",
   "id": "dfdbd138",
   "metadata": {},
   "source": [
    "# Uses of append() and inser() Functions"
   ]
  },
  {
   "cell_type": "code",
   "execution_count": 46,
   "id": "7d65909f",
   "metadata": {},
   "outputs": [
    {
     "name": "stdout",
     "output_type": "stream",
     "text": [
      "The new created array is :  1 2 3 \r\n",
      "The appended array is : 1 2 3 4 \r\n",
      "The array after insertion is : 1 2 5 3 4 "
     ]
    }
   ],
   "source": [
    "import array\n",
    "\n",
    "arr = array.array('i', [1,2,3])\n",
    "\n",
    "# printing original array\n",
    "print(\"The new created array is : \", end=\" \")\n",
    "for i in range (0,3):\n",
    "    print (arr[i], end=\" \")\n",
    "    \n",
    "print(\"\\r\")    \n",
    "\n",
    "# using append() to insert new value at end\n",
    "arr.append(4);\n",
    "\n",
    "# printing append array\n",
    "print(\"The appended array is : \", end=\"\")\n",
    "for i in range (0,4):\n",
    "    print(arr[i], end=\" \")\n",
    "    \n",
    "# using insert() to insert value at specific position\n",
    "\n",
    "# insert 5 at 2nd position\n",
    "arr.insert(2,5)\n",
    "\n",
    "print(\"\\r\")\n",
    "\n",
    "# printing array after insertion \n",
    "print(\"The array after insertion is : \", end=\"\")\n",
    "for i in range(0,5):\n",
    "    print(arr[i], end=\" \")"
   ]
  },
  {
   "cell_type": "markdown",
   "id": "8e19bfd3",
   "metadata": {},
   "source": [
    "# Uses of pop() and remove() Functions"
   ]
  },
  {
   "cell_type": "code",
   "execution_count": 49,
   "id": "3f913272",
   "metadata": {},
   "outputs": [
    {
     "name": "stdout",
     "output_type": "stream",
     "text": [
      "The new created array is : 1 2 3 1 5 \r\n",
      "The popped element is : 3\n",
      "The array after popping is : 1 2 1 5 \r\n",
      "The array after removing  is : 2 1 5 "
     ]
    }
   ],
   "source": [
    "# importing \"array\" for array operations\n",
    "import array\n",
    "\n",
    "# initializing array with array values\n",
    "# initializes array with signed integers\n",
    "arr = array.array('i',[1,2,3,1,5])\n",
    "\n",
    "# printing original array\n",
    "print(\"The new created array is : \",end=\"\")\n",
    "for i in range(0,5):\n",
    "    print(arr[i],end=\" \")\n",
    "    \n",
    "print(\"\\r\")    \n",
    "\n",
    "# using pop() to remove element at 2nd position\n",
    "print(\"The popped element is : \",end=\"\")\n",
    "print(arr.pop(2));\n",
    "\n",
    "# printing array after popping\n",
    "print(\"The array after popping is : \",end=\"\")\n",
    "for i in range(0,4):\n",
    "    print(arr[i],end=\" \")\n",
    "    \n",
    "print(\"\\r\")\n",
    "\n",
    "# using remove() to remove 1st occurance of 1\n",
    "arr.remove(1)\n",
    "\n",
    "# printing array after removing\n",
    "print(\"The array after removing  is : \",end=\"\")\n",
    "for i in range(0,3):\n",
    "    print(arr[i],end=\" \")"
   ]
  },
  {
   "cell_type": "markdown",
   "id": "0bbc9651",
   "metadata": {},
   "source": [
    "# Uses of index() and reverse() Functions"
   ]
  },
  {
   "cell_type": "code",
   "execution_count": 51,
   "id": "f0b38676",
   "metadata": {},
   "outputs": [
    {
     "name": "stdout",
     "output_type": "stream",
     "text": [
      "The new created array is : 1 2 3 1 2 5 \r\n",
      "The index of 1st occurance of 2 is : 1\n",
      "The array after reversing is : 5 2 1 3 2 1 "
     ]
    }
   ],
   "source": [
    "import array\n",
    "\n",
    "# initializing array with array values\n",
    "# initializes array with signed integers\n",
    "arr = array.array('i',[1,2,3,1,2,5])\n",
    "\n",
    "# printing original array\n",
    "print(\"The new created array is : \",end=\"\")\n",
    "for i in range(0,6):\n",
    "    print(arr[i],end=\" \")\n",
    "    \n",
    "print(\"\\r\")\n",
    "\n",
    "# using index() to print index of 1st occurance of 2\n",
    "print(\"The index of 1st occurance of 2 is : \",end=\"\")\n",
    "print(arr.index(2))\n",
    "\n",
    "# using reverse() to reverse the array\n",
    "arr.reverse()\n",
    "\n",
    "# printing array after reversing\n",
    "print(\"The array after reversing is : \",end=\"\")\n",
    "for i in range(0,6):\n",
    "    print(arr[i],end=\" \")"
   ]
  },
  {
   "cell_type": "code",
   "execution_count": 118,
   "id": "1fe4579b",
   "metadata": {},
   "outputs": [
    {
     "name": "stdout",
     "output_type": "stream",
     "text": [
      "DevDevDevDevDevDevDevDevDevDevVed \tDevDevDevDevDevDevDevDevDevDevVed \tDevDevDevDevDevDevDevDevDevDevVed \tDevDevDevDevDevDevDevDevDevDevVed \tDevDevDevDevDevDevDevDevDevDevVed \tDevDevDevDevDevDevDevDevDevDevVed \tDevDevDevDevDevDevDevDevDevDevVed \tDevDevDevDevDevDevDevDevDevDevVed \tDevDevDevDevDevDevDevDevDevDevVed \tDevDevDevDevDevDevDevDevDevDevVed \t"
     ]
    }
   ],
   "source": [
    "import array\n",
    " \n",
    "n = 10\n",
    "m = 100\n",
    "for i in range(n):\n",
    "    i = i+1\n",
    "    for j in range(n):\n",
    "        j = j+1\n",
    "        print('Dev',end=\"\")\n",
    "    print('Ved ',end=\"\\t\")    "
   ]
  },
  {
   "cell_type": "code",
   "execution_count": null,
   "id": "ab3e03e0",
   "metadata": {},
   "outputs": [],
   "source": []
  },
  {
   "cell_type": "markdown",
   "id": "6fe2c99a",
   "metadata": {},
   "source": [
    "# #Anagram Check"
   ]
  },
  {
   "cell_type": "markdown",
   "id": "4825e6cf",
   "metadata": {},
   "source": [
    " Method 1"
   ]
  },
  {
   "cell_type": "code",
   "execution_count": 22,
   "id": "3f329a0a",
   "metadata": {},
   "outputs": [],
   "source": [
    "def anagram(s1,s2):  \n",
    "    \n",
    "    s1 = s1.replace(' ','').lower()\n",
    "    s2 = s2.replace(' ','').lower()\n",
    "    \n",
    "    return sorted(s1) == sorted(s2)\n"
   ]
  },
  {
   "cell_type": "code",
   "execution_count": 23,
   "id": "4f51b64b",
   "metadata": {},
   "outputs": [
    {
     "data": {
      "text/plain": [
       "True"
      ]
     },
     "execution_count": 23,
     "metadata": {},
     "output_type": "execute_result"
    }
   ],
   "source": [
    "anagram('dog','god')"
   ]
  },
  {
   "cell_type": "code",
   "execution_count": 24,
   "id": "b751366d",
   "metadata": {},
   "outputs": [
    {
     "data": {
      "text/plain": [
       "True"
      ]
     },
     "execution_count": 24,
     "metadata": {},
     "output_type": "execute_result"
    }
   ],
   "source": [
    "anagram('clint eastwood','old west action')"
   ]
  },
  {
   "cell_type": "code",
   "execution_count": 25,
   "id": "6c80f0fe",
   "metadata": {},
   "outputs": [
    {
     "data": {
      "text/plain": [
       "False"
      ]
     },
     "execution_count": 25,
     "metadata": {},
     "output_type": "execute_result"
    }
   ],
   "source": [
    "anagram('aa','bb')"
   ]
  },
  {
   "cell_type": "markdown",
   "id": "ba9e2b1b",
   "metadata": {},
   "source": [
    " Method 2   - Preferred Solution in interview\n"
   ]
  },
  {
   "cell_type": "code",
   "execution_count": 43,
   "id": "eb1c4099",
   "metadata": {},
   "outputs": [],
   "source": [
    "def anagram2(s1,s2):  \n",
    "    \n",
    "    s1 = s1.replace(' ','').lower()\n",
    "    s2 = s2.replace(' ','').lower()\n",
    "    \n",
    "    # Edge Case Check\n",
    "    if len(s1) != len(s2):\n",
    "        return False\n",
    "    \n",
    "    count = {}\n",
    "    \n",
    "    for letter in s1:\n",
    "        if letter in count:\n",
    "            count[letter] += 1\n",
    "        else:\n",
    "            count[letter] = 1\n",
    "            \n",
    "    for letter in s2:\n",
    "        if letter in count:\n",
    "            count[letter] -= 1\n",
    "        else:\n",
    "            count[letter] = 1\n",
    "            \n",
    "            \n",
    "    for k in count:\n",
    "        if count[k] != 0:\n",
    "            return False\n",
    "        \n",
    "    return True    \n",
    "            "
   ]
  },
  {
   "cell_type": "code",
   "execution_count": 44,
   "id": "8ede1730",
   "metadata": {},
   "outputs": [
    {
     "data": {
      "text/plain": [
       "True"
      ]
     },
     "execution_count": 44,
     "metadata": {},
     "output_type": "execute_result"
    }
   ],
   "source": [
    "anagram2('dog','god')"
   ]
  },
  {
   "cell_type": "code",
   "execution_count": 45,
   "id": "11baf66e",
   "metadata": {},
   "outputs": [
    {
     "data": {
      "text/plain": [
       "True"
      ]
     },
     "execution_count": 45,
     "metadata": {},
     "output_type": "execute_result"
    }
   ],
   "source": [
    "anagram2('clint eastwood','old west action')"
   ]
  },
  {
   "cell_type": "code",
   "execution_count": 46,
   "id": "48d8caa5",
   "metadata": {},
   "outputs": [
    {
     "data": {
      "text/plain": [
       "False"
      ]
     },
     "execution_count": 46,
     "metadata": {},
     "output_type": "execute_result"
    }
   ],
   "source": [
    "anagram2('aa','bb')"
   ]
  },
  {
   "cell_type": "code",
   "execution_count": null,
   "id": "f69f3621",
   "metadata": {},
   "outputs": [],
   "source": []
  },
  {
   "cell_type": "markdown",
   "id": "e50502d2",
   "metadata": {},
   "source": [
    "# #Array Pair Sum"
   ]
  },
  {
   "cell_type": "code",
   "execution_count": 67,
   "id": "8df04a68",
   "metadata": {},
   "outputs": [],
   "source": [
    "def pair_sum(arr,k):\n",
    "    \n",
    "    if len(arr)<2:\n",
    "        return\n",
    "    \n",
    "    # Sets for tracking\n",
    "    seen = set()\n",
    "    output = set()\n",
    "    \n",
    "    for num in arr:\n",
    "        \n",
    "        target = k-num\n",
    "        \n",
    "        if target not in seen:\n",
    "            seen.add(num)\n",
    "            \n",
    "        else:\n",
    "            output.add( (min(num,target),max(num,target)) )\n",
    "            \n",
    "    #return len(output)  \n",
    "    print('\\n'.join(map(str,list(output))))"
   ]
  },
  {
   "cell_type": "code",
   "execution_count": 68,
   "id": "ff7fee26",
   "metadata": {},
   "outputs": [
    {
     "name": "stdout",
     "output_type": "stream",
     "text": [
      "(1, 3)\n",
      "(2, 2)\n"
     ]
    }
   ],
   "source": [
    "pair_sum([1,3,2,2],4)"
   ]
  },
  {
   "cell_type": "markdown",
   "id": "aac10cf2",
   "metadata": {},
   "source": [
    "# #Find the Missing Element"
   ]
  },
  {
   "cell_type": "markdown",
   "id": "7fb6f484",
   "metadata": {},
   "source": [
    "input:\n",
    "    finder([1,2,3,4,5,6,7],[3,7,2,1,4,6])\n",
    "    \n",
    "Output:\n",
    "    5 is the missing number"
   ]
  },
  {
   "cell_type": "code",
   "execution_count": 2,
   "id": "099122c0",
   "metadata": {},
   "outputs": [],
   "source": [
    "def finder(arr1,arr2):\n",
    "    \n",
    "    # Sort the arrays\n",
    "    arr1.sort()\n",
    "    arr2.sort()\n",
    "    \n",
    "    for num1,num2 in zip(arr1,arr2):\n",
    "        if num1 != num2:\n",
    "            return num1\n",
    "        \n",
    "    return arr1[-1]    "
   ]
  },
  {
   "cell_type": "code",
   "execution_count": 8,
   "id": "3fd5b009",
   "metadata": {},
   "outputs": [],
   "source": [
    "arr1 = [1,2,3,4,5,6,7]\n",
    "arr2 = [3,7,2,1,4,6]"
   ]
  },
  {
   "cell_type": "code",
   "execution_count": 9,
   "id": "a0ca84d8",
   "metadata": {},
   "outputs": [
    {
     "data": {
      "text/plain": [
       "5"
      ]
     },
     "execution_count": 9,
     "metadata": {},
     "output_type": "execute_result"
    }
   ],
   "source": [
    "finder(arr1,arr2)"
   ]
  },
  {
   "cell_type": "markdown",
   "id": "b6096c4a",
   "metadata": {},
   "source": [
    " Method2"
   ]
  },
  {
   "cell_type": "code",
   "execution_count": 10,
   "id": "72cbf7d1",
   "metadata": {},
   "outputs": [],
   "source": [
    "import collections\n",
    "\n",
    "def finder2(arr1,arr2):\n",
    "    \n",
    "    d = collections.defaultdict(int)\n",
    "    \n",
    "    for num in arr2:\n",
    "        d[num] += 1\n",
    "        \n",
    "    for num in arr1:\n",
    "        if d[num] ==0:\n",
    "            return num\n",
    "        \n",
    "        else:\n",
    "            d[num] -= 1"
   ]
  },
  {
   "cell_type": "code",
   "execution_count": 11,
   "id": "23fb0f3d",
   "metadata": {},
   "outputs": [],
   "source": [
    "arr1 = [1,2,3,4,5,6,7]\n",
    "arr2 = [3,7,2,1,4,6]"
   ]
  },
  {
   "cell_type": "code",
   "execution_count": 12,
   "id": "1268a574",
   "metadata": {},
   "outputs": [
    {
     "data": {
      "text/plain": [
       "5"
      ]
     },
     "execution_count": 12,
     "metadata": {},
     "output_type": "execute_result"
    }
   ],
   "source": [
    "finder2(arr1,arr2)"
   ]
  },
  {
   "cell_type": "markdown",
   "id": "9a770689",
   "metadata": {},
   "source": [
    "Method3   clever trick"
   ]
  },
  {
   "cell_type": "code",
   "execution_count": 14,
   "id": "1f1ddc5a",
   "metadata": {},
   "outputs": [],
   "source": [
    "def finder3(arr1,arr2):\n",
    "    result = 0\n",
    "    \n",
    "    # Perform on XOR between the numbers in the arrays\n",
    "    for num in arr1+arr2:\n",
    "        result^=num\n",
    "        print(result)\n",
    "        \n",
    "    return result    "
   ]
  },
  {
   "cell_type": "code",
   "execution_count": 15,
   "id": "82cab234",
   "metadata": {},
   "outputs": [
    {
     "name": "stdout",
     "output_type": "stream",
     "text": [
      "1\n",
      "3\n",
      "0\n",
      "4\n",
      "1\n",
      "7\n",
      "0\n",
      "3\n",
      "4\n",
      "6\n",
      "7\n",
      "3\n",
      "5\n"
     ]
    },
    {
     "data": {
      "text/plain": [
       "5"
      ]
     },
     "execution_count": 15,
     "metadata": {},
     "output_type": "execute_result"
    }
   ],
   "source": [
    "finder3(arr1,arr2)"
   ]
  },
  {
   "cell_type": "markdown",
   "id": "2d4f5bea",
   "metadata": {},
   "source": [
    "# #Largest Continuoust Sum"
   ]
  },
  {
   "cell_type": "markdown",
   "id": "16f61e78",
   "metadata": {},
   "source": [
    "Given an array of integers (positive and negative) find the largest \n",
    "continuous sum."
   ]
  },
  {
   "cell_type": "code",
   "execution_count": 19,
   "id": "75f40e0c",
   "metadata": {},
   "outputs": [],
   "source": [
    "def large_cont_sum(arr):\n",
    "    \n",
    "    # Check to see the \n",
    "    if len(arr) == 0:\n",
    "        return 0\n",
    "    \n",
    "    max_sum = current_sum = arr[0]\n",
    "    \n",
    "    for num in arr[1:]:\n",
    "        \n",
    "        current_sum = max(current_sum+num,num) \n",
    "        \n",
    "        max_sum = max(current_sum,max_sum)\n",
    "        \n",
    "    return max_sum    "
   ]
  },
  {
   "cell_type": "code",
   "execution_count": 20,
   "id": "deee9548",
   "metadata": {},
   "outputs": [
    {
     "data": {
      "text/plain": [
       "29"
      ]
     },
     "execution_count": 20,
     "metadata": {},
     "output_type": "execute_result"
    }
   ],
   "source": [
    "large_cont_sum([1,2,-1,3,4,10,10,-10,-1])"
   ]
  },
  {
   "cell_type": "markdown",
   "id": "075f21ab",
   "metadata": {},
   "source": [
    "# #Sentence Reversal"
   ]
  },
  {
   "cell_type": "code",
   "execution_count": 7,
   "id": "0688b9d5",
   "metadata": {},
   "outputs": [],
   "source": [
    "def rev_word(s):\n",
    "    \n",
    "    words = []\n",
    "    length = len(s)\n",
    "    spaces = [' ']\n",
    "    \n",
    "    i = 0\n",
    "    \n",
    "    while i < length:\n",
    "        \n",
    "        if s[i] not in spaces:\n",
    "            \n",
    "            word_start = i\n",
    "            \n",
    "            while i < length and s[i] not in spaces:\n",
    "                \n",
    "                i += 1\n",
    "                \n",
    "            words.append(s[word_start:i])\n",
    "            \n",
    "        i +=1\n",
    "        \n",
    "    return \" \".join(reversed(words))    "
   ]
  },
  {
   "cell_type": "code",
   "execution_count": 8,
   "id": "efc36c5f",
   "metadata": {},
   "outputs": [
    {
     "data": {
      "text/plain": [
       "'best the is This'"
      ]
     },
     "execution_count": 8,
     "metadata": {},
     "output_type": "execute_result"
    }
   ],
   "source": [
    "s = 'This is the best'\n",
    "rev_word(s)"
   ]
  },
  {
   "cell_type": "markdown",
   "id": "16ac3c56",
   "metadata": {},
   "source": [
    "# #String Compression"
   ]
  },
  {
   "cell_type": "code",
   "execution_count": 10,
   "id": "e74f6f25",
   "metadata": {},
   "outputs": [],
   "source": [
    "def compress(s):\n",
    "    \n",
    "    r = \"\"\n",
    "    l = len(s)\n",
    "    \n",
    "    if l == 0:\n",
    "        return \"\"\n",
    "    \n",
    "    if l == 1:\n",
    "        return s+\"1\"\n",
    "    \n",
    "    last = s[0]\n",
    "    cnt = 1\n",
    "    i = 1\n",
    "    \n",
    "    while i < l:\n",
    "        \n",
    "        if s[i] == s[i-1]:\n",
    "            cnt += 1\n",
    "        else:\n",
    "            r = r +s[i-1] + str(cnt)\n",
    "            cnt = 1\n",
    "            \n",
    "        i += 1\n",
    "        \n",
    "    r = r +s[i-1] + str(cnt)\n",
    "    \n",
    "    return r"
   ]
  },
  {
   "cell_type": "code",
   "execution_count": 11,
   "id": "5876df8a",
   "metadata": {},
   "outputs": [
    {
     "data": {
      "text/plain": [
       "'q3F1E4O3m2'"
      ]
     },
     "execution_count": 11,
     "metadata": {},
     "output_type": "execute_result"
    }
   ],
   "source": [
    "s = 'qqqFEEEEOOOmm'\n",
    "compress(s)"
   ]
  },
  {
   "cell_type": "markdown",
   "id": "96536d7d",
   "metadata": {},
   "source": [
    "# #Unique Character in String"
   ]
  },
  {
   "cell_type": "code",
   "execution_count": 18,
   "id": "3924ae9f",
   "metadata": {},
   "outputs": [],
   "source": [
    "def uni_char(s):\n",
    "    \n",
    "    char = set()\n",
    "    \n",
    "    for let in s:\n",
    "        if let in char:\n",
    "            return False\n",
    "        else:\n",
    "            char.add(let)\n",
    "    return True        "
   ]
  },
  {
   "cell_type": "code",
   "execution_count": 19,
   "id": "5bc1d6bd",
   "metadata": {},
   "outputs": [
    {
     "data": {
      "text/plain": [
       "False"
      ]
     },
     "execution_count": 19,
     "metadata": {},
     "output_type": "execute_result"
    }
   ],
   "source": [
    "s = 'adgedsss'\n",
    "uni_char(s)"
   ]
  },
  {
   "cell_type": "code",
   "execution_count": null,
   "id": "828cc6e1",
   "metadata": {},
   "outputs": [],
   "source": []
  },
  {
   "cell_type": "markdown",
   "id": "82d17d30",
   "metadata": {},
   "source": [
    "# ##Pattern based"
   ]
  },
  {
   "cell_type": "markdown",
   "id": "5c3a7770",
   "metadata": {},
   "source": [
    "# #Prob-1 Print  Rhombus Star Pattern"
   ]
  },
  {
   "cell_type": "markdown",
   "id": "577ed5b9",
   "metadata": {},
   "source": [
    "# Algorithm"
   ]
  },
  {
   "cell_type": "markdown",
   "id": "1a8379a0",
   "metadata": {},
   "source": [
    "1. Take number of rows/columns as input from the user\n",
    "(length of side of square)\n",
    "and store it in any varible ('l' in this case).\n",
    "\n",
    "\n",
    "2. Run a loop 'l' number of times to iterate through all \n",
    "the rows. From i=0 to\n",
    "i<l. The loop should be structured as for(i=0;i<l;i++).\n",
    "\n",
    "\n",
    "3. Run a nested loop inside the main loop for printing stars. \n",
    "From j=0 to j<l.\n",
    "The loop should be structured as for(j=0;j<l;j++).\n",
    "\n",
    "\n",
    "3. Inside the above loop print stars only if  i=0 or i=l-1 or\n",
    "j=0 or j=l-1 in \n",
    "all other cases print a blank space.\n",
    "\n",
    "\n",
    "4. Move to the next line by printing a new line. printf(“\\n”).\n"
   ]
  },
  {
   "cell_type": "markdown",
   "id": "df130fb0",
   "metadata": {},
   "source": [
    "# Code"
   ]
  },
  {
   "cell_type": "code",
   "execution_count": 10,
   "id": "a520cca8",
   "metadata": {},
   "outputs": [
    {
     "name": "stdout",
     "output_type": "stream",
     "text": [
      "Enter the number:4\n",
      "Enter the number:4\n",
      "****\n",
      " ****\n",
      "  ****\n",
      "   ****\n"
     ]
    }
   ],
   "source": [
    "rows = int(input(\"Enter the number:\"))\n",
    "cols = int(input(\"Enter the number:\"))\n",
    "if rows == cols:\n",
    "    for i in range(0, num):\n",
    "        for j in range(1, i+1):\n",
    "            print(\" \", end=\"\")\n",
    "        for j in range(0, num):\n",
    "            print(\"*\", end=\"\")\n",
    "        print()\n",
    "else:\n",
    "    print(\"number of rows and columns are not same\")"
   ]
  },
  {
   "cell_type": "markdown",
   "id": "e4ba830f",
   "metadata": {},
   "source": [
    "# #Prob-2 Printing Parallelogram Star Pattern"
   ]
  },
  {
   "cell_type": "markdown",
   "id": "98e08d34",
   "metadata": {},
   "source": [
    "# Algorithm"
   ]
  },
  {
   "cell_type": "markdown",
   "id": "a8fe734d",
   "metadata": {},
   "source": [
    "Step 1. Start\n",
    "\n",
    "Step 2. Take number of rows input from the user and store it in any variable (‘rows’ in this case).\n",
    "\n",
    "Step 3. Take number of column input from the user and store it in any variable (‘cols’ in this case).\n",
    "\n",
    "Step 4. Run a loop ‘i’ number of times to iterate through all the rows which is Starting from i=0 to rows.\n",
    "\n",
    "Step 5. Run a nested loop inside the main loop for printing spaces which is starting from j=1 to i+1.\n",
    "\n",
    "Step 6. Run a nested loop inside the main loop for printing stars which is starting from j=0 to cols.\n",
    "\n",
    "Step 7. Move to the next line by printing a new line using print() function.\n",
    "\n",
    "Stop 8. Stop\n",
    "\n"
   ]
  },
  {
   "cell_type": "markdown",
   "id": "8ea310cb",
   "metadata": {},
   "source": [
    "# Code"
   ]
  },
  {
   "cell_type": "code",
   "execution_count": 8,
   "id": "8ddd8679",
   "metadata": {},
   "outputs": [
    {
     "name": "stdout",
     "output_type": "stream",
     "text": [
      "Enter rows:4\n",
      "Enter Cols:5\n",
      "*****\n",
      " *****\n",
      "  *****\n",
      "   *****\n"
     ]
    }
   ],
   "source": [
    "rows = int(input(\"Enter rows:\"))\n",
    "cols = int(input(\"Enter Cols:\"))\n",
    "if rows<cols:\n",
    "    for i in range(0, rows):\n",
    "        for j in range(1, i+1):\n",
    "            print(\" \", end=\"\")\n",
    "        for j in range(0, cols):\n",
    "            print(\"*\", end=\"\")               \n",
    "        print()\n",
    "        \n",
    "else:\n",
    "    print(\"No. of rows must be less than columns\")"
   ]
  },
  {
   "cell_type": "code",
   "execution_count": null,
   "id": "0255d36a",
   "metadata": {},
   "outputs": [],
   "source": []
  },
  {
   "cell_type": "code",
   "execution_count": null,
   "id": "59f53798",
   "metadata": {},
   "outputs": [],
   "source": []
  },
  {
   "cell_type": "code",
   "execution_count": null,
   "id": "16b6055b",
   "metadata": {},
   "outputs": [],
   "source": []
  },
  {
   "cell_type": "code",
   "execution_count": null,
   "id": "0fe8365d",
   "metadata": {},
   "outputs": [],
   "source": []
  },
  {
   "cell_type": "markdown",
   "id": "60d3bfbb",
   "metadata": {},
   "source": [
    "# #Program-3 Printing Mirrored Rhombus Star Pattern"
   ]
  },
  {
   "cell_type": "markdown",
   "id": "4786508b",
   "metadata": {},
   "source": [
    "# Algorithm"
   ]
  },
  {
   "cell_type": "markdown",
   "id": "657ffeef",
   "metadata": {},
   "source": [
    "Step 1. Start\n",
    "\n",
    "Step 2. Take number of rows as input from the user and stored it into num.\n",
    "\n",
    "Step 3. Run a for loop starting from 0 to user entered num value.\n",
    "\n",
    "Step 4. Run a loop ‘i’ number of times to iterate through all the rows which is Starting from i=0 to num. \n",
    "\n",
    "Step 5. Run a nested loop inside the main loop for printing spaces which is starting from j=0 to num-i-1.\n",
    "\n",
    "Step 6. Run a nested loop inside the main loop for printing stars which is starting from j=0 to num.\n",
    "\n",
    "Step 7. Move to the next line by printing a new line using print() function.\n",
    "\n",
    "Stop 8. Stop"
   ]
  },
  {
   "cell_type": "markdown",
   "id": "880ee4d3",
   "metadata": {},
   "source": [
    "# Code"
   ]
  },
  {
   "cell_type": "code",
   "execution_count": 26,
   "id": "0fce728a",
   "metadata": {},
   "outputs": [
    {
     "name": "stdout",
     "output_type": "stream",
     "text": [
      "Enter the rows:5\n",
      "      ******\n",
      "     ******\n",
      "    ******\n",
      "   ******\n",
      "  ******\n",
      " ******\n"
     ]
    }
   ],
   "source": [
    "rows = int(input(\"Enter the rows:\"))\n",
    "#cols = int(input(\"Enter the columns value:\"))\n",
    "\n",
    "#if rows == cols:\n",
    "for i in range(0, num):\n",
    "    for j in range(0, num-i):\n",
    "        print(\" \", end=\"\")\n",
    "    for j in range(0, num):\n",
    "        print(\"*\", end=\"\")\n",
    "    print()\n",
    "        \n",
    "#else:\n",
    "   # print(\"Please enter rows and column numer same\")"
   ]
  },
  {
   "cell_type": "markdown",
   "id": "65a07101",
   "metadata": {},
   "source": [
    "# #Program-4 Printing Right Triangle Star Pattern"
   ]
  },
  {
   "cell_type": "markdown",
   "id": "cf207a07",
   "metadata": {},
   "source": [
    "# Algorithm"
   ]
  },
  {
   "cell_type": "markdown",
   "id": "8d76a78c",
   "metadata": {},
   "source": [
    "Step 1. Start\n",
    "\n",
    "Step 2. Take number of rows as input from the user and stored it into num.\n",
    "\n",
    "Step 3. Run a for loop starting from 0 to user entered num value.\n",
    "\n",
    "Step 4. Inside for loop, Run a loop ‘i’ number of times to iterate through all the rows which starting from 0 to i+1.\n",
    "\n",
    "Step 5. Print ‘*’ inside the nested loop to print ‘*’s in all the columns of a row.\n",
    "\n",
    "Step 6. Move to the next line by printing a new line using print() function.\n",
    "\n",
    "Stop 7. Stop"
   ]
  },
  {
   "cell_type": "markdown",
   "id": "eae3d21f",
   "metadata": {},
   "source": [
    "# Code"
   ]
  },
  {
   "cell_type": "code",
   "execution_count": 73,
   "id": "4f3d4577",
   "metadata": {},
   "outputs": [
    {
     "name": "stdout",
     "output_type": "stream",
     "text": [
      "Enter the number4\n",
      "*\n",
      "**\n",
      "***\n",
      "****\n"
     ]
    }
   ],
   "source": [
    "num = int(input(\"Enter the number\"))\n",
    "\n",
    "for i in range(0,num):\n",
    "    for j in range(0,i+1):\n",
    "        print(\"*\",end=\"\")\n",
    "    print()       "
   ]
  },
  {
   "cell_type": "markdown",
   "id": "7703cdce",
   "metadata": {},
   "source": [
    "# #Program-5 Printing Pyramid Star Pattern"
   ]
  },
  {
   "cell_type": "markdown",
   "id": "e0cb19ac",
   "metadata": {},
   "source": [
    "# Algorithm"
   ]
  },
  {
   "cell_type": "markdown",
   "id": "498e8183",
   "metadata": {},
   "source": [
    "Step 1. Start\n",
    "\n",
    "Step 2. Take number of rows as input from the user and stored it into num.\n",
    "\n",
    "Step 3. Run a loop ‘i’ number of times to iterate through all the rows which is Starting from i=0 to num. \n",
    "\n",
    "Step 4. Run a nested loop inside the main loop for printing spaces which is starting from j=0 to num-i-1.\n",
    "\n",
    "Step 5. Run a nested loop inside the main loop for printing stars which is starting from j=0 to i*2+1.\n",
    "\n",
    "Step 6. Move to the next line by printing a new line using print() function.\n",
    "\n",
    "Stop 10. Stop"
   ]
  },
  {
   "cell_type": "code",
   "execution_count": 88,
   "id": "0328ab5f",
   "metadata": {},
   "outputs": [
    {
     "name": "stdout",
     "output_type": "stream",
     "text": [
      "Enter the number4\n",
      "   *\n",
      "  ***\n",
      " *****\n",
      "*******\n"
     ]
    }
   ],
   "source": [
    "num = int(input(\"Enter the number\"))\n",
    "\n",
    "for i in range(0,num):\n",
    "    for j in range(0,num-i-1):\n",
    "        print(\" \",end=\"\")\n",
    "        \n",
    "    for j in range(0,i*2+1):\n",
    "        print(\"*\",end=\"\")\n",
    "    print()    "
   ]
  },
  {
   "cell_type": "markdown",
   "id": "ea672925",
   "metadata": {},
   "source": [
    "# Program-6 Printing Hollow Pyramid Star Pattern"
   ]
  },
  {
   "cell_type": "markdown",
   "id": "acd9e8ef",
   "metadata": {},
   "source": [
    "# Method-1"
   ]
  },
  {
   "cell_type": "code",
   "execution_count": 1,
   "id": "060420f1",
   "metadata": {},
   "outputs": [
    {
     "name": "stdout",
     "output_type": "stream",
     "text": [
      "Enter the number5\n",
      "     *\n",
      "    * *\n",
      "   *   *\n",
      "  *     *\n",
      " *********\n"
     ]
    }
   ],
   "source": [
    "row = int(input(\"Enter the number\"))\n",
    "if 3<=row<=50:        \n",
    "    for i in range(row):\n",
    "        for j in range(row - i):\n",
    "            # prints left space in the same row\n",
    "            print(' ', end='')\n",
    "\n",
    "        for j in range(2 * i + 1):\n",
    "            # printing the left boundary of triangle\n",
    "            if j == 0:\n",
    "                print('*', end='')\n",
    "\n",
    "                # printing the right boundary of triangle\n",
    "            elif j == 2 * i:\n",
    "                print('*', end='')\n",
    "\n",
    "                # printing the bottom boundary of triangle\n",
    "            elif i == row - 1:\n",
    "                print('*', end='')\n",
    "\n",
    "            # printing spaces in the middle of the triangle\n",
    "            else:\n",
    "                print(' ', end='')\n",
    "\n",
    "        print()  # printing new line\n",
    "    \n",
    "else:\n",
    "    print(\"enter number bertween 3 and 50\")"
   ]
  },
  {
   "cell_type": "code",
   "execution_count": null,
   "id": "e49fb646",
   "metadata": {},
   "outputs": [],
   "source": []
  },
  {
   "cell_type": "code",
   "execution_count": 3,
   "id": "a673b926",
   "metadata": {},
   "outputs": [
    {
     "name": "stdout",
     "output_type": "stream",
     "text": [
      "Enter the number of rats7\n",
      "enter the no. of units2\n",
      "8\n",
      "2,8,3,5,7,4,1,2\n"
     ]
    },
    {
     "ename": "ValueError",
     "evalue": "invalid literal for int() with base 10: '2,8,3,5,7,4,1,2'",
     "output_type": "error",
     "traceback": [
      "\u001b[1;31m---------------------------------------------------------------------------\u001b[0m",
      "\u001b[1;31mValueError\u001b[0m                                Traceback (most recent call last)",
      "\u001b[1;32m~\\AppData\\Local\\Temp/ipykernel_6024/2425355888.py\u001b[0m in \u001b[0;36m<module>\u001b[1;34m\u001b[0m\n\u001b[0;32m     20\u001b[0m \u001b[0mn\u001b[0m \u001b[1;33m=\u001b[0m \u001b[0mint\u001b[0m\u001b[1;33m(\u001b[0m\u001b[0minput\u001b[0m\u001b[1;33m(\u001b[0m\u001b[1;33m)\u001b[0m\u001b[1;33m)\u001b[0m\u001b[1;33m\u001b[0m\u001b[1;33m\u001b[0m\u001b[0m\n\u001b[0;32m     21\u001b[0m \u001b[1;33m\u001b[0m\u001b[0m\n\u001b[1;32m---> 22\u001b[1;33m \u001b[0marr\u001b[0m \u001b[1;33m=\u001b[0m \u001b[0mlist\u001b[0m\u001b[1;33m(\u001b[0m\u001b[0mmap\u001b[0m\u001b[1;33m(\u001b[0m\u001b[0mint\u001b[0m\u001b[1;33m,\u001b[0m\u001b[0minput\u001b[0m\u001b[1;33m(\u001b[0m\u001b[1;33m)\u001b[0m\u001b[1;33m.\u001b[0m\u001b[0msplit\u001b[0m\u001b[1;33m(\u001b[0m\u001b[1;33m)\u001b[0m\u001b[1;33m)\u001b[0m\u001b[1;33m)\u001b[0m\u001b[1;33m\u001b[0m\u001b[1;33m\u001b[0m\u001b[0m\n\u001b[0m\u001b[0;32m     23\u001b[0m \u001b[0mprint\u001b[0m\u001b[1;33m(\u001b[0m\u001b[0mcalculate\u001b[0m\u001b[1;33m(\u001b[0m\u001b[0mr\u001b[0m\u001b[1;33m,\u001b[0m\u001b[0munit\u001b[0m\u001b[1;33m,\u001b[0m\u001b[0marr\u001b[0m\u001b[1;33m,\u001b[0m\u001b[0mn\u001b[0m\u001b[1;33m)\u001b[0m\u001b[1;33m)\u001b[0m\u001b[1;33m\u001b[0m\u001b[1;33m\u001b[0m\u001b[0m\n",
      "\u001b[1;31mValueError\u001b[0m: invalid literal for int() with base 10: '2,8,3,5,7,4,1,2'"
     ]
    }
   ],
   "source": [
    "def calculate(r,unit,arr,n):\n",
    "    if n==0:\n",
    "        return -1\n",
    "    \n",
    "    totalFoodRequired = r*unit\n",
    "    foodTillNow = 0\n",
    "    house = 0\n",
    "    for house in range(n):\n",
    "        foodTillNow += arr[house]\n",
    "        if foodTillNow >= totalFoodRequired:\n",
    "            break\n",
    "            \n",
    "    if totalFoodRequiered > foodTillNow:\n",
    "        return 0\n",
    "    \n",
    "    return house + 1\n",
    "\n",
    "r = int(input(\"Enter the number of rats\"))\n",
    "unit = int(input(\"enter the no. of units\"))\n",
    "n = int(input())\n",
    "\n",
    "arr = list(map(int,input().split()))\n",
    "print(calculate(r,unit,arr,n))"
   ]
  },
  {
   "cell_type": "code",
   "execution_count": 4,
   "id": "b137799f",
   "metadata": {},
   "outputs": [
    {
     "name": "stdout",
     "output_type": "stream",
     "text": [
      "7\n",
      "2\n",
      "8\n",
      "2 8 3 5 7 4 1 2\n",
      "4\n"
     ]
    }
   ],
   "source": [
    "def calculate(r,unit,arr,n):\n",
    "    if n==0:\n",
    "        return -1\n",
    "\n",
    "    totalFoodRequired=r*unit\n",
    "    foodTillNow=0\n",
    "    house=0\n",
    "\n",
    "    for house in range(n):\n",
    "        foodTillNow+=arr[house]\n",
    "        if foodTillNow >= totalFoodRequired:\n",
    "            break\n",
    "\n",
    "    if totalFoodRequired > foodTillNow:\n",
    "        return 0\n",
    "\n",
    "    return house+1\n",
    "\n",
    "r = int(input())\n",
    "unit = int(input())\n",
    "n = int(input())\n",
    "\n",
    "arr = list(map(int,input().split()))\n",
    "print(calculate(r,unit,arr,n))"
   ]
  },
  {
   "cell_type": "code",
   "execution_count": null,
   "id": "d52d093b",
   "metadata": {},
   "outputs": [],
   "source": []
  },
  {
   "cell_type": "code",
   "execution_count": null,
   "id": "37f62dc4",
   "metadata": {},
   "outputs": [],
   "source": [
    "def CheckPassword(s,n):\n",
    "    if n<4:\n",
    "        return 0\n",
    "    if s[0].isdigit():\n",
    "        return 0\n",
    "    cap = 0\n",
    "    nu = 0\n",
    "    for i in range(n):\n",
    "        if s[i] == ' ' or s[i] == '/':\n",
    "            return 0\n",
    "        if s[i] >= 'A' and s[i] <= 'Z':\n",
    "            cap += 1\n",
    "            \n",
    "        elif s[i].isdigit():\n",
    "            nu += 1\n",
    "            \n",
    "    if cap > 0 and nu > 0:\n",
    "        return print(\"correct format\")\n",
    "    else:\n",
    "        return print(\"Wrong format\")\n",
    "    \n",
    "s = input(\"Enter the password\")\n",
    "a = len(s)\n",
    "print(CheckPassword(s,a))"
   ]
  },
  {
   "cell_type": "markdown",
   "id": "47f3c097",
   "metadata": {},
   "source": [
    "# Sample of Sequential Search"
   ]
  },
  {
   "cell_type": "code",
   "execution_count": 1,
   "id": "f42f5aa4",
   "metadata": {},
   "outputs": [],
   "source": [
    "def ordered_sequential_search(a_list, item):\n",
    "    pos = 0\n",
    "    found = False\n",
    "    stop = False\n",
    "    while pos < len(a_list) and not found and not stop:\n",
    "        if a_list[pos] == item:\n",
    "            found = True\n",
    "        else:\n",
    "            if a_list[pos] > item:\n",
    "                stop = True\n",
    "            else:\n",
    "                pos = pos+1\n",
    "    return found\n",
    "test_list = [0, 1, 2, 8, 13, 17, 19, 32, 42,]\n",
    "print(ordered_sequential_search(test_list, 3))\n",
    "print(ordered_sequential_search(test_list, 13))    "
   ]
  },
  {
   "cell_type": "markdown",
   "id": "258e5243",
   "metadata": {},
   "source": [
    "# Sample of Binary Search"
   ]
  },
  {
   "cell_type": "code",
   "execution_count": 14,
   "id": "6b25f2b6",
   "metadata": {},
   "outputs": [
    {
     "name": "stdout",
     "output_type": "stream",
     "text": [
      "False\n",
      "True\n"
     ]
    }
   ],
   "source": [
    "def binary_search(a_list, item):\n",
    "    first = 0\n",
    "    last = len(a_list) - 1\n",
    "    found = False\n",
    "    while first <= last and not found:\n",
    "        midpoint = (first + last) // 2\n",
    "        if a_list[midpoint] == item:\n",
    "            found = True\n",
    "        else:\n",
    "            if item < a_list[midpoint]:\n",
    "                last = midpoint - 1\n",
    "            else:\n",
    "                first = midpoint + 1\n",
    "    return found\n",
    "test_list = [0, 1, 2, 8, 13, 17, 19, 32, 42,]\n",
    "print(binary_search(test_list, 3))\n",
    "print(binary_search(test_list, 13))\n"
   ]
  },
  {
   "cell_type": "code",
   "execution_count": null,
   "id": "9703d7d7",
   "metadata": {},
   "outputs": [],
   "source": []
  },
  {
   "cell_type": "markdown",
   "id": "19d5208f",
   "metadata": {},
   "source": [
    "# Practice DSP External"
   ]
  },
  {
   "cell_type": "code",
   "execution_count": 35,
   "id": "2aa232ba",
   "metadata": {},
   "outputs": [
    {
     "name": "stdout",
     "output_type": "stream",
     "text": [
      "Enter the number: 3\n",
      "Factorial is 6\n"
     ]
    }
   ],
   "source": [
    "n= int(input(\"Enter the number: \"))\n",
    "f = 1\n",
    "while n>0:\n",
    "    f = f*n\n",
    "    n = n-1\n",
    "print(\"Factorial is\",f)    "
   ]
  },
  {
   "cell_type": "code",
   "execution_count": 109,
   "id": "a76a9197",
   "metadata": {},
   "outputs": [
    {
     "name": "stdout",
     "output_type": "stream",
     "text": [
      "Enter the number: 5\n",
      "Factorial is  120\n"
     ]
    }
   ],
   "source": [
    "n = int(input(\"Enter the number: \"))\n",
    "f = 1 \n",
    "for i in range(1,n+1):\n",
    "    f = f*i\n",
    "print(\"Factorial is \",f)    "
   ]
  },
  {
   "cell_type": "code",
   "execution_count": 129,
   "id": "3965e55d",
   "metadata": {},
   "outputs": [
    {
     "name": "stdout",
     "output_type": "stream",
     "text": [
      "1 2 3 4 5 \n",
      "1 2 3 4 5 \n",
      "1 2 3 4 5 \n",
      "1 2 3 4 5 \n",
      "1 2 3 4 5 \n"
     ]
    }
   ],
   "source": [
    "for i in range(1,6):\n",
    "    for j in range(1,6):\n",
    "        print(j,end=\" \")\n",
    "    print(\"\")    "
   ]
  },
  {
   "cell_type": "code",
   "execution_count": 160,
   "id": "55cb8d0c",
   "metadata": {},
   "outputs": [
    {
     "name": "stdout",
     "output_type": "stream",
     "text": [
      "* * * * * \n",
      "* * * * * \n",
      "* * * * * \n",
      "* * * * * \n",
      "* * * * * \n"
     ]
    }
   ],
   "source": [
    "for i in range(1,6):\n",
    "    for j in range(1,6):\n",
    "        print(\"*\",end=\" \")\n",
    "    print(\"\")"
   ]
  },
  {
   "cell_type": "code",
   "execution_count": 157,
   "id": "0055c1f2",
   "metadata": {},
   "outputs": [
    {
     "name": "stdout",
     "output_type": "stream",
     "text": [
      "* * * * * \n",
      "*       * \n",
      "*       * \n",
      "*       * \n",
      "* * * * * \n"
     ]
    }
   ],
   "source": [
    "for i in range(1,6):\n",
    "    for j in range(1,6):\n",
    "        if i == 1 or j == 1 or i == 5 or j == 5:\n",
    "            print(\"*\", end=\" \")\n",
    "        else:\n",
    "            print(\" \", end=\" \")\n",
    "    print(\"\")        "
   ]
  },
  {
   "cell_type": "code",
   "execution_count": 171,
   "id": "1dc82b78",
   "metadata": {},
   "outputs": [
    {
     "name": "stdout",
     "output_type": "stream",
     "text": [
      "* * * * * \n",
      "* *     * \n",
      "*   *   * \n",
      "*     * * \n",
      "* * * * * \n"
     ]
    }
   ],
   "source": [
    "for i in range(1,6):\n",
    "    for j in range(1,6):\n",
    "        if i == j:\n",
    "            print(\"*\",end=\" \")\n",
    "        elif i == 1 or j == 1 or i == 5 or j == 5:\n",
    "            print(\"*\",end=\" \")\n",
    "        else:\n",
    "            print(\" \",end=\" \")\n",
    "    print(\"\")    "
   ]
  },
  {
   "cell_type": "code",
   "execution_count": 174,
   "id": "4f838985",
   "metadata": {},
   "outputs": [
    {
     "name": "stdout",
     "output_type": "stream",
     "text": [
      "$ * * * * \n",
      "* $     * \n",
      "*   $   * \n",
      "*     $ * \n",
      "* * * * $ \n"
     ]
    }
   ],
   "source": [
    "for i in range(1,6):\n",
    "    for j in range(1,6):\n",
    "        if i == j:\n",
    "            print(\"$\",end=\" \")\n",
    "        elif i == 1 or j == 1 or i == 5 or j == 5:\n",
    "            print(\"*\",end=\" \")\n",
    "        else:\n",
    "            print(\" \",end=\" \")\n",
    "    print(\"\") "
   ]
  },
  {
   "cell_type": "code",
   "execution_count": 8,
   "id": "d9fd31b8",
   "metadata": {},
   "outputs": [
    {
     "name": "stdout",
     "output_type": "stream",
     "text": [
      "***\n",
      "*\n",
      "*\n",
      "*\n",
      "***\n"
     ]
    }
   ],
   "source": [
    "for i in range(1,6):\n",
    "    for j in range(1,4):\n",
    "        if i ==1 or j ==1 or i ==5:\n",
    "            print(\"*\",end=\"\")\n",
    "        else:\n",
    "            print(\"\",end=\"\")\n",
    "    print(\"\")        "
   ]
  },
  {
   "cell_type": "code",
   "execution_count": 9,
   "id": "fdbce152",
   "metadata": {},
   "outputs": [
    {
     "ename": "SyntaxError",
     "evalue": "invalid syntax (Temp/ipykernel_9904/622676115.py, line 6)",
     "output_type": "error",
     "traceback": [
      "\u001b[1;36m  File \u001b[1;32m\"C:\\Users\\user\\AppData\\Local\\Temp/ipykernel_9904/622676115.py\"\u001b[1;36m, line \u001b[1;32m6\u001b[0m\n\u001b[1;33m    print\"*\"\u001b[0m\n\u001b[1;37m         ^\u001b[0m\n\u001b[1;31mSyntaxError\u001b[0m\u001b[1;31m:\u001b[0m invalid syntax\n"
     ]
    }
   ],
   "source": [
    "for i in range(1,6):\n",
    "    for j in range(1,4):\n",
    "        if i ==2 or j ==1:\n",
    "            print(\"*\",end=\"\")\n",
    "        elif i ==4 or j ==3:\n",
    "            print\"*\"\n",
    "        elif i == 1 or i ==3 or i == 5:\n",
    "            print(\"*\")\n",
    "        else:\n",
    "            print(\" \")\n",
    "    print(\"\")       "
   ]
  },
  {
   "cell_type": "code",
   "execution_count": 4,
   "id": "f4f6fc50",
   "metadata": {},
   "outputs": [
    {
     "name": "stdout",
     "output_type": "stream",
     "text": [
      "1990\n",
      "False\n"
     ]
    }
   ],
   "source": [
    "def is_leap(year):\n",
    "    leap = False\n",
    "    \n",
    "    while year % 400 == 0:\n",
    "        leap = True\n",
    "        return True\n",
    "    \n",
    "    return leap\n",
    "\n",
    "year = int(input())\n",
    "print(is_leap(year))"
   ]
  },
  {
   "cell_type": "code",
   "execution_count": null,
   "id": "ae6a0eaf",
   "metadata": {},
   "outputs": [],
   "source": [
    "def is_leap(year):\n",
    "    leap = False\n",
    "    \n",
    "    while year < 100000:\n",
    "        if year % 4 == 0 and year % 400 == 0:\n",
    "            leap = True\n",
    "            return True\n",
    "        elif year % 400 == 0:\n",
    "            return False\n",
    "        elif year % 100 == 0 and year % 400 == 0:\n",
    "            return False\n",
    "        else:\n",
    "            return False\n",
    "    \n",
    "    return leap\n",
    "\n",
    "year = int(input())\n",
    "print(is_leap(year))"
   ]
  },
  {
   "cell_type": "code",
   "execution_count": null,
   "id": "a32e08b3",
   "metadata": {},
   "outputs": [],
   "source": []
  },
  {
   "cell_type": "code",
   "execution_count": 6,
   "id": "4a504377",
   "metadata": {},
   "outputs": [],
   "source": [
    "def add(x,y):\n",
    "    c = x + y\n",
    "    return c"
   ]
  },
  {
   "cell_type": "code",
   "execution_count": 7,
   "id": "2acb58b2",
   "metadata": {},
   "outputs": [
    {
     "data": {
      "text/plain": [
       "70"
      ]
     },
     "execution_count": 7,
     "metadata": {},
     "output_type": "execute_result"
    }
   ],
   "source": [
    "add(6,8) * 5"
   ]
  },
  {
   "cell_type": "code",
   "execution_count": 4,
   "id": "0bb66c0f",
   "metadata": {},
   "outputs": [
    {
     "name": "stdout",
     "output_type": "stream",
     "text": [
      "\n"
     ]
    },
    {
     "data": {
      "text/plain": [
       "NoneType"
      ]
     },
     "execution_count": 4,
     "metadata": {},
     "output_type": "execute_result"
    }
   ],
   "source": [
    "type(print())"
   ]
  },
  {
   "cell_type": "code",
   "execution_count": 8,
   "id": "e8475f32",
   "metadata": {},
   "outputs": [],
   "source": []
  },
  {
   "cell_type": "code",
   "execution_count": 14,
   "id": "a9be367b",
   "metadata": {},
   "outputs": [
    {
     "data": {
      "text/plain": [
       "43"
      ]
     },
     "execution_count": 14,
     "metadata": {},
     "output_type": "execute_result"
    }
   ],
   "source": [
    "x = (2,5,8,9,1,3,15)\n",
    "def add(*x):\n",
    "    c = 0\n",
    "    \n",
    "    for i in x:\n",
    "        c = c + i\n",
    "    return c\n",
    "add(2,5,8,9,1,3,15)    "
   ]
  },
  {
   "cell_type": "code",
   "execution_count": null,
   "id": "884d8fd4",
   "metadata": {},
   "outputs": [],
   "source": []
  }
 ],
 "metadata": {
  "kernelspec": {
   "display_name": "Python 3 (ipykernel)",
   "language": "python",
   "name": "python3"
  },
  "language_info": {
   "codemirror_mode": {
    "name": "ipython",
    "version": 3
   },
   "file_extension": ".py",
   "mimetype": "text/x-python",
   "name": "python",
   "nbconvert_exporter": "python",
   "pygments_lexer": "ipython3",
   "version": "3.9.7"
  }
 },
 "nbformat": 4,
 "nbformat_minor": 5
}
